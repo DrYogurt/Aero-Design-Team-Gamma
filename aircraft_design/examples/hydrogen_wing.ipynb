{
 "cells": [
  {
   "cell_type": "code",
   "execution_count": 2,
   "metadata": {},
   "outputs": [],
   "source": [
    "from ambiance import Atmosphere\n",
    "import numpy as np\n",
    "\n",
    "from global_variables.solver import EquationSystem\n",
    "from global_variables.registry import VariableRegistry, Variable\n",
    "\n",
    "registry = VariableRegistry(\"aero_vars.yaml\")"
   ]
  },
  {
   "cell_type": "code",
   "execution_count": 8,
   "metadata": {},
   "outputs": [
    {
     "name": "stdout",
     "output_type": "stream",
     "text": [
      "17612.52446183953\n",
      "Max Weight: 1086568.5319991268\n",
      "Fuel Weight: 258725.00000000012\n",
      "Fuel Volume: 58376.579422382696\n"
     ]
    }
   ],
   "source": [
    "system = EquationSystem(registry, targets={'R','W_f'})\n",
    "R_solver = system.create_solver()\n",
    "\n",
    "def velocity(M,h):\n",
    "  atmo = Atmosphere(h * 0.3048)\n",
    "  return atmo.speed_of_sound[-1] * M / 0.3048\n",
    "def rho_func(h):\n",
    "  atmo = Atmosphere(h * 0.3048)\n",
    "  return atmo.density[-1] * 0.00194032\n",
    "\n",
    "AR = 5.11\n",
    "b = 300\n",
    "S_ref = b**2 / AR\n",
    "print(S_ref)\n",
    "args = {\n",
    "    \"C_D0\":0.01,\n",
    "    \"S_\":S_ref,\n",
    "    \"TSFC\":.18/3600,\n",
    "    \"V\":velocity(M=.9,h=3.7e4),\n",
    "    #\"W_max\":2e6,\n",
    "    \"W_pax\":205,\n",
    "    \"We_Wmax\":.57,\n",
    "    \"b\":b,\n",
    "    \"e\":0.897,\n",
    "    \"n_pax\":1255,\n",
    "    \"rho_h\":rho_func(3.7e4)\n",
    "}\n",
    "\n",
    "from scipy.optimize import minimize\n",
    "def find_max_weight(desired_range,max_weight=2e6,**kwargs):\n",
    "    return minimize(\n",
    "        lambda w_max: (R_solver['R'](W_max=w_max,**kwargs) - desired_range)**2,\n",
    "        x0=max_weight,\n",
    "        #method=\"Nelder-Mead\"\n",
    "    )\n",
    "out = find_max_weight(1e4*6076.12,max_weight=1.1e6,**args)\n",
    "print(f\"Max Weight: {out['x'][0]}\")\n",
    "fuel_weight = R_solver['W_f'](W_max=1.2e6,**args)\n",
    "print(f\"Fuel Weight: {fuel_weight}\")\n",
    "fuel_volume = fuel_weight / 4.432\n",
    "print(f\"Fuel Volume: {fuel_volume}\")"
   ]
  },
  {
   "cell_type": "code",
   "execution_count": 4,
   "metadata": {},
   "outputs": [
    {
     "data": {
      "text/plain": [
       "257275"
      ]
     },
     "execution_count": 4,
     "metadata": {},
     "output_type": "execute_result"
    }
   ],
   "source": [
    "205*1255"
   ]
  },
  {
   "cell_type": "code",
   "execution_count": 5,
   "metadata": {},
   "outputs": [],
   "source": [
    "from aircraft_design.core.base import Component, Position\n",
    "\n",
    "\n",
    "class WingBody(Component):\n",
    "    \"\"\"Wing-body aircraft configuration\"\"\"\n",
    "    def __init__(self, name: str):\n",
    "        super().__init__(name)\n",
    "        self.configuration: Dict[str, Any] = {}\n",
    "    \n",
    "    \n"
   ]
  }
 ],
 "metadata": {
  "kernelspec": {
   "display_name": "aerospace-design-team-gamma-QogS2DLM-py3.13",
   "language": "python",
   "name": "python3"
  },
  "language_info": {
   "codemirror_mode": {
    "name": "ipython",
    "version": 3
   },
   "file_extension": ".py",
   "mimetype": "text/x-python",
   "name": "python",
   "nbconvert_exporter": "python",
   "pygments_lexer": "ipython3",
   "version": "3.13.1"
  }
 },
 "nbformat": 4,
 "nbformat_minor": 2
}
