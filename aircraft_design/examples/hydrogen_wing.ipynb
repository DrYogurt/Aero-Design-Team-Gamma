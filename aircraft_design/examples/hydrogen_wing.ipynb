{
 "cells": [
  {
   "cell_type": "code",
   "execution_count": 1,
   "metadata": {},
   "outputs": [],
   "source": [
    "from ambiance import Atmosphere\n",
    "import numpy as np\n",
    "\n",
    "from global_variables.solver import EquationSystem\n",
    "from global_variables.registry import VariableRegistry, Variable\n",
    "\n",
    "registry = VariableRegistry(\"aero_vars.yaml\")"
   ]
  },
  {
   "cell_type": "code",
   "execution_count": 6,
   "metadata": {},
   "outputs": [
    {
     "name": "stdout",
     "output_type": "stream",
     "text": [
      "11250.0\n",
      "Max Weight: 927564.5978951582\n",
      "Fuel Weight: 206712.2989475791\n",
      "Fuel Volume: 46640.86167589781\n"
     ]
    }
   ],
   "source": [
    "system = EquationSystem(registry, targets={'R','W_f'})\n",
    "R_solver = system.create_solver()\n",
    "\n",
    "def velocity(M,h):\n",
    "  atmo = Atmosphere(h * 0.3048)\n",
    "  return atmo.speed_of_sound[-1] * M / 0.3048\n",
    "def rho_func(h):\n",
    "  atmo = Atmosphere(h * 0.3048)\n",
    "  return atmo.density[-1] * 0.00194032\n",
    "\n",
    "AR = 8\n",
    "b = 300\n",
    "S_ref = b**2 / AR\n",
    "print(S_ref)\n",
    "args = {\n",
    "    \"C_D0\":0.017,\n",
    "    \"S_\":S_ref,\n",
    "    \"TSFC\":.18/3600,\n",
    "    \"V\":velocity(M=.87,h=3.7e4),\n",
    "    #\"W_max\":2e6,\n",
    "    \"W_pax\":205,\n",
    "    \"We_Wmax\":.5,\n",
    "    \"b\":b,\n",
    "    \"e\":0.9,\n",
    "    \"n_pax\":1254,\n",
    "    \"rho_h\":rho_func(3.7e4)\n",
    "}\n",
    "\n",
    "from scipy.optimize import minimize\n",
    "def find_max_weight(desired_range,max_weight=2e6,**kwargs):\n",
    "    return minimize(\n",
    "        lambda w_max: (R_solver['R'](W_max=w_max,**kwargs) - desired_range)**2,\n",
    "        x0=max_weight,\n",
    "        #method=\"Nelder-Mead\"\n",
    "    )\n",
    "out = find_max_weight(1e4*6076.12,max_weight=1.75e6,**args)\n",
    "print(f\"Max Weight: {out['x'][0]}\")\n",
    "fuel_weight = R_solver['W_f'](W_max=out['x'],**args)[0]\n",
    "print(f\"Fuel Weight: {fuel_weight}\")\n",
    "fuel_volume = fuel_weight / 4.432\n",
    "print(f\"Fuel Volume: {fuel_volume}\")"
   ]
  },
  {
   "cell_type": "code",
   "execution_count": null,
   "metadata": {},
   "outputs": [],
   "source": [
    "from aircraft_design.core.base import Component, Position\n",
    "\n",
    "\n",
    "class WingBody(Component):\n",
    "    \"\"\"Wing-body aircraft configuration\"\"\"\n",
    "    def __init__(self, name: str):\n",
    "        super().__init__(name)\n",
    "        self.configuration: Dict[str, Any] = {}\n",
    "    \n",
    "    \n"
   ]
  }
 ],
 "metadata": {
  "kernelspec": {
   "display_name": "aerospace-design-team-gamma-QogS2DLM-py3.13",
   "language": "python",
   "name": "python3"
  },
  "language_info": {
   "codemirror_mode": {
    "name": "ipython",
    "version": 3
   },
   "file_extension": ".py",
   "mimetype": "text/x-python",
   "name": "python",
   "nbconvert_exporter": "python",
   "pygments_lexer": "ipython3",
   "version": "3.13.1"
  }
 },
 "nbformat": 4,
 "nbformat_minor": 2
}
