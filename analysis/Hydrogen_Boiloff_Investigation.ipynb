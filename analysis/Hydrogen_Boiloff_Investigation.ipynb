{
  "cells": [
    {
      "cell_type": "code",
      "source": [
        "!git clone https://github.com/DrYogurt/Aero-Design-Team-Gamma.git\n",
        "!pip install poetry==1.4.2"
      ],
      "metadata": {
        "id": "HyHr-hLtKLt9"
      },
      "id": "HyHr-hLtKLt9",
      "execution_count": null,
      "outputs": []
    },
    {
      "cell_type": "code",
      "source": [
        "%cd Aero-Design-Team-Gamma\n",
        "!poetry config virtualenvs.in-project true\n",
        "!poetry install --no-ansi"
      ],
      "metadata": {
        "id": "3k7nCkvpKP-p"
      },
      "id": "3k7nCkvpKP-p",
      "execution_count": null,
      "outputs": []
    },
    {
      "cell_type": "code",
      "source": [
        "VENV_PATH = \"/content/Aero-Design-Team-Gamma/.venv/lib/python3.11/site-packages\"\n",
        "import os, sys\n",
        "LOCAL_VENV_PATH = '/content/venv' # local notebook\n",
        "os.symlink(VENV_PATH, LOCAL_VENV_PATH) # connect to directory in drive\n",
        "sys.path.insert(0, LOCAL_VENV_PATH)"
      ],
      "metadata": {
        "id": "mM9ONT73KSuC"
      },
      "id": "mM9ONT73KSuC",
      "execution_count": null,
      "outputs": []
    },
    {
      "cell_type": "code",
      "execution_count": null,
      "id": "0d4cfe80-5ac3-4ac4-894f-9c7663bd7782",
      "metadata": {
        "id": "0d4cfe80-5ac3-4ac4-894f-9c7663bd7782"
      },
      "outputs": [],
      "source": [
        "from hydrogen_boiloff import FluidProperties, TankGeometry, MaterialProperties,analyze_tank_thermal_performance"
      ]
    },
    {
      "cell_type": "code",
      "execution_count": null,
      "id": "9773b42a-4561-4ea5-8771-a9da48ec3376",
      "metadata": {
        "id": "9773b42a-4561-4ea5-8771-a9da48ec3376"
      },
      "outputs": [],
      "source": [
        "# Example materials (from paper's Appendix A)\n",
        "materials = {\n",
        "    \"outer_shell\": MaterialProperties(\n",
        "        thermal_conductivity=0.15,  # Carbon epoxy W/m*K\n",
        "        density=1.6,  # Approximate density\n",
        "        thickness=0.00127  # m\n",
        "    ),\n",
        "    \"mylar\": MaterialProperties(\n",
        "        thermal_conductivity=0.14,  # W/m*K\n",
        "        density=1.4,  # Approximate density\n",
        "        thickness=25.4e-6  # m\n",
        "    ),\n",
        "    \"insulation\": MaterialProperties(\n",
        "        thermal_conductivity=0.02594,  # EPS W/m*K\n",
        "        density=1.6229,  # lbs/ft3\n",
        "        thickness=0.1  # Initial guess in m\n",
        "    ),\n",
        "    \"inner_shell\": MaterialProperties(\n",
        "        thermal_conductivity=225.94,  # Aluminum W/m*K\n",
        "        density=2700,  # kg/m3\n",
        "        thickness=0.001778  # m\n",
        "    ),\n",
        "    \"lug\": MaterialProperties(\n",
        "        thermal_conductivity=0.25,  # Nylon W/m*K\n",
        "        density=1150,  # kg/m3\n",
        "        thickness=0.0254  # m (1 inch)\n",
        "    )\n",
        "}\n",
        "# Case 1: Cruise conditions, LH2 fuel use, full tank, 50% idle fuel usage\n",
        "conditions_cruise = {\n",
        "    \"ambient_temp\": 218.9,  # K (at 35,000 ft)\n",
        "    \"critical_temp\": 28.7,  # K\n",
        "    \"solar_flux\": 1367,  # W/m2\n",
        "    \"absorptivity\": 0.02,\n",
        "    \"cruise_velocity\": 232,  # m/s\n",
        "    \"h_vap\": 452.51 - 114.55  # kJ/kg\n",
        "}\n",
        "\n",
        "# Air properties at cruise\n",
        "air_cruise = FluidProperties(\n",
        "    density=0.38035,  # kg/m3\n",
        "    dynamic_viscosity=1.39e-5,  # kg*s/m\n",
        "    heat_capacity=1002,  # J/kg*K\n",
        "    thermal_conductivity=0.0241  # W/m*K\n",
        ")\n",
        "\n",
        "# Tank geometry\n",
        "tank = TankGeometry(\n",
        "    diameter=1.939,  # m\n",
        "    length=16.76  # m\n",
        ")\n",
        "\n",
        "# Target boiloff rate (50% of idle fuel usage = 173 lbs/hr)\n",
        "target_boiloff = 173  # lbs/hr"
      ]
    },
    {
      "cell_type": "code",
      "execution_count": null,
      "id": "216d58d7-3a1a-40be-9517-572ab2ed1e4e",
      "metadata": {
        "id": "216d58d7-3a1a-40be-9517-572ab2ed1e4e",
        "outputId": "1c3b72c6-7961-480d-925a-7d559f566c08"
      },
      "outputs": [
        {
          "name": "stdout",
          "output_type": "stream",
          "text": [
            "\n",
            "Cruise Conditions Validation:\n",
            "Paper thickness: 3.97 inches\n",
            "Calculated thickness: 3.94 inches\n",
            "Paper insulation weight: 624 lbs\n",
            "Calculated weight: 619 lbs\n"
          ]
        }
      ],
      "source": [
        "# Calculate results\n",
        "boiloff_rate, thickness = analyze_tank_thermal_performance(\n",
        "    tank=tank,\n",
        "    ambient_fluid=air_cruise,\n",
        "    materials=materials,\n",
        "    operating_conditions=conditions_cruise,\n",
        "    target_boiloff_rate=target_boiloff\n",
        ")\n",
        "\n",
        "# Print comparison\n",
        "print(\"\\nCruise Conditions Validation:\")\n",
        "print(f\"Paper thickness: 3.97 inches\")\n",
        "print(f\"Calculated thickness: {thickness/0.0254:.2f} inches\")\n",
        "print(f\"Paper insulation weight: 624 lbs\")\n",
        "#print(f\"Tank  Surface Area: {tank.surface_area:.3f} m^2\")\n",
        "weight = tank.surface_area * thickness * materials[\"insulation\"].density * 3.28084**3  # m^3 to ft^3\n",
        "print(f\"Calculated weight: {weight:.0f} lbs\")"
      ]
    },
    {
      "cell_type": "code",
      "execution_count": null,
      "id": "d53a2bd1-abef-43e8-8107-22db3cba7cad",
      "metadata": {
        "id": "d53a2bd1-abef-43e8-8107-22db3cba7cad"
      },
      "outputs": [],
      "source": []
    }
  ],
  "metadata": {
    "kernelspec": {
      "display_name": "Python 3 (ipykernel)",
      "language": "python",
      "name": "python3"
    },
    "language_info": {
      "codemirror_mode": {
        "name": "ipython",
        "version": 3
      },
      "file_extension": ".py",
      "mimetype": "text/x-python",
      "name": "python",
      "nbconvert_exporter": "python",
      "pygments_lexer": "ipython3",
      "version": "3.13.1"
    },
    "colab": {
      "provenance": []
    }
  },
  "nbformat": 4,
  "nbformat_minor": 5
}