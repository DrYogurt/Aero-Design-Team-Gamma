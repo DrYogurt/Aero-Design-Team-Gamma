{
  "cells": [
    {
      "cell_type": "markdown",
      "source": [
        "## Run Once in Colab"
      ],
      "metadata": {
        "id": "0zAN--JmsPIv"
      },
      "id": "0zAN--JmsPIv"
    },
    {
      "cell_type": "code",
      "source": [
        "!git clone https://github.com/DrYogurt/Aero-Design-Team-Gamma.git\n",
        "!pip install poetry==1.4.2"
      ],
      "metadata": {
        "collapsed": true,
        "colab": {
          "base_uri": "https://localhost:8080/",
          "height": 1000
        },
        "id": "nkkTwd22sOyR",
        "outputId": "a998bef0-3b15-42af-eb10-8ffb1f8b33a9"
      },
      "id": "nkkTwd22sOyR",
      "execution_count": null,
      "outputs": [
        {
          "output_type": "stream",
          "name": "stdout",
          "text": [
            "Cloning into 'Aero-Design-Team-Gamma'...\n",
            "remote: Enumerating objects: 281, done.\u001b[K\n",
            "remote: Counting objects: 100% (27/27), done.\u001b[K\n",
            "remote: Compressing objects: 100% (21/21), done.\u001b[K\n",
            "remote: Total 281 (delta 9), reused 15 (delta 6), pack-reused 254 (from 1)\u001b[K\n",
            "Receiving objects: 100% (281/281), 41.62 MiB | 11.99 MiB/s, done.\n",
            "Resolving deltas: 100% (123/123), done.\n",
            "Collecting poetry==1.4.2\n",
            "  Downloading poetry-1.4.2-py3-none-any.whl.metadata (7.1 kB)\n",
            "Collecting build<0.11.0,>=0.10.0 (from poetry==1.4.2)\n",
            "  Downloading build-0.10.0-py3-none-any.whl.metadata (4.1 kB)\n",
            "Collecting cachecontrol<0.13.0,>=0.12.9 (from cachecontrol[filecache]<0.13.0,>=0.12.9->poetry==1.4.2)\n",
            "  Downloading CacheControl-0.12.14-py2.py3-none-any.whl.metadata (2.2 kB)\n",
            "Collecting cleo<3.0.0,>=2.0.0 (from poetry==1.4.2)\n",
            "  Downloading cleo-2.1.0-py3-none-any.whl.metadata (12 kB)\n",
            "Collecting crashtest<0.5.0,>=0.4.1 (from poetry==1.4.2)\n",
            "  Downloading crashtest-0.4.1-py3-none-any.whl.metadata (1.1 kB)\n",
            "Collecting dulwich<0.22.0,>=0.21.2 (from poetry==1.4.2)\n",
            "  Downloading dulwich-0.21.7-cp311-cp311-manylinux_2_17_x86_64.manylinux2014_x86_64.whl.metadata (4.3 kB)\n",
            "Requirement already satisfied: filelock<4.0.0,>=3.8.0 in /usr/local/lib/python3.11/dist-packages (from poetry==1.4.2) (3.17.0)\n",
            "Requirement already satisfied: html5lib<2.0,>=1.0 in /usr/local/lib/python3.11/dist-packages (from poetry==1.4.2) (1.1)\n",
            "Collecting installer<0.8.0,>=0.7.0 (from poetry==1.4.2)\n",
            "  Downloading installer-0.7.0-py3-none-any.whl.metadata (936 bytes)\n",
            "Requirement already satisfied: jsonschema<5.0.0,>=4.10.0 in /usr/local/lib/python3.11/dist-packages (from poetry==1.4.2) (4.23.0)\n",
            "Collecting keyring<24.0.0,>=23.9.0 (from poetry==1.4.2)\n",
            "  Downloading keyring-23.13.1-py3-none-any.whl.metadata (20 kB)\n",
            "Collecting lockfile<0.13.0,>=0.12.2 (from poetry==1.4.2)\n",
            "  Downloading lockfile-0.12.2-py2.py3-none-any.whl.metadata (2.4 kB)\n",
            "Requirement already satisfied: packaging>=20.4 in /usr/local/lib/python3.11/dist-packages (from poetry==1.4.2) (24.2)\n",
            "Requirement already satisfied: pexpect<5.0.0,>=4.7.0 in /usr/local/lib/python3.11/dist-packages (from poetry==1.4.2) (4.9.0)\n",
            "Collecting pkginfo<2.0.0,>=1.9.4 (from poetry==1.4.2)\n",
            "  Downloading pkginfo-1.12.0-py3-none-any.whl.metadata (12 kB)\n",
            "Collecting platformdirs<3.0.0,>=2.5.2 (from poetry==1.4.2)\n",
            "  Downloading platformdirs-2.6.2-py3-none-any.whl.metadata (9.5 kB)\n",
            "Collecting poetry-core==1.5.2 (from poetry==1.4.2)\n",
            "  Downloading poetry_core-1.5.2-py3-none-any.whl.metadata (3.4 kB)\n",
            "Collecting poetry-plugin-export<2.0.0,>=1.3.0 (from poetry==1.4.2)\n",
            "  Downloading poetry_plugin_export-1.9.0-py3-none-any.whl.metadata (3.1 kB)\n",
            "Collecting pyproject-hooks<2.0.0,>=1.0.0 (from poetry==1.4.2)\n",
            "  Downloading pyproject_hooks-1.2.0-py3-none-any.whl.metadata (1.3 kB)\n",
            "Requirement already satisfied: requests<3.0,>=2.18 in /usr/local/lib/python3.11/dist-packages (from poetry==1.4.2) (2.32.3)\n",
            "Collecting requests-toolbelt<0.11.0,>=0.9.1 (from poetry==1.4.2)\n",
            "  Downloading requests_toolbelt-0.10.1-py2.py3-none-any.whl.metadata (14 kB)\n",
            "Requirement already satisfied: shellingham<2.0,>=1.5 in /usr/local/lib/python3.11/dist-packages (from poetry==1.4.2) (1.5.4)\n",
            "Collecting tomlkit!=0.11.2,!=0.11.3,<1.0.0,>=0.11.1 (from poetry==1.4.2)\n",
            "  Downloading tomlkit-0.13.2-py3-none-any.whl.metadata (2.7 kB)\n",
            "Collecting trove-classifiers>=2022.5.19 (from poetry==1.4.2)\n",
            "  Downloading trove_classifiers-2025.1.15.22-py3-none-any.whl.metadata (2.3 kB)\n",
            "Collecting urllib3<2.0.0,>=1.26.0 (from poetry==1.4.2)\n",
            "  Downloading urllib3-1.26.20-py2.py3-none-any.whl.metadata (50 kB)\n",
            "\u001b[2K     \u001b[90m━━━━━━━━━━━━━━━━━━━━━━━━━━━━━━━━━━━━━━━━\u001b[0m \u001b[32m50.1/50.1 kB\u001b[0m \u001b[31m1.5 MB/s\u001b[0m eta \u001b[36m0:00:00\u001b[0m\n",
            "\u001b[?25hCollecting virtualenv!=20.4.5,!=20.4.6,<21.0.0,>=20.4.3 (from poetry==1.4.2)\n",
            "  Downloading virtualenv-20.29.1-py3-none-any.whl.metadata (4.5 kB)\n",
            "Requirement already satisfied: msgpack>=0.5.2 in /usr/local/lib/python3.11/dist-packages (from cachecontrol<0.13.0,>=0.12.9->cachecontrol[filecache]<0.13.0,>=0.12.9->poetry==1.4.2) (1.1.0)\n",
            "Collecting rapidfuzz<4.0.0,>=3.0.0 (from cleo<3.0.0,>=2.0.0->poetry==1.4.2)\n",
            "  Downloading rapidfuzz-3.12.1-cp311-cp311-manylinux_2_17_x86_64.manylinux2014_x86_64.whl.metadata (11 kB)\n",
            "Requirement already satisfied: six>=1.9 in /usr/local/lib/python3.11/dist-packages (from html5lib<2.0,>=1.0->poetry==1.4.2) (1.17.0)\n",
            "Requirement already satisfied: webencodings in /usr/local/lib/python3.11/dist-packages (from html5lib<2.0,>=1.0->poetry==1.4.2) (0.5.1)\n",
            "Requirement already satisfied: attrs>=22.2.0 in /usr/local/lib/python3.11/dist-packages (from jsonschema<5.0.0,>=4.10.0->poetry==1.4.2) (25.1.0)\n",
            "Requirement already satisfied: jsonschema-specifications>=2023.03.6 in /usr/local/lib/python3.11/dist-packages (from jsonschema<5.0.0,>=4.10.0->poetry==1.4.2) (2024.10.1)\n",
            "Requirement already satisfied: referencing>=0.28.4 in /usr/local/lib/python3.11/dist-packages (from jsonschema<5.0.0,>=4.10.0->poetry==1.4.2) (0.36.2)\n",
            "Requirement already satisfied: rpds-py>=0.7.1 in /usr/local/lib/python3.11/dist-packages (from jsonschema<5.0.0,>=4.10.0->poetry==1.4.2) (0.22.3)\n",
            "Collecting jaraco.classes (from keyring<24.0.0,>=23.9.0->poetry==1.4.2)\n",
            "  Downloading jaraco.classes-3.4.0-py3-none-any.whl.metadata (2.6 kB)\n",
            "Requirement already satisfied: importlib-metadata>=4.11.4 in /usr/local/lib/python3.11/dist-packages (from keyring<24.0.0,>=23.9.0->poetry==1.4.2) (8.6.1)\n",
            "Requirement already satisfied: SecretStorage>=3.2 in /usr/lib/python3/dist-packages (from keyring<24.0.0,>=23.9.0->poetry==1.4.2) (3.3.1)\n",
            "Requirement already satisfied: jeepney>=0.4.2 in /usr/lib/python3/dist-packages (from keyring<24.0.0,>=23.9.0->poetry==1.4.2) (0.7.1)\n",
            "Requirement already satisfied: ptyprocess>=0.5 in /usr/local/lib/python3.11/dist-packages (from pexpect<5.0.0,>=4.7.0->poetry==1.4.2) (0.7.0)\n",
            "INFO: pip is looking at multiple versions of poetry-plugin-export to determine which version is compatible with other requirements. This could take a while.\n",
            "Collecting poetry-plugin-export<2.0.0,>=1.3.0 (from poetry==1.4.2)\n",
            "  Downloading poetry_plugin_export-1.8.0-py3-none-any.whl.metadata (2.8 kB)\n",
            "  Downloading poetry_plugin_export-1.7.1-py3-none-any.whl.metadata (2.8 kB)\n",
            "  Downloading poetry_plugin_export-1.7.0-py3-none-any.whl.metadata (2.8 kB)\n",
            "  Downloading poetry_plugin_export-1.6.0-py3-none-any.whl.metadata (2.8 kB)\n",
            "  Downloading poetry_plugin_export-1.5.0-py3-none-any.whl.metadata (2.7 kB)\n",
            "  Downloading poetry_plugin_export-1.4.0-py3-none-any.whl.metadata (2.6 kB)\n",
            "  Downloading poetry_plugin_export-1.3.1-py3-none-any.whl.metadata (2.6 kB)\n",
            "Requirement already satisfied: charset-normalizer<4,>=2 in /usr/local/lib/python3.11/dist-packages (from requests<3.0,>=2.18->poetry==1.4.2) (3.4.1)\n",
            "Requirement already satisfied: idna<4,>=2.5 in /usr/local/lib/python3.11/dist-packages (from requests<3.0,>=2.18->poetry==1.4.2) (3.10)\n",
            "Requirement already satisfied: certifi>=2017.4.17 in /usr/local/lib/python3.11/dist-packages (from requests<3.0,>=2.18->poetry==1.4.2) (2024.12.14)\n",
            "Collecting distlib<1,>=0.3.7 (from virtualenv!=20.4.5,!=20.4.6,<21.0.0,>=20.4.3->poetry==1.4.2)\n",
            "  Downloading distlib-0.3.9-py2.py3-none-any.whl.metadata (5.2 kB)\n",
            "INFO: pip is looking at multiple versions of virtualenv to determine which version is compatible with other requirements. This could take a while.\n",
            "Collecting virtualenv!=20.4.5,!=20.4.6,<21.0.0,>=20.4.3 (from poetry==1.4.2)\n",
            "  Downloading virtualenv-20.29.0-py3-none-any.whl.metadata (4.5 kB)\n",
            "  Downloading virtualenv-20.28.1-py3-none-any.whl.metadata (4.5 kB)\n",
            "  Downloading virtualenv-20.28.0-py3-none-any.whl.metadata (4.4 kB)\n",
            "  Downloading virtualenv-20.27.1-py3-none-any.whl.metadata (4.5 kB)\n",
            "  Downloading virtualenv-20.27.0-py3-none-any.whl.metadata (4.5 kB)\n",
            "  Downloading virtualenv-20.26.6-py3-none-any.whl.metadata (4.5 kB)\n",
            "  Downloading virtualenv-20.26.5-py3-none-any.whl.metadata (4.5 kB)\n",
            "INFO: pip is still looking at multiple versions of virtualenv to determine which version is compatible with other requirements. This could take a while.\n",
            "  Downloading virtualenv-20.26.4-py3-none-any.whl.metadata (4.5 kB)\n",
            "  Downloading virtualenv-20.26.3-py3-none-any.whl.metadata (4.5 kB)\n",
            "  Downloading virtualenv-20.26.2-py3-none-any.whl.metadata (4.4 kB)\n",
            "  Downloading virtualenv-20.26.1-py3-none-any.whl.metadata (4.4 kB)\n",
            "  Downloading virtualenv-20.26.0-py3-none-any.whl.metadata (4.4 kB)\n",
            "INFO: This is taking longer than usual. You might need to provide the dependency resolver with stricter constraints to reduce runtime. See https://pip.pypa.io/warnings/backtracking for guidance. If you want to abort this run, press Ctrl + C.\n",
            "  Downloading virtualenv-20.25.3-py3-none-any.whl.metadata (4.4 kB)\n",
            "  Downloading virtualenv-20.25.2-py3-none-any.whl.metadata (4.4 kB)\n",
            "  Downloading virtualenv-20.25.1-py3-none-any.whl.metadata (4.4 kB)\n",
            "  Downloading virtualenv-20.25.0-py3-none-any.whl.metadata (4.5 kB)\n",
            "  Downloading virtualenv-20.24.7-py3-none-any.whl.metadata (4.5 kB)\n",
            "  Downloading virtualenv-20.24.6-py3-none-any.whl.metadata (4.5 kB)\n",
            "  Downloading virtualenv-20.24.5-py3-none-any.whl.metadata (4.5 kB)\n",
            "  Downloading virtualenv-20.24.4-py3-none-any.whl.metadata (4.5 kB)\n",
            "  Downloading virtualenv-20.24.3-py3-none-any.whl.metadata (4.5 kB)\n",
            "  Downloading virtualenv-20.24.2-py3-none-any.whl.metadata (4.5 kB)\n",
            "  Downloading virtualenv-20.24.1-py3-none-any.whl.metadata (4.5 kB)\n",
            "  Downloading virtualenv-20.24.0-py3-none-any.whl.metadata (4.5 kB)\n",
            "  Downloading virtualenv-20.23.1-py3-none-any.whl.metadata (4.5 kB)\n",
            "  Downloading virtualenv-20.23.0-py3-none-any.whl.metadata (4.3 kB)\n",
            "  Downloading virtualenv-20.22.0-py3-none-any.whl.metadata (4.1 kB)\n",
            "  Downloading virtualenv-20.21.1-py3-none-any.whl.metadata (4.1 kB)\n",
            "Requirement already satisfied: zipp>=3.20 in /usr/local/lib/python3.11/dist-packages (from importlib-metadata>=4.11.4->keyring<24.0.0,>=23.9.0->poetry==1.4.2) (3.21.0)\n",
            "Requirement already satisfied: typing-extensions>=4.4.0 in /usr/local/lib/python3.11/dist-packages (from referencing>=0.28.4->jsonschema<5.0.0,>=4.10.0->poetry==1.4.2) (4.12.2)\n",
            "Requirement already satisfied: more-itertools in /usr/local/lib/python3.11/dist-packages (from jaraco.classes->keyring<24.0.0,>=23.9.0->poetry==1.4.2) (10.5.0)\n",
            "Downloading poetry-1.4.2-py3-none-any.whl (222 kB)\n",
            "\u001b[2K   \u001b[90m━━━━━━━━━━━━━━━━━━━━━━━━━━━━━━━━━━━━━━━━\u001b[0m \u001b[32m222.7/222.7 kB\u001b[0m \u001b[31m7.0 MB/s\u001b[0m eta \u001b[36m0:00:00\u001b[0m\n",
            "\u001b[?25hDownloading poetry_core-1.5.2-py3-none-any.whl (465 kB)\n",
            "\u001b[2K   \u001b[90m━━━━━━━━━━━━━━━━━━━━━━━━━━━━━━━━━━━━━━━━\u001b[0m \u001b[32m465.2/465.2 kB\u001b[0m \u001b[31m13.7 MB/s\u001b[0m eta \u001b[36m0:00:00\u001b[0m\n",
            "\u001b[?25hDownloading build-0.10.0-py3-none-any.whl (17 kB)\n",
            "Downloading CacheControl-0.12.14-py2.py3-none-any.whl (21 kB)\n",
            "Downloading cleo-2.1.0-py3-none-any.whl (78 kB)\n",
            "\u001b[2K   \u001b[90m━━━━━━━━━━━━━━━━━━━━━━━━━━━━━━━━━━━━━━━━\u001b[0m \u001b[32m78.7/78.7 kB\u001b[0m \u001b[31m5.2 MB/s\u001b[0m eta \u001b[36m0:00:00\u001b[0m\n",
            "\u001b[?25hDownloading crashtest-0.4.1-py3-none-any.whl (7.6 kB)\n",
            "Downloading dulwich-0.21.7-cp311-cp311-manylinux_2_17_x86_64.manylinux2014_x86_64.whl (516 kB)\n",
            "\u001b[2K   \u001b[90m━━━━━━━━━━━━━━━━━━━━━━━━━━━━━━━━━━━━━━━━\u001b[0m \u001b[32m516.4/516.4 kB\u001b[0m \u001b[31m25.4 MB/s\u001b[0m eta \u001b[36m0:00:00\u001b[0m\n",
            "\u001b[?25hDownloading installer-0.7.0-py3-none-any.whl (453 kB)\n",
            "\u001b[2K   \u001b[90m━━━━━━━━━━━━━━━━━━━━━━━━━━━━━━━━━━━━━━━━\u001b[0m \u001b[32m453.8/453.8 kB\u001b[0m \u001b[31m21.9 MB/s\u001b[0m eta \u001b[36m0:00:00\u001b[0m\n",
            "\u001b[?25hDownloading keyring-23.13.1-py3-none-any.whl (37 kB)\n",
            "Downloading lockfile-0.12.2-py2.py3-none-any.whl (13 kB)\n",
            "Downloading pkginfo-1.12.0-py3-none-any.whl (32 kB)\n",
            "Downloading platformdirs-2.6.2-py3-none-any.whl (14 kB)\n",
            "Downloading poetry_plugin_export-1.3.1-py3-none-any.whl (10 kB)\n",
            "Downloading pyproject_hooks-1.2.0-py3-none-any.whl (10 kB)\n",
            "Downloading requests_toolbelt-0.10.1-py2.py3-none-any.whl (54 kB)\n",
            "\u001b[2K   \u001b[90m━━━━━━━━━━━━━━━━━━━━━━━━━━━━━━━━━━━━━━━━\u001b[0m \u001b[32m54.5/54.5 kB\u001b[0m \u001b[31m3.2 MB/s\u001b[0m eta \u001b[36m0:00:00\u001b[0m\n",
            "\u001b[?25hDownloading tomlkit-0.13.2-py3-none-any.whl (37 kB)\n",
            "Downloading trove_classifiers-2025.1.15.22-py3-none-any.whl (13 kB)\n",
            "Downloading urllib3-1.26.20-py2.py3-none-any.whl (144 kB)\n",
            "\u001b[2K   \u001b[90m━━━━━━━━━━━━━━━━━━━━━━━━━━━━━━━━━━━━━━━━\u001b[0m \u001b[32m144.2/144.2 kB\u001b[0m \u001b[31m9.6 MB/s\u001b[0m eta \u001b[36m0:00:00\u001b[0m\n",
            "\u001b[?25hDownloading virtualenv-20.21.1-py3-none-any.whl (8.7 MB)\n",
            "\u001b[2K   \u001b[90m━━━━━━━━━━━━━━━━━━━━━━━━━━━━━━━━━━━━━━━━\u001b[0m \u001b[32m8.7/8.7 MB\u001b[0m \u001b[31m52.3 MB/s\u001b[0m eta \u001b[36m0:00:00\u001b[0m\n",
            "\u001b[?25hDownloading distlib-0.3.9-py2.py3-none-any.whl (468 kB)\n",
            "\u001b[2K   \u001b[90m━━━━━━━━━━━━━━━━━━━━━━━━━━━━━━━━━━━━━━━━\u001b[0m \u001b[32m469.0/469.0 kB\u001b[0m \u001b[31m18.9 MB/s\u001b[0m eta \u001b[36m0:00:00\u001b[0m\n",
            "\u001b[?25hDownloading rapidfuzz-3.12.1-cp311-cp311-manylinux_2_17_x86_64.manylinux2014_x86_64.whl (3.1 MB)\n",
            "\u001b[2K   \u001b[90m━━━━━━━━━━━━━━━━━━━━━━━━━━━━━━━━━━━━━━━━\u001b[0m \u001b[32m3.1/3.1 MB\u001b[0m \u001b[31m42.8 MB/s\u001b[0m eta \u001b[36m0:00:00\u001b[0m\n",
            "\u001b[?25hDownloading jaraco.classes-3.4.0-py3-none-any.whl (6.8 kB)\n",
            "Installing collected packages: trove-classifiers, lockfile, distlib, urllib3, tomlkit, rapidfuzz, pyproject-hooks, poetry-core, platformdirs, pkginfo, jaraco.classes, installer, crashtest, virtualenv, keyring, dulwich, cleo, build, requests-toolbelt, cachecontrol, poetry-plugin-export, poetry\n",
            "  Attempting uninstall: urllib3\n",
            "    Found existing installation: urllib3 2.3.0\n",
            "    Uninstalling urllib3-2.3.0:\n",
            "      Successfully uninstalled urllib3-2.3.0\n",
            "  Attempting uninstall: platformdirs\n",
            "    Found existing installation: platformdirs 4.3.6\n",
            "    Uninstalling platformdirs-4.3.6:\n",
            "      Successfully uninstalled platformdirs-4.3.6\n",
            "  Attempting uninstall: keyring\n",
            "    Found existing installation: keyring 23.5.0\n",
            "    Uninstalling keyring-23.5.0:\n",
            "      Successfully uninstalled keyring-23.5.0\n",
            "  Attempting uninstall: requests-toolbelt\n",
            "    Found existing installation: requests-toolbelt 1.0.0\n",
            "    Uninstalling requests-toolbelt-1.0.0:\n",
            "      Successfully uninstalled requests-toolbelt-1.0.0\n",
            "  Attempting uninstall: cachecontrol\n",
            "    Found existing installation: CacheControl 0.14.2\n",
            "    Uninstalling CacheControl-0.14.2:\n",
            "      Successfully uninstalled CacheControl-0.14.2\n",
            "\u001b[31mERROR: pip's dependency resolver does not currently take into account all the packages that are installed. This behaviour is the source of the following dependency conflicts.\n",
            "langsmith 0.3.2 requires requests-toolbelt<2.0.0,>=1.0.0, but you have requests-toolbelt 0.10.1 which is incompatible.\u001b[0m\u001b[31m\n",
            "\u001b[0mSuccessfully installed build-0.10.0 cachecontrol-0.12.14 cleo-2.1.0 crashtest-0.4.1 distlib-0.3.9 dulwich-0.21.7 installer-0.7.0 jaraco.classes-3.4.0 keyring-23.13.1 lockfile-0.12.2 pkginfo-1.12.0 platformdirs-2.6.2 poetry-1.4.2 poetry-core-1.5.2 poetry-plugin-export-1.3.1 pyproject-hooks-1.2.0 rapidfuzz-3.12.1 requests-toolbelt-0.10.1 tomlkit-0.13.2 trove-classifiers-2025.1.15.22 urllib3-1.26.20 virtualenv-20.21.1\n"
          ]
        },
        {
          "output_type": "display_data",
          "data": {
            "application/vnd.colab-display-data+json": {
              "pip_warning": {
                "packages": [
                  "jaraco"
                ]
              },
              "id": "a2712db5bdb74e118680e9da0be9ab92"
            }
          },
          "metadata": {}
        }
      ]
    },
    {
      "cell_type": "code",
      "source": [
        "%cd Aero-Design-Team-Gamma\n",
        "!poetry config virtualenvs.in-project true\n",
        "!poetry install --no-ansi"
      ],
      "metadata": {
        "colab": {
          "base_uri": "https://localhost:8080/"
        },
        "id": "gbSjI5eGtBa8",
        "outputId": "1199e338-ad2a-4e60-d768-b99ee611b335"
      },
      "id": "gbSjI5eGtBa8",
      "execution_count": null,
      "outputs": [
        {
          "output_type": "stream",
          "name": "stdout",
          "text": [
            "/content/Aero-Design-Team-Gamma\n",
            "Creating virtualenv aerospace-design-team-gamma in /content/Aero-Design-Team-Gamma/.venv\n",
            "Installing dependencies from lock file\n",
            "The lock file might not be compatible with the current version of Poetry.\n",
            "Upgrade Poetry to ensure the lock file is read properly or, alternatively, regenerate the lock file with the `poetry lock` command.\n",
            "\n",
            "Package operations: 137 installs, 1 update, 0 removals\n",
            "\n",
            "  • Installing attrs (25.1.0)\n",
            "  • Installing rpds-py (0.22.3)\n",
            "  • Installing typing-extensions (4.12.2)\n",
            "  • Installing referencing (0.36.2)\n",
            "  • Installing six (1.17.0)\n",
            "  • Installing jsonschema-specifications (2024.10.1)\n",
            "  • Installing platformdirs (4.3.6)\n",
            "  • Installing python-dateutil (2.9.0.post0)\n",
            "  • Installing traitlets (5.14.3)\n",
            "  • Installing types-python-dateutil (2.9.0.20241206)\n",
            "  • Installing arrow (1.3.0)\n",
            "  • Installing fastjsonschema (2.21.1)\n",
            "  • Installing jsonschema (4.23.0)\n",
            "  • Installing jupyter-core (5.7.2)\n",
            "  • Installing pycparser (2.22)\n",
            "  • Installing pyzmq (26.2.0)\n",
            "  • Installing tornado (6.4.2)\n",
            "  • Installing webencodings (0.5.1)\n",
            "  • Installing cffi (1.17.1)\n",
            "  • Installing fqdn (1.5.1)\n",
            "  • Installing idna (3.10)\n",
            "  • Installing isoduration (20.11.0)\n",
            "  • Installing jsonpointer (3.0.0)\n",
            "  • Installing jupyter-client (8.6.3)\n",
            "  • Installing markupsafe (3.0.2)\n",
            "  • Installing nbformat (5.10.4)\n",
            "  • Installing ptyprocess (0.7.0)\n",
            "  • Installing rfc3339-validator (0.1.4)\n",
            "  • Installing rfc3986-validator (0.1.1)\n",
            "  • Installing soupsieve (2.6)\n",
            "  • Installing tinycss2 (1.4.0)\n",
            "  • Installing uri-template (1.3.0)\n",
            "  • Installing webcolors (24.11.1)\n",
            "  • Installing argon2-cffi-bindings (21.2.0)\n",
            "  • Installing asttokens (3.0.0)\n",
            "  • Installing beautifulsoup4 (4.12.3)\n",
            "  • Installing bleach (6.2.0)\n",
            "  • Installing defusedxml (0.7.1)\n",
            "  • Installing executing (2.2.0)\n",
            "  • Installing jinja2 (3.1.5)\n",
            "  • Installing jupyterlab-pygments (0.3.0)\n",
            "  • Installing mistune (3.1.0)\n",
            "  • Installing nbclient (0.10.2)\n",
            "  • Installing packaging (24.2)\n",
            "  • Installing pandocfilters (1.5.1)\n",
            "  • Installing parso (0.8.4)\n",
            "  • Installing pure-eval (0.2.3)\n",
            "  • Installing pygments (2.19.1)\n",
            "  • Installing python-json-logger (3.2.1)\n",
            "  • Installing pyyaml (6.0.2)\n",
            "  • Installing sniffio (1.3.1)\n",
            "  • Installing terminado (0.18.1)\n",
            "  • Installing wcwidth (0.2.13)\n",
            "  • Installing anyio (4.8.0)\n",
            "  • Installing certifi (2024.12.14)\n",
            "  • Installing decorator (5.1.1)\n",
            "  • Installing charset-normalizer (3.4.1)\n",
            "  • Installing argon2-cffi (23.1.0)\n",
            "  • Installing h11 (0.14.0)\n",
            "  • Installing jedi (0.19.2)\n",
            "  • Installing jupyter-events (0.11.0)\n",
            "  • Installing jupyter-server-terminals (0.5.3)\n",
            "  • Installing matplotlib-inline (0.1.7)\n",
            "  • Installing nbconvert (7.16.5)\n",
            "  • Installing overrides (7.7.0)\n",
            "  • Installing pexpect (4.9.0)\n",
            "  • Installing prometheus-client (0.21.1)\n",
            "  • Installing prompt-toolkit (3.0.50)\n",
            "  • Installing send2trash (1.8.3)\n",
            "  • Installing stack-data (0.6.3)\n",
            "  • Installing urllib3 (2.3.0)\n",
            "  • Installing websocket-client (1.8.0)\n",
            "  • Installing babel (2.16.0)\n",
            "  • Installing comm (0.2.2)\n",
            "  • Installing debugpy (1.8.12)\n",
            "  • Installing httpcore (1.0.7)\n",
            "  • Installing ipython (8.31.0)\n",
            "  • Installing json5 (0.10.0)\n",
            "  • Installing jupyter-server (2.15.0)\n",
            "  • Installing nest-asyncio (1.6.0)\n",
            "  • Installing numpy (1.26.4)\n",
            "  • Installing psutil (6.1.1)\n",
            "  • Installing pytz (2024.2)\n",
            "  • Installing requests (2.32.3)\n",
            "  • Installing tzdata (2024.2)\n",
            "  • Installing async-lru (2.0.4)\n",
            "  • Installing httpx (0.28.1)\n",
            "  • Installing ipykernel (6.29.5)\n",
            "  • Installing jupyter-lsp (2.2.5)\n",
            "  • Installing jupyterlab-server (2.27.3)\n",
            "  • Installing notebook-shim (0.2.4)\n",
            "  • Installing pandas (2.2.3)\n",
            "  • Updating setuptools (67.6.1 -> 75.8.0)\n",
            "  • Installing contourpy (1.3.1)\n",
            "  • Installing cycler (0.12.1)\n",
            "  • Installing fonttools (4.55.3)\n",
            "  • Installing jupyterlab (4.3.4)\n",
            "  • Installing h5py (3.12.1)\n",
            "  • Installing jupyterlab-widgets (3.0.13)\n",
            "  • Installing kiwisolver (1.4.8)\n",
            "  • Installing pillow (11.1.0)\n",
            "  • Installing pyparsing (3.2.1)\n",
            "  • Installing scipy (1.15.1)\n",
            "  • Installing widgetsnbextension (4.0.13)\n",
            "  • Installing xarray (2025.1.1)\n",
            "  • Installing click (8.1.8)\n",
            "  • Installing future (1.0.0)\n",
            "  • Installing h5netcdf (1.5.0)\n",
            "  • Installing iniconfig (2.0.0)\n",
            "  • Installing ipywidgets (8.1.5)\n",
            "  • Installing jupyter-console (6.6.3)\n",
            "  • Installing matplotlib (3.10.0)\n",
            "  • Installing mccabe (0.7.0)\n",
            "  • Installing mpmath (1.3.0)\n",
            "  • Installing mypy-extensions (1.0.0)\n",
            "  • Installing notebook (7.3.2)\n",
            "  • Installing pathspec (0.12.1)\n",
            "  • Installing pluggy (1.5.0)\n",
            "  • Installing plumbum (1.9.0)\n",
            "  • Installing ply (3.11)\n",
            "  • Installing pycodestyle (2.11.1)\n",
            "  • Installing pyflakes (3.1.0)\n",
            "  • Installing tqdm (4.67.1)\n",
            "  • Installing xarray-einstats (0.8.0)\n",
            "  • Installing ambiance (1.3.1)\n",
            "  • Installing arviz (0.20.0)\n",
            "  • Installing black (23.12.1)\n",
            "  • Installing corner (2.2.3)\n",
            "  • Installing flake8 (6.1.0)\n",
            "  • Installing isort (5.13.2)\n",
            "  • Installing jupyter (1.1.1)\n",
            "  • Installing networkx (3.4.2)\n",
            "  • Installing pandoc (2.4)\n",
            "  • Installing pypandoc (1.15)\n",
            "  • Installing pyswarms (1.3.0)\n",
            "  • Installing pytest (7.4.4)\n",
            "  • Installing python-frontmatter (1.1.0)\n",
            "  • Installing sympy (1.13.3)\n",
            "\n",
            "Installing the current project: Aerospace-Design-Team-Gamma (0.1.0)\n"
          ]
        }
      ]
    },
    {
      "cell_type": "code",
      "source": [
        "VENV_PATH = \"/content/Aero-Design-Team-Gamma/.venv/lib/python3.11/site-packages\"\n",
        "import os, sys\n",
        "LOCAL_VENV_PATH = '/content/venv' # local notebook\n",
        "os.symlink(VENV_PATH, LOCAL_VENV_PATH) # connect to directory in drive\n",
        "sys.path.insert(0, LOCAL_VENV_PATH)"
      ],
      "metadata": {
        "id": "mgVhwq4wtOmy"
      },
      "id": "mgVhwq4wtOmy",
      "execution_count": null,
      "outputs": []
    },
    {
      "cell_type": "markdown",
      "id": "8644f7a1-9e7f-4a1e-9d02-3d6977dd2760",
      "metadata": {
        "id": "8644f7a1-9e7f-4a1e-9d02-3d6977dd2760"
      },
      "source": [
        "# Code Begins Here\n",
        "## Imports and Variables\n",
        "We begin by importing our variables and setting up the system of equations"
      ]
    },
    {
      "cell_type": "code",
      "execution_count": null,
      "id": "136adf23-b8f6-43fe-b129-227ee7c61401",
      "metadata": {
        "id": "136adf23-b8f6-43fe-b129-227ee7c61401"
      },
      "outputs": [],
      "source": [
        "from ambiance import Atmosphere\n",
        "import numpy as np\n",
        "\n",
        "from global_variables.solver import EquationSystem\n",
        "from global_variables.registry import VariableRegistry, Variable\n",
        "\n",
        "registry = VariableRegistry(\"aero_vars.yaml\")"
      ]
    },
    {
      "cell_type": "code",
      "execution_count": null,
      "id": "8737ac30-c02a-4614-a7a3-a5c9b986eacf",
      "metadata": {
        "colab": {
          "base_uri": "https://localhost:8080/"
        },
        "id": "8737ac30-c02a-4614-a7a3-a5c9b986eacf",
        "outputId": "bfc58a7b-bfc1-4333-c97a-e3da0419f7fa"
      },
      "outputs": [
        {
          "output_type": "stream",
          "name": "stderr",
          "text": [
            "/content/Aero-Design-Team-Gamma/global_variables/solver.py:125: UserWarning: No solution found for target W_max, treating as input\n",
            "  warnings.warn(f\"No solution found for target {target}, treating as input\")\n"
          ]
        }
      ],
      "source": [
        "constraint_vars = {\"R\",\"S_TO\",\"sigma_max\"}\n",
        "constraints_system = EquationSystem(registry,constraint_vars)\n",
        "constraints_solver = constraints_system.create_solver()\n",
        "optimizer_vars = {\"W_max\",\"C_L_full\"}\n",
        "optimizer_system = EquationSystem(registry,optimizer_vars)\n",
        "optimizer_eqs = optimizer_system.create_solver()"
      ]
    },
    {
      "cell_type": "code",
      "execution_count": null,
      "id": "a7af4002-34d2-44a1-ad85-503871947f73",
      "metadata": {
        "colab": {
          "base_uri": "https://localhost:8080/"
        },
        "id": "a7af4002-34d2-44a1-ad85-503871947f73",
        "outputId": "5cad1926-06c3-4e69-c3b5-9f0f9e44ba96"
      },
      "outputs": [
        {
          "output_type": "stream",
          "name": "stdout",
          "text": [
            "Constraints: {'sigma_max': <function _lambdifygenerated at 0x7d1f32def9c0>, 'S_TO': <function _lambdifygenerated at 0x7d1f32abbd80>, 'R': <function _lambdifygenerated at 0x7d1f329fff60>}\n",
            "Optimizations: {'W_max': <function EquationSystem.create_solver.<locals>.<lambda> at 0x7d1f329b6980>, 'C_L_full': <function _lambdifygenerated at 0x7d1f329b6fc0>}\n",
            "All inputs: {'C_D0', 'We_Wmax', 'rho_h', 'rho', 'W_pax', 'S_', 'TSFC', 'mu', 'V', 'b', 'n_pax', 'C_Lmax', 'W_max', 'T_A0', 'e'}\n"
          ]
        }
      ],
      "source": [
        "print(f\"Constraints: {constraints_solver}\")\n",
        "print(f\"Optimizations: {optimizer_eqs}\")\n",
        "print(f\"All inputs: {constraints_system.inputs}\")"
      ]
    },
    {
      "cell_type": "code",
      "execution_count": null,
      "id": "9a202bfd-7939-4b54-a3d3-937832dee6b5",
      "metadata": {
        "id": "9a202bfd-7939-4b54-a3d3-937832dee6b5"
      },
      "outputs": [],
      "source": [
        "def velocity(M,h):\n",
        "    try:\n",
        "        atmo = Atmosphere(np.clip(h * 0.3048,a_min=-5004,a_max=81020))\n",
        "        return atmo.speed_of_sound * M / 0.3048\n",
        "    except:\n",
        "        raise ValueError(f\"altitude {h} is out of bounds!\")\n",
        "\n",
        "def rho_func(h):\n",
        "    try:\n",
        "        atmo = Atmosphere(np.clip(h * 0.3048,a_min=-5004,a_max=81020))\n",
        "        return atmo.density * 0.00194032\n",
        "    except:\n",
        "        raise ValueError(f\"altitude {h} is out of bounds!\")\n"
      ]
    },
    {
      "cell_type": "markdown",
      "id": "c5cef9f7-662b-4689-8c36-1fa233a85d64",
      "metadata": {
        "id": "c5cef9f7-662b-4689-8c36-1fa233a85d64"
      },
      "source": [
        "## The Cost function\n",
        "here, I'm converting from human legible parameters to the correct units for the optimizer, and setting up a function which takes in all of our inputs and produces a single scalar result, which is 0 at the optimal plane design and higher otherwise."
      ]
    },
    {
      "cell_type": "code",
      "execution_count": 29,
      "id": "9cde0a69-d42c-40aa-ab5f-9b6263b416c2",
      "metadata": {
        "id": "9cde0a69-d42c-40aa-ab5f-9b6263b416c2"
      },
      "outputs": [],
      "source": [
        "target_sigma_max = rho_func(4.3e4) / rho_func(0)\n",
        "target_R = 1.01e4 * 6076.12\n",
        "target_S_TO = 1e5\n",
        "\n",
        "def constraint_cost(x):\n",
        "    return np.where(x > 0, np.exp(x), -x)\n",
        "\n",
        "def convert_param_to_dict(x):\n",
        "    x = np.atleast_2d(x)\n",
        "    return {\n",
        "        'T_A0':x[:,0],\n",
        "        'TSFC':x[:,1]/3600,\n",
        "        'e':x[:,2],\n",
        "        'rho':rho_func(0), # fixed, density at sea level\n",
        "        'rho_h':rho_func(x[:,7]), # fixed, density at sea level\n",
        "        'W_max':x[:,3],\n",
        "        'n_pax':1255, # fixed, num of passengers\n",
        "        'S_'\n",
        "         :x[:,4],\n",
        "        'C_Lmax':x[:,5],\n",
        "        'W_pax':205, # fixed, 205\n",
        "        'V':velocity(x[:,6],x[:,7]), #0.8 < M < 1, cruising altitude\n",
        "        'C_D0':x[:,8],\n",
        "        'We_Wmax':x[:,9],\n",
        "        'mu':0.02, # fixed, dry runway\n",
        "        'b':x[:,10]\n",
        "    }"
      ]
    },
    {
      "cell_type": "code",
      "execution_count": 39,
      "id": "599e34ad-39db-4de6-bc25-c58276b8ee41",
      "metadata": {
        "id": "599e34ad-39db-4de6-bc25-c58276b8ee41"
      },
      "outputs": [],
      "source": [
        "def cost_function(x, debug=False):\n",
        "    all_inputs = convert_param_to_dict(x)\n",
        "    sigma_max_raw = constraints_solver['sigma_max'](**all_inputs)\n",
        "    R_raw = constraints_solver['R'](**all_inputs)\n",
        "    S_TO_raw = constraints_solver['S_TO'](**all_inputs)\n",
        "\n",
        "    sigma_max_diff = (sigma_max_raw - target_sigma_max) / target_sigma_max\n",
        "    R_diff = (target_R - R_raw) / target_R\n",
        "    S_TO_diff = (S_TO_raw - target_S_TO) / target_S_TO\n",
        "\n",
        "    constraint_costs = {\n",
        "        'sigma_max_cost': constraint_cost(sigma_max_diff),\n",
        "        'R_cost': constraint_cost(R_diff),\n",
        "        'S_TO_cost': constraint_cost(S_TO_diff)\n",
        "    }\n",
        "    total_constraint_cost = sum(constraint_costs.values())\n",
        "\n",
        "    opt_inputs = {inp: all_inputs[inp] for inp in optimizer_system.inputs}\n",
        "    C_L_full = optimizer_eqs[\"C_L_full\"](**opt_inputs)\n",
        "    W_max = all_inputs[\"W_max\"]\n",
        "    C_L_cost = (C_L_full - 0.6) / 0.6 # weighted cost for C_L\n",
        "    W_cost = (W_max - 2e6) / 2e6\n",
        "\n",
        "    weighted_costs = {\n",
        "        'W_cost': W_cost,\n",
        "        'C_L_cost': C_L_cost\n",
        "    }\n",
        "\n",
        "    total_cost = total_constraint_cost + sum(weighted_costs.values())\n",
        "\n",
        "    if debug:\n",
        "        print(\"Cost Breakdown:\")\n",
        "        for key, value in constraint_costs.items():\n",
        "            print(f\"  {key}: {value:.6f}\")\n",
        "        for key, value in weighted_costs.items():\n",
        "            print(f\"  {key}: {value:.6f}\")\n",
        "        print(f\"  Total Cost: {total_cost:.6f}\")\n",
        "\n",
        "    return total_cost\n"
      ]
    },
    {
      "cell_type": "markdown",
      "id": "fea00b96-ec0b-4ef0-8fcc-38bc2b15a601",
      "metadata": {
        "id": "fea00b96-ec0b-4ef0-8fcc-38bc2b15a601"
      },
      "source": [
        "## Bounds: Change this to change how the optimizer will perform\n",
        "Below is a list of bounds, if you want to tweak how the optimizer will perform, mess around with them!"
      ]
    },
    {
      "cell_type": "code",
      "execution_count": 40,
      "id": "a2784c48-6132-4365-92f2-58c836729c7d",
      "metadata": {
        "id": "a2784c48-6132-4365-92f2-58c836729c7d"
      },
      "outputs": [],
      "source": [
        "from scipy.optimize import minimize\n",
        "import pyswarms as ps\n",
        "\n",
        "# Define bounds for each parameter\n",
        "bounds = [\n",
        "    (3.5e5, 5.5e5),     # T_A0planes\n",
        "    (0.43, 0.5),     # TSFC (converted to per hour in cost function)\n",
        "    (0.9, 0.95),    # e\n",
        "    (0, 1.95e6),     # W_max\n",
        "    (1e4, 2e4),  # S_\n",
        "    (1.5, 1.8),     # C_Lmax\n",
        "    (0.8, 0.9),    # Mach number\n",
        "    (3e4, 4.0e4),     # Cruise Altitude\n",
        "    (0.02, 0.05), # C_D0\n",
        "    (0.45, 0.55),   # We_Wmax\n",
        "    (250, 345)      # b\n",
        "]"
      ]
    },
    {
      "cell_type": "markdown",
      "id": "180cd546-41ca-4024-bac4-17f97aabd808",
      "metadata": {
        "id": "180cd546-41ca-4024-bac4-17f97aabd808"
      },
      "source": [
        "### The Optimizer functions themselves"
      ]
    },
    {
      "cell_type": "code",
      "execution_count": 42,
      "id": "861a3fc1-30cf-4edb-9ebb-cc5b05628524",
      "metadata": {
        "id": "861a3fc1-30cf-4edb-9ebb-cc5b05628524"
      },
      "outputs": [],
      "source": [
        "\n",
        "def scipy_optimizer(cost_function, x0=None):\n",
        "    \"\"\"\n",
        "    Optimize using SciPy's L-BFGS-B algorithm\n",
        "\n",
        "    Args:\n",
        "        cost_function: Function to minimize\n",
        "        x0: Initial guess (optional)\n",
        "\n",
        "    Returns:\n",
        "        tuple: (optimal parameters, optimal cost)\n",
        "    \"\"\"\n",
        "    if x0 is None:\n",
        "        x0 = [5e5, 0.45, 0.9, 2e6, 10200, 1.5, 0.85, 3.5e4, 0.02, 0.48, 315]\n",
        "\n",
        "    result = minimize(\n",
        "        cost_function,\n",
        "        x0,\n",
        "        method='L-BFGS-B',\n",
        "        bounds=bounds,\n",
        "        options={\n",
        "            'maxiter': 1000,\n",
        "            'ftol': 1e-8,\n",
        "            'disp': True\n",
        "        }\n",
        "    )\n",
        "\n",
        "    return result.x, result.fun\n",
        "def pyswarms_optimizer(cost_function, n_particles=50, iters=1000,center=None):\n",
        "    \"\"\"\n",
        "    Optimize using PySwarms' global best PSO\n",
        "\n",
        "    Args:\n",
        "        cost_function: Function to minimize\n",
        "        n_particles: Number of particles in swarm\n",
        "        iters: Number of iterations\n",
        "\n",
        "    Returns:\n",
        "        tuple: (optimal parameters, optimal cost)\n",
        "    \"\"\"\n",
        "    # Convert bounds to numpy arrays for PySwarms\n",
        "    lb = np.array([b[0] for b in bounds])\n",
        "    ub = np.array([b[1] for b in bounds])\n",
        "\n",
        "    # Initialize swarm\n",
        "    options = {\n",
        "        'c1': 0.5,    # cognitive parameter\n",
        "        'c2': 0.3,    # social parameter\n",
        "        'w': 0.9,     # inertia weight\n",
        "        'k': 3,       # number of neighbors to look at\n",
        "        'p': 2        # minkowski p-norm (2 = euclidean)\n",
        "    }\n",
        "\n",
        "    # Create optimizer object\n",
        "    optimizer = ps.single.GlobalBestPSO(\n",
        "        n_particles=n_particles,\n",
        "        dimensions=len(bounds),\n",
        "        options=options,\n",
        "        bounds=(lb, ub),\n",
        "        center=[5e5, 0.45, 0.9, 2e6, 10200, 1.5, 0.85, 3.5e4, 0.02, 0.48, 315] if center is None else center\n",
        "    )\n",
        "\n",
        "    # Optimize\n",
        "    best_cost, best_pos = optimizer.optimize(\n",
        "        cost_function,\n",
        "        iters=iters,\n",
        "        verbose=True\n",
        "    )\n",
        "\n",
        "    return best_pos, best_cost"
      ]
    },
    {
      "cell_type": "markdown",
      "id": "c70f10d0-60ea-4878-8ae6-e2a5274c7794",
      "metadata": {
        "id": "c70f10d0-60ea-4878-8ae6-e2a5274c7794"
      },
      "source": [
        "### Running the optimizers"
      ]
    },
    {
      "cell_type": "code",
      "execution_count": null,
      "id": "6cf46e26-cdfa-409f-81ef-bf7330917ea9",
      "metadata": {
        "colab": {
          "base_uri": "https://localhost:8080/"
        },
        "id": "6cf46e26-cdfa-409f-81ef-bf7330917ea9",
        "outputId": "c9a7d956-e227-4dde-9cf9-0cc0a14acab8"
      },
      "outputs": [
        {
          "output_type": "stream",
          "name": "stdout",
          "text": [
            "Optimizing with SciPy L-BFGS-B...\n"
          ]
        },
        {
          "output_type": "stream",
          "name": "stderr",
          "text": [
            "2025-01-30 23:29:51,793 - pyswarms.single.global_best - INFO - Optimize for 10000 iters with {'c1': 0.5, 'c2': 0.3, 'w': 0.9, 'k': 3, 'p': 2}\n"
          ]
        },
        {
          "output_type": "stream",
          "name": "stdout",
          "text": [
            "Best parameters (SciPy): [5.00000000e+05 4.30118292e-01 9.00000000e-01 1.95000000e+06\n",
            " 1.02000001e+04 1.50000000e+00 9.00000000e-01 3.49999999e+04\n",
            " 2.07048778e-02 4.50163156e-01 3.14999322e+02]\n",
            "Best cost (SciPy): 2.0639747395656647\n",
            "\n",
            "Optimizing with PySwarms PSO...\n"
          ]
        },
        {
          "output_type": "stream",
          "name": "stderr",
          "text": [
            "pyswarms.single.global_best:  25%|██▍       |2478/10000, best_cost=1.72"
          ]
        }
      ],
      "source": [
        "print(\"Optimizing with SciPy L-BFGS-B...\")\n",
        "best_params_scipy, best_cost_scipy = scipy_optimizer(cost_function)\n",
        "print(f\"Best parameters (SciPy): {best_params_scipy}\")\n",
        "print(f\"Best cost (SciPy): {best_cost_scipy}\")\n",
        "\n",
        "print(\"\\nOptimizing with PySwarms PSO...\")\n",
        "best_params_pso, best_cost_pso = pyswarms_optimizer(cost_function,\n",
        "                                                    n_particles=200,\n",
        "                                                    iters=10000,\n",
        "                                                    center = best_params_scipy)\n",
        "print(f\"Best parameters (PSO): {best_params_pso}\")\n",
        "print(f\"Best cost (PSO): {best_cost_pso}\")"
      ]
    },
    {
      "cell_type": "markdown",
      "id": "98a97b27-ea40-40ea-ad02-c0800aac6d3f",
      "metadata": {
        "id": "98a97b27-ea40-40ea-ad02-c0800aac6d3f"
      },
      "source": [
        "## The final results"
      ]
    },
    {
      "cell_type": "code",
      "execution_count": 41,
      "id": "8a243a1b-39b4-4a06-8e4c-e804d120bc3d",
      "metadata": {
        "colab": {
          "base_uri": "https://localhost:8080/"
        },
        "id": "8a243a1b-39b4-4a06-8e4c-e804d120bc3d",
        "outputId": "57dfe790-4b13-4cfb-b46d-5612771503d5"
      },
      "outputs": [
        {
          "output_type": "stream",
          "name": "stdout",
          "text": [
            "--Scipy--\n",
            "\n",
            "    wingspan of 315.00 ft; planform area of 10200.0 ft^2; AR of 9.728.\n",
            "    oswald efficiency of 0.90.\n",
            "\n",
            "    cruise at M 0.900 at  35000.0 ft; maximum altitude of 43000.025917719315 ft\n",
            "    range of 10776.8 nm; TSFC of 0.430 /hr; parasitic drag below 0.0207\n",
            "\n",
            "    takeoff distance of 10325.0 ft; C_L max of 1.500;\n",
            "    gross takeoff weight of 1950000.0 lbs; T_A0 of 500000.000 lbs\n",
            "\n",
            "    C_L at takeoff 0.675; empty weight fraction of 0.450\n",
            "    \n",
            "--Particle Swarm--\n",
            "\n",
            "    wingspan of 323.23 ft; planform area of 14973.3 ft^2; AR of 6.978.\n",
            "    oswald efficiency of 0.92.\n",
            "\n",
            "    cruise at M 0.856 at  32091.9 ft; maximum altitude of 43054.749707798306 ft\n",
            "    range of 4795.4 nm; TSFC of 0.431 /hr; parasitic drag below 0.0201\n",
            "\n",
            "    takeoff distance of 3563.9 ft; C_L max of 1.650;\n",
            "    gross takeoff weight of 1236014.9 lbs; T_A0 of 365012.184 lbs\n",
            "\n",
            "    C_L at takeoff 0.282; empty weight fraction of 0.454\n",
            "    \n"
          ]
        }
      ],
      "source": [
        "def print_output(x):\n",
        "    b = x[10]\n",
        "    S = x[4]\n",
        "    M = x[6]\n",
        "    h = x[7]\n",
        "    dict_inputs = convert_param_to_dict(x)\n",
        "    #print(dict_inputs)\n",
        "    sigma_max_raw = constraints_solver['sigma_max'](**dict_inputs)\n",
        "    R_raw = constraints_solver['R'](**dict_inputs)\n",
        "    S_TO_raw = constraints_solver['S_TO'](**dict_inputs)\n",
        "    max_h = Atmosphere.from_density(Atmosphere(0).density*sigma_max_raw).h / .3048\n",
        "    opt_inputs = {inp: dict_inputs[inp] for inp in optimizer_system.inputs}\n",
        "    C_L_full = optimizer_eqs[\"C_L_full\"](**opt_inputs)\n",
        "    print(f\"\"\"\n",
        "    wingspan of {b:.2f} ft; planform area of {S:.1f} ft^2; AR of {b**2 / S:.3f}.\n",
        "    oswald efficiency of {x[2]:.2f}.\n",
        "\n",
        "    cruise at M {M:.3f} at  {h:.1f} ft; maximum altitude of {max_h[-1]} ft\n",
        "    range of {R_raw[-1]/6076.11:.1f} nm; TSFC of {x[1]:.3f} /hr; parasitic drag below {x[8]:.4f}\n",
        "\n",
        "    takeoff distance of {S_TO_raw[-1]:.1f} ft; C_L max of {x[5]:.3f};\n",
        "    gross takeoff weight of {x[3]:.1f} lbs; T_A0 of {x[0]:.3f} lbs\n",
        "\n",
        "    C_L at takeoff {C_L_full[-1]:.3f}; empty weight fraction of {x[9]:.3f}\n",
        "    \"\"\")\n",
        "\n",
        "\n",
        "print(\"--Scipy--\")\n",
        "print_output(best_params_scipy)\n",
        "print(\"--Particle Swarm--\")\n",
        "print_output(best_params_pso)"
      ]
    },
    {
      "cell_type": "code",
      "execution_count": null,
      "id": "cc21a3c4-d63b-4ae5-b401-413b3f97b57d",
      "metadata": {
        "id": "cc21a3c4-d63b-4ae5-b401-413b3f97b57d"
      },
      "outputs": [],
      "source": []
    }
  ],
  "metadata": {
    "kernelspec": {
      "display_name": "Python 3 (ipykernel)",
      "language": "python",
      "name": "python3"
    },
    "language_info": {
      "codemirror_mode": {
        "name": "ipython",
        "version": 3
      },
      "file_extension": ".py",
      "mimetype": "text/x-python",
      "name": "python",
      "nbconvert_exporter": "python",
      "pygments_lexer": "ipython3",
      "version": "3.13.1"
    },
    "colab": {
      "provenance": []
    }
  },
  "nbformat": 4,
  "nbformat_minor": 5
}