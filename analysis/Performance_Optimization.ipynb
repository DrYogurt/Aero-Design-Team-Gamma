{
 "cells": [
  {
   "cell_type": "markdown",
   "id": "8644f7a1-9e7f-4a1e-9d02-3d6977dd2760",
   "metadata": {},
   "source": [
    "# Code Begins Here\n",
    "## Imports and Variables\n",
    "We begin by importing our variables and setting up the system of equations"
   ]
  },
  {
   "cell_type": "code",
   "execution_count": 129,
   "id": "136adf23-b8f6-43fe-b129-227ee7c61401",
   "metadata": {},
   "outputs": [],
   "source": [
    "from ambiance import Atmosphere\n",
    "import numpy as np\n",
    "\n",
    "from global_variables.solver import EquationSystem\n",
    "from global_variables.registry import VariableRegistry, Variable\n",
    "\n",
    "registry = VariableRegistry(\"aero_vars.yaml\")"
   ]
  },
  {
   "cell_type": "code",
   "execution_count": 130,
   "id": "8737ac30-c02a-4614-a7a3-a5c9b986eacf",
   "metadata": {},
   "outputs": [
    {
     "name": "stderr",
     "output_type": "stream",
     "text": [
      "/home/dryogurt/Documents/Habitats/Aero-Design-Team-Gamma/global_variables/solver.py:125: UserWarning: No solution found for target W_max, treating as input\n",
      "  warnings.warn(f\"No solution found for target {target}, treating as input\")\n"
     ]
    }
   ],
   "source": [
    "constraint_vars = {\"R\",\"S_TO\",\"sigma_max\"}\n",
    "constraints_system = EquationSystem(registry,constraint_vars)\n",
    "constraints_solver = constraints_system.create_solver()\n",
    "optimizer_vars = {\"W_max\",\"C_L_full\"}\n",
    "optimizer_system = EquationSystem(registry,optimizer_vars)\n",
    "optimizer_eqs = optimizer_system.create_solver()"
   ]
  },
  {
   "cell_type": "code",
   "execution_count": 132,
   "id": "a7af4002-34d2-44a1-ad85-503871947f73",
   "metadata": {},
   "outputs": [
    {
     "name": "stdout",
     "output_type": "stream",
     "text": [
      "Constraints: {'S_TO': <function _lambdifygenerated at 0x708bf56e7ec0>, 'sigma_max': <function _lambdifygenerated at 0x708bf1664d60>, 'R': <function _lambdifygenerated at 0x708bf1666660>}\n",
      "Optimizations: {'W_max': <function EquationSystem.create_solver.<locals>.<lambda> at 0x708bf1693600>, 'C_L_full': <function _lambdifygenerated at 0x708bf1691da0>}\n",
      "All inputs: {'C_Lmax', 'T_A0', 'W_max', 'rho_h', 'TSFC', 'b', 'We_Wmax', 'S_', 'W_pax', 'C_D0', 'e', 'V', 'mu', 'n_pax', 'rho'}\n"
     ]
    }
   ],
   "source": [
    "print(f\"Constraints: {constraints_solver}\")\n",
    "print(f\"Optimizations: {optimizer_eqs}\")\n",
    "print(f\"All inputs: {constraints_system.inputs}\")"
   ]
  },
  {
   "cell_type": "code",
   "execution_count": 216,
   "id": "9a202bfd-7939-4b54-a3d3-937832dee6b5",
   "metadata": {},
   "outputs": [],
   "source": [
    "def velocity(M,h):\n",
    "    try:\n",
    "        atmo = Atmosphere(np.clip(h * 0.3048,a_min=-5004,a_max=81020))\n",
    "        return atmo.speed_of_sound * M / 0.3048\n",
    "    except:\n",
    "        raise ValueError(f\"altitude {h} is out of bounds!\")\n",
    "        \n",
    "def rho_func(h):\n",
    "    try:\n",
    "        atmo = Atmosphere(np.clip(h * 0.3048,a_min=-5004,a_max=81020))\n",
    "        return atmo.density * 0.00194032\n",
    "    except:\n",
    "        raise ValueError(f\"altitude {h} is out of bounds!\")\n"
   ]
  },
  {
   "cell_type": "markdown",
   "id": "c5cef9f7-662b-4689-8c36-1fa233a85d64",
   "metadata": {},
   "source": [
    "## The Cost function\n",
    "here, I'm converting from human legible parameters to the correct units for the optimizer, and setting up a function which takes in all of our inputs and produces a single scalar result, which is 0 at the optimal plane design and higher otherwise."
   ]
  },
  {
   "cell_type": "code",
   "execution_count": 269,
   "id": "9cde0a69-d42c-40aa-ab5f-9b6263b416c2",
   "metadata": {},
   "outputs": [],
   "source": [
    "target_sigma_max = rho_func(4e4) / rho_func(0)\n",
    "target_R = 1.4e4 * 6076.12\n",
    "target_S_TO = .95e4\n",
    "\n",
    "def constraint_cost(x):\n",
    "    return np.where(x > 0, np.exp(x), -x)\n",
    "\n",
    "def convert_param_to_dict(x):\n",
    "    x = np.atleast_2d(x)\n",
    "    return {\n",
    "        'T_A0':x[:,0],\n",
    "        'TSFC':x[:,1]/3600,\n",
    "        'e':x[:,2],\n",
    "        'rho':rho_func(0), # fixed, density at sea level\n",
    "        'rho_h':rho_func(x[:,7]), # fixed, density at sea level\n",
    "        'W_max':x[:,3],\n",
    "        'n_pax':1255, # fixed, num of passengers\n",
    "        'S_'\n",
    "         :x[:,4],\n",
    "        'C_Lmax':x[:,5],\n",
    "        'W_pax':205, # fixed, 205\n",
    "        'V':velocity(x[:,6],x[:,7]), #0.8 < M < 1, cruising altitude\n",
    "        'C_D0':x[:,8],\n",
    "        'We_Wmax':x[:,9],\n",
    "        'mu':0.02, # fixed, dry runway \n",
    "        'b':x[:,10]\n",
    "    }"
   ]
  },
  {
   "cell_type": "code",
   "execution_count": 270,
   "id": "599e34ad-39db-4de6-bc25-c58276b8ee41",
   "metadata": {},
   "outputs": [
    {
     "data": {
      "text/plain": [
       "array([1.48557356, 2.82428031, 1.59122037])"
      ]
     },
     "execution_count": 270,
     "metadata": {},
     "output_type": "execute_result"
    }
   ],
   "source": [
    "def cost_function(x, debug=False):\n",
    "    all_inputs = convert_param_to_dict(x)\n",
    "    sigma_max_raw = constraints_solver['sigma_max'](**all_inputs)\n",
    "    R_raw = constraints_solver['R'](**all_inputs)\n",
    "    S_TO_raw = constraints_solver['S_TO'](**all_inputs)\n",
    "\n",
    "    sigma_max_diff = (sigma_max_raw - target_sigma_max) / target_sigma_max\n",
    "    R_diff = (target_R - R_raw) / target_R\n",
    "    S_TO_diff = (S_TO_raw - target_S_TO) / target_S_TO\n",
    "\n",
    "    constraint_costs = {\n",
    "        'sigma_max_cost': constraint_cost(sigma_max_diff),\n",
    "        'R_cost': constraint_cost(R_diff),\n",
    "        'S_TO_cost': constraint_cost(S_TO_diff)\n",
    "    }\n",
    "    total_constraint_cost = sum(constraint_costs.values())\n",
    "    \n",
    "    opt_inputs = {inp: all_inputs[inp] for inp in optimizer_system.inputs}\n",
    "    C_L_full = optimizer_eqs[\"C_L_full\"](**opt_inputs)\n",
    "    W_max = all_inputs[\"W_max\"]\n",
    "    C_L_cost = (C_L_full - 0.6)# / 0.5 # weighted cost for C_L\n",
    "    W_cost = (W_max - 2e6) / 2e6 \n",
    "\n",
    "    weighted_costs = {\n",
    "        'W_cost': W_cost,\n",
    "        'C_L_cost': C_L_cost\n",
    "    }\n",
    "    \n",
    "    total_cost = total_constraint_cost + sum(weighted_costs.values())\n",
    "    \n",
    "    if debug:\n",
    "        print(\"Cost Breakdown:\")\n",
    "        for key, value in constraint_costs.items():\n",
    "            print(f\"  {key}: {value:.6f}\")\n",
    "        for key, value in weighted_costs.items():\n",
    "            print(f\"  {key}: {value:.6f}\")\n",
    "        print(f\"  Total Cost: {total_cost:.6f}\")\n",
    "    \n",
    "    return total_cost\n"
   ]
  },
  {
   "cell_type": "markdown",
   "id": "fea00b96-ec0b-4ef0-8fcc-38bc2b15a601",
   "metadata": {},
   "source": [
    "## Bounds: Change this to change how the optimizer will perform\n",
    "Below is a list of bounds, if you want to tweak how the optimizer will perform, mess around with them!"
   ]
  },
  {
   "cell_type": "code",
   "execution_count": 314,
   "id": "a2784c48-6132-4365-92f2-58c836729c7d",
   "metadata": {},
   "outputs": [],
   "source": [
    "from scipy.optimize import minimize\n",
    "import pyswarms as ps\n",
    "\n",
    "# Define bounds for each parameter\n",
    "bounds = [\n",
    "    (4e5, 5.5e5),     # T_A0\n",
    "    (0.35, 0.5),     # TSFC (converted to per hour in cost function)\n",
    "    (0.9, 0.95),    # e\n",
    "    (0, 1.8e6),     # W_max\n",
    "    (1e4, 2e4),  # S_\n",
    "    (1.5, 1.8),     # C_Lmax\n",
    "    (0.8, 0.9),    # Mach number\n",
    "    (3e4, 4.0e4),     # Cruise Altitude\n",
    "    (0.02, 0.05), # C_D0\n",
    "    (0.4, 0.55),   # We_Wmax\n",
    "    (250, 325)      # b\n",
    "]"
   ]
  },
  {
   "cell_type": "markdown",
   "id": "180cd546-41ca-4024-bac4-17f97aabd808",
   "metadata": {},
   "source": [
    "### The Optimizer functions themselves"
   ]
  },
  {
   "cell_type": "code",
   "execution_count": 311,
   "id": "861a3fc1-30cf-4edb-9ebb-cc5b05628524",
   "metadata": {},
   "outputs": [],
   "source": [
    "\n",
    "def scipy_optimizer(cost_function, x0=None):\n",
    "    \"\"\"\n",
    "    Optimize using SciPy's L-BFGS-B algorithm\n",
    "    \n",
    "    Args:\n",
    "        cost_function: Function to minimize\n",
    "        x0: Initial guess (optional)\n",
    "    \n",
    "    Returns:\n",
    "        tuple: (optimal parameters, optimal cost)\n",
    "    \"\"\"\n",
    "    if x0 is None:\n",
    "        x0 = [5e5, 0.45, 0.9, 2e6, 10200, 1.5, 0.85, 3.5e4, 0.02, 0.48, 315]\n",
    "    \n",
    "    result = minimize(\n",
    "        cost_function,\n",
    "        x0,\n",
    "        method='L-BFGS-B',\n",
    "        bounds=bounds,\n",
    "        options={\n",
    "            'maxiter': 1000,\n",
    "            'ftol': 1e-8,\n",
    "            'disp': True\n",
    "        }\n",
    "    )\n",
    "    \n",
    "    return result.x, result.fun\n",
    "def pyswarms_optimizer(cost_function, n_particles=50, iters=1000):\n",
    "    \"\"\"\n",
    "    Optimize using PySwarms' global best PSO\n",
    "    \n",
    "    Args:\n",
    "        cost_function: Function to minimize\n",
    "        n_particles: Number of particles in swarm\n",
    "        iters: Number of iterations\n",
    "    \n",
    "    Returns:\n",
    "        tuple: (optimal parameters, optimal cost)\n",
    "    \"\"\"\n",
    "    # Convert bounds to numpy arrays for PySwarms\n",
    "    lb = np.array([b[0] for b in bounds])\n",
    "    ub = np.array([b[1] for b in bounds])\n",
    "    \n",
    "    # Initialize swarm\n",
    "    options = {\n",
    "        'c1': 0.5,    # cognitive parameter\n",
    "        'c2': 0.3,    # social parameter\n",
    "        'w': 0.9,     # inertia weight\n",
    "        'k': 3,       # number of neighbors to look at\n",
    "        'p': 2        # minkowski p-norm (2 = euclidean)\n",
    "    }\n",
    "    \n",
    "    # Create optimizer object\n",
    "    optimizer = ps.single.GlobalBestPSO(\n",
    "        n_particles=n_particles,\n",
    "        dimensions=len(bounds),\n",
    "        options=options,\n",
    "        bounds=(lb, ub),\n",
    "        center=[5e5, 0.45, 0.9, 2e6, 10200, 1.5, 0.85, 3.5e4, 0.02, 0.48, 315]\n",
    "    )\n",
    "    \n",
    "    # Optimize\n",
    "    best_cost, best_pos = optimizer.optimize(\n",
    "        cost_function,\n",
    "        iters=iters,\n",
    "        verbose=True\n",
    "    )\n",
    "    \n",
    "    return best_pos, best_cost"
   ]
  },
  {
   "cell_type": "markdown",
   "id": "c70f10d0-60ea-4878-8ae6-e2a5274c7794",
   "metadata": {},
   "source": [
    "### Running the optimizers"
   ]
  },
  {
   "cell_type": "code",
   "execution_count": 317,
   "id": "6cf46e26-cdfa-409f-81ef-bf7330917ea9",
   "metadata": {},
   "outputs": [
    {
     "name": "stdout",
     "output_type": "stream",
     "text": [
      "Optimizing with SciPy L-BFGS-B...\n"
     ]
    },
    {
     "name": "stderr",
     "output_type": "stream",
     "text": [
      "2025-01-30 01:07:08,069 - pyswarms.single.global_best - INFO - Optimize for 5000 iters with {'c1': 0.5, 'c2': 0.3, 'w': 0.9, 'k': 3, 'p': 2}\n"
     ]
    },
    {
     "name": "stdout",
     "output_type": "stream",
     "text": [
      "Best parameters (SciPy): [5.00000000e+05 3.50297267e-01 9.00000000e-01 1.80000000e+06\n",
      " 1.01999999e+04 1.50000000e+00 9.00000000e-01 3.50000000e+04\n",
      " 2.10503601e-02 4.00251465e-01 3.14999556e+02]\n",
      "Best cost (SciPy): 0.19537876523404862\n",
      "\n",
      "Optimizing with PySwarms PSO...\n"
     ]
    },
    {
     "name": "stderr",
     "output_type": "stream",
     "text": [
      "pyswarms.single.global_best: 100%|██████████████████████████████████████████████████████████████████████████████████|5000/5000, best_cost=1.21\n",
      "2025-01-30 01:07:15,596 - pyswarms.single.global_best - INFO - Optimization finished | best cost: 1.2131471688389324, best pos: [4.38263233e+05 3.65896901e-01 9.31515906e-01 1.73766787e+06\n",
      " 1.03719590e+04 1.61828655e+00 8.47309895e-01 3.13337921e+04\n",
      " 2.06104516e-02 4.26833330e-01 2.84152874e+02]\n"
     ]
    },
    {
     "name": "stdout",
     "output_type": "stream",
     "text": [
      "Best parameters (PSO): [4.38263233e+05 3.65896901e-01 9.31515906e-01 1.73766787e+06\n",
      " 1.03719590e+04 1.61828655e+00 8.47309895e-01 3.13337921e+04\n",
      " 2.06104516e-02 4.26833330e-01 2.84152874e+02]\n",
      "Best cost (PSO): 1.2131471688389324\n"
     ]
    }
   ],
   "source": [
    "print(\"Optimizing with SciPy L-BFGS-B...\")\n",
    "best_params_scipy, best_cost_scipy = scipy_optimizer(cost_function)\n",
    "print(f\"Best parameters (SciPy): {best_params_scipy}\")\n",
    "print(f\"Best cost (SciPy): {best_cost_scipy}\")\n",
    "\n",
    "print(\"\\nOptimizing with PySwarms PSO...\")\n",
    "best_params_pso, best_cost_pso = pyswarms_optimizer(cost_function,n_particles=100,iters=5000)\n",
    "print(f\"Best parameters (PSO): {best_params_pso}\")\n",
    "print(f\"Best cost (PSO): {best_cost_pso}\")"
   ]
  },
  {
   "cell_type": "markdown",
   "id": "98a97b27-ea40-40ea-ad02-c0800aac6d3f",
   "metadata": {},
   "source": [
    "## The final results"
   ]
  },
  {
   "cell_type": "code",
   "execution_count": 318,
   "id": "8a243a1b-39b4-4a06-8e4c-e804d120bc3d",
   "metadata": {},
   "outputs": [
    {
     "name": "stdout",
     "output_type": "stream",
     "text": [
      "--Scipy--\n",
      "\n",
      "    wingspan of 315.00 ft; planform area of 10200.0 ft^2; AR of 9.728.\n",
      "    oswald efficiency of 0.90.\n",
      "    \n",
      "    cruise at M 0.900 at  35000.0 ft; maximum altitude of 44501.16040169462 ft\n",
      "    range of 14137.6 nm; TSFC of 0.350 /hr; parasitic drag below 0.0211\n",
      "    \n",
      "    takeoff distance of 8756.6 ft; C_L max of 1.500; gross takeoff weight of 1800000.0 lbs.\n",
      "\n",
      "    C_L at takeoff 0.623\n",
      "    \n",
      "--Particle Swarm--\n",
      "\n",
      "    wingspan of 284.15 ft; planform area of 10372.0 ft^2; AR of 7.785.\n",
      "    oswald efficiency of 0.93.\n",
      "    \n",
      "    cruise at M 0.847 at  31333.8 ft; maximum altitude of 40736.723790243836 ft\n",
      "    range of 11011.4 nm; TSFC of 0.366 /hr; parasitic drag below 0.0206\n",
      "    \n",
      "    takeoff distance of 8554.6 ft; C_L max of 1.618; gross takeoff weight of 1737667.9 lbs.\n",
      "\n",
      "    C_L at takeoff 0.563\n",
      "    \n"
     ]
    }
   ],
   "source": [
    "def print_output(x):\n",
    "    b = x[10]\n",
    "    S = x[4]\n",
    "    M = x[6]\n",
    "    h = x[7]\n",
    "    dict_inputs = convert_param_to_dict(x)\n",
    "    #print(dict_inputs)\n",
    "    sigma_max_raw = constraints_solver['sigma_max'](**dict_inputs)\n",
    "    R_raw = constraints_solver['R'](**dict_inputs)\n",
    "    S_TO_raw = constraints_solver['S_TO'](**dict_inputs)\n",
    "    max_h = Atmosphere.from_density(Atmosphere(0).density*sigma_max_raw).h / .3048\n",
    "    opt_inputs = {inp: dict_inputs[inp] for inp in optimizer_system.inputs}\n",
    "    C_L_full = optimizer_eqs[\"C_L_full\"](**opt_inputs)\n",
    "    print(f\"\"\"\n",
    "    wingspan of {b:.2f} ft; planform area of {S:.1f} ft^2; AR of {b**2 / S:.3f}.\n",
    "    oswald efficiency of {x[2]:.2f}.\n",
    "    \n",
    "    cruise at M {M:.3f} at  {h:.1f} ft; maximum altitude of {max_h[-1]} ft\n",
    "    range of {R_raw[-1]/6017:.1f} nm; TSFC of {x[1]:.3f} /hr; parasitic drag below {x[8]:.4f}\n",
    "    \n",
    "    takeoff distance of {S_TO_raw[-1]:.1f} ft; C_L max of {x[5]:.3f}; gross takeoff weight of {x[3]:.1f} lbs.\n",
    "\n",
    "    C_L at takeoff {C_L_full[-1]:.3f}\n",
    "    \"\"\")\n",
    "\n",
    "\n",
    "print(\"--Scipy--\")\n",
    "print_output(best_params_scipy)\n",
    "print(\"--Particle Swarm--\")\n",
    "print_output(best_params_pso)"
   ]
  },
  {
   "cell_type": "code",
   "execution_count": null,
   "id": "92504f0e-857f-4095-85e2-8c0021180b26",
   "metadata": {},
   "outputs": [],
   "source": []
  },
  {
   "cell_type": "code",
   "execution_count": null,
   "id": "cc21a3c4-d63b-4ae5-b401-413b3f97b57d",
   "metadata": {},
   "outputs": [],
   "source": []
  }
 ],
 "metadata": {
  "kernelspec": {
   "display_name": "Python 3 (ipykernel)",
   "language": "python",
   "name": "python3"
  },
  "language_info": {
   "codemirror_mode": {
    "name": "ipython",
    "version": 3
   },
   "file_extension": ".py",
   "mimetype": "text/x-python",
   "name": "python",
   "nbconvert_exporter": "python",
   "pygments_lexer": "ipython3",
   "version": "3.13.1"
  }
 },
 "nbformat": 4,
 "nbformat_minor": 5
}
