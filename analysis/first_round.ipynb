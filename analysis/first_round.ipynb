{
  "cells": [
    {
      "cell_type": "markdown",
      "id": "e8f12cf7-63d0-41dd-8c46-6c7b3771697e",
      "metadata": {
        "id": "e8f12cf7-63d0-41dd-8c46-6c7b3771697e"
      },
      "source": [
        "# Run this once in google colab"
      ]
    },
    {
      "cell_type": "code",
      "execution_count": 1,
      "id": "61c68827-ba0b-4e69-8ed9-930123a28ff4",
      "metadata": {
        "colab": {
          "base_uri": "https://localhost:8080/",
          "height": 1000
        },
        "id": "61c68827-ba0b-4e69-8ed9-930123a28ff4",
        "outputId": "7b771c05-975a-40b6-a6a5-cc69206fa202",
        "scrolled": true
      },
      "outputs": [
        {
          "output_type": "stream",
          "name": "stdout",
          "text": [
            "Cloning into 'Aero-Design-Team-Gamma'...\n",
            "remote: Enumerating objects: 259, done.\u001b[K\n",
            "remote: Counting objects: 100% (5/5), done.\u001b[K\n",
            "remote: Compressing objects: 100% (4/4), done.\u001b[K\n",
            "remote: Total 259 (delta 3), reused 1 (delta 1), pack-reused 254 (from 1)\u001b[K\n",
            "Receiving objects: 100% (259/259), 41.47 MiB | 7.88 MiB/s, done.\n",
            "Resolving deltas: 100% (117/117), done.\n",
            "Updating files: 100% (36/36), done.\n",
            "Collecting poetry==1.4.2\n",
            "  Downloading poetry-1.4.2-py3-none-any.whl.metadata (7.1 kB)\n",
            "Collecting build<0.11.0,>=0.10.0 (from poetry==1.4.2)\n",
            "  Downloading build-0.10.0-py3-none-any.whl.metadata (4.1 kB)\n",
            "Collecting cachecontrol<0.13.0,>=0.12.9 (from cachecontrol[filecache]<0.13.0,>=0.12.9->poetry==1.4.2)\n",
            "  Downloading CacheControl-0.12.14-py2.py3-none-any.whl.metadata (2.2 kB)\n",
            "Collecting cleo<3.0.0,>=2.0.0 (from poetry==1.4.2)\n",
            "  Downloading cleo-2.1.0-py3-none-any.whl.metadata (12 kB)\n",
            "Collecting crashtest<0.5.0,>=0.4.1 (from poetry==1.4.2)\n",
            "  Downloading crashtest-0.4.1-py3-none-any.whl.metadata (1.1 kB)\n",
            "Collecting dulwich<0.22.0,>=0.21.2 (from poetry==1.4.2)\n",
            "  Downloading dulwich-0.21.7-cp311-cp311-manylinux_2_17_x86_64.manylinux2014_x86_64.whl.metadata (4.3 kB)\n",
            "Requirement already satisfied: filelock<4.0.0,>=3.8.0 in /usr/local/lib/python3.11/dist-packages (from poetry==1.4.2) (3.17.0)\n",
            "Requirement already satisfied: html5lib<2.0,>=1.0 in /usr/local/lib/python3.11/dist-packages (from poetry==1.4.2) (1.1)\n",
            "Collecting installer<0.8.0,>=0.7.0 (from poetry==1.4.2)\n",
            "  Downloading installer-0.7.0-py3-none-any.whl.metadata (936 bytes)\n",
            "Requirement already satisfied: jsonschema<5.0.0,>=4.10.0 in /usr/local/lib/python3.11/dist-packages (from poetry==1.4.2) (4.23.0)\n",
            "Collecting keyring<24.0.0,>=23.9.0 (from poetry==1.4.2)\n",
            "  Downloading keyring-23.13.1-py3-none-any.whl.metadata (20 kB)\n",
            "Collecting lockfile<0.13.0,>=0.12.2 (from poetry==1.4.2)\n",
            "  Downloading lockfile-0.12.2-py2.py3-none-any.whl.metadata (2.4 kB)\n",
            "Requirement already satisfied: packaging>=20.4 in /usr/local/lib/python3.11/dist-packages (from poetry==1.4.2) (24.2)\n",
            "Requirement already satisfied: pexpect<5.0.0,>=4.7.0 in /usr/local/lib/python3.11/dist-packages (from poetry==1.4.2) (4.9.0)\n",
            "Collecting pkginfo<2.0.0,>=1.9.4 (from poetry==1.4.2)\n",
            "  Downloading pkginfo-1.12.0-py3-none-any.whl.metadata (12 kB)\n",
            "Collecting platformdirs<3.0.0,>=2.5.2 (from poetry==1.4.2)\n",
            "  Downloading platformdirs-2.6.2-py3-none-any.whl.metadata (9.5 kB)\n",
            "Collecting poetry-core==1.5.2 (from poetry==1.4.2)\n",
            "  Downloading poetry_core-1.5.2-py3-none-any.whl.metadata (3.4 kB)\n",
            "Collecting poetry-plugin-export<2.0.0,>=1.3.0 (from poetry==1.4.2)\n",
            "  Downloading poetry_plugin_export-1.9.0-py3-none-any.whl.metadata (3.1 kB)\n",
            "Collecting pyproject-hooks<2.0.0,>=1.0.0 (from poetry==1.4.2)\n",
            "  Downloading pyproject_hooks-1.2.0-py3-none-any.whl.metadata (1.3 kB)\n",
            "Requirement already satisfied: requests<3.0,>=2.18 in /usr/local/lib/python3.11/dist-packages (from poetry==1.4.2) (2.32.3)\n",
            "Collecting requests-toolbelt<0.11.0,>=0.9.1 (from poetry==1.4.2)\n",
            "  Downloading requests_toolbelt-0.10.1-py2.py3-none-any.whl.metadata (14 kB)\n",
            "Requirement already satisfied: shellingham<2.0,>=1.5 in /usr/local/lib/python3.11/dist-packages (from poetry==1.4.2) (1.5.4)\n",
            "Collecting tomlkit!=0.11.2,!=0.11.3,<1.0.0,>=0.11.1 (from poetry==1.4.2)\n",
            "  Downloading tomlkit-0.13.2-py3-none-any.whl.metadata (2.7 kB)\n",
            "Collecting trove-classifiers>=2022.5.19 (from poetry==1.4.2)\n",
            "  Downloading trove_classifiers-2025.1.15.22-py3-none-any.whl.metadata (2.3 kB)\n",
            "Collecting urllib3<2.0.0,>=1.26.0 (from poetry==1.4.2)\n",
            "  Downloading urllib3-1.26.20-py2.py3-none-any.whl.metadata (50 kB)\n",
            "\u001b[2K     \u001b[90m━━━━━━━━━━━━━━━━━━━━━━━━━━━━━━━━━━━━━━━━\u001b[0m \u001b[32m50.1/50.1 kB\u001b[0m \u001b[31m1.8 MB/s\u001b[0m eta \u001b[36m0:00:00\u001b[0m\n",
            "\u001b[?25hCollecting virtualenv!=20.4.5,!=20.4.6,<21.0.0,>=20.4.3 (from poetry==1.4.2)\n",
            "  Downloading virtualenv-20.29.1-py3-none-any.whl.metadata (4.5 kB)\n",
            "Requirement already satisfied: msgpack>=0.5.2 in /usr/local/lib/python3.11/dist-packages (from cachecontrol<0.13.0,>=0.12.9->cachecontrol[filecache]<0.13.0,>=0.12.9->poetry==1.4.2) (1.1.0)\n",
            "Collecting rapidfuzz<4.0.0,>=3.0.0 (from cleo<3.0.0,>=2.0.0->poetry==1.4.2)\n",
            "  Downloading rapidfuzz-3.11.0-cp311-cp311-manylinux_2_17_x86_64.manylinux2014_x86_64.whl.metadata (11 kB)\n",
            "Requirement already satisfied: six>=1.9 in /usr/local/lib/python3.11/dist-packages (from html5lib<2.0,>=1.0->poetry==1.4.2) (1.17.0)\n",
            "Requirement already satisfied: webencodings in /usr/local/lib/python3.11/dist-packages (from html5lib<2.0,>=1.0->poetry==1.4.2) (0.5.1)\n",
            "Requirement already satisfied: attrs>=22.2.0 in /usr/local/lib/python3.11/dist-packages (from jsonschema<5.0.0,>=4.10.0->poetry==1.4.2) (24.3.0)\n",
            "Requirement already satisfied: jsonschema-specifications>=2023.03.6 in /usr/local/lib/python3.11/dist-packages (from jsonschema<5.0.0,>=4.10.0->poetry==1.4.2) (2024.10.1)\n",
            "Requirement already satisfied: referencing>=0.28.4 in /usr/local/lib/python3.11/dist-packages (from jsonschema<5.0.0,>=4.10.0->poetry==1.4.2) (0.36.1)\n",
            "Requirement already satisfied: rpds-py>=0.7.1 in /usr/local/lib/python3.11/dist-packages (from jsonschema<5.0.0,>=4.10.0->poetry==1.4.2) (0.22.3)\n",
            "Collecting jaraco.classes (from keyring<24.0.0,>=23.9.0->poetry==1.4.2)\n",
            "  Downloading jaraco.classes-3.4.0-py3-none-any.whl.metadata (2.6 kB)\n",
            "Requirement already satisfied: importlib-metadata>=4.11.4 in /usr/local/lib/python3.11/dist-packages (from keyring<24.0.0,>=23.9.0->poetry==1.4.2) (8.6.1)\n",
            "Requirement already satisfied: SecretStorage>=3.2 in /usr/lib/python3/dist-packages (from keyring<24.0.0,>=23.9.0->poetry==1.4.2) (3.3.1)\n",
            "Requirement already satisfied: jeepney>=0.4.2 in /usr/lib/python3/dist-packages (from keyring<24.0.0,>=23.9.0->poetry==1.4.2) (0.7.1)\n",
            "Requirement already satisfied: ptyprocess>=0.5 in /usr/local/lib/python3.11/dist-packages (from pexpect<5.0.0,>=4.7.0->poetry==1.4.2) (0.7.0)\n",
            "INFO: pip is looking at multiple versions of poetry-plugin-export to determine which version is compatible with other requirements. This could take a while.\n",
            "Collecting poetry-plugin-export<2.0.0,>=1.3.0 (from poetry==1.4.2)\n",
            "  Downloading poetry_plugin_export-1.8.0-py3-none-any.whl.metadata (2.8 kB)\n",
            "  Downloading poetry_plugin_export-1.7.1-py3-none-any.whl.metadata (2.8 kB)\n",
            "  Downloading poetry_plugin_export-1.7.0-py3-none-any.whl.metadata (2.8 kB)\n",
            "  Downloading poetry_plugin_export-1.6.0-py3-none-any.whl.metadata (2.8 kB)\n",
            "  Downloading poetry_plugin_export-1.5.0-py3-none-any.whl.metadata (2.7 kB)\n",
            "  Downloading poetry_plugin_export-1.4.0-py3-none-any.whl.metadata (2.6 kB)\n",
            "  Downloading poetry_plugin_export-1.3.1-py3-none-any.whl.metadata (2.6 kB)\n",
            "Requirement already satisfied: charset-normalizer<4,>=2 in /usr/local/lib/python3.11/dist-packages (from requests<3.0,>=2.18->poetry==1.4.2) (3.4.1)\n",
            "Requirement already satisfied: idna<4,>=2.5 in /usr/local/lib/python3.11/dist-packages (from requests<3.0,>=2.18->poetry==1.4.2) (3.10)\n",
            "Requirement already satisfied: certifi>=2017.4.17 in /usr/local/lib/python3.11/dist-packages (from requests<3.0,>=2.18->poetry==1.4.2) (2024.12.14)\n",
            "Collecting distlib<1,>=0.3.7 (from virtualenv!=20.4.5,!=20.4.6,<21.0.0,>=20.4.3->poetry==1.4.2)\n",
            "  Downloading distlib-0.3.9-py2.py3-none-any.whl.metadata (5.2 kB)\n",
            "INFO: pip is looking at multiple versions of virtualenv to determine which version is compatible with other requirements. This could take a while.\n",
            "Collecting virtualenv!=20.4.5,!=20.4.6,<21.0.0,>=20.4.3 (from poetry==1.4.2)\n",
            "  Downloading virtualenv-20.29.0-py3-none-any.whl.metadata (4.5 kB)\n",
            "  Downloading virtualenv-20.28.1-py3-none-any.whl.metadata (4.5 kB)\n",
            "  Downloading virtualenv-20.28.0-py3-none-any.whl.metadata (4.4 kB)\n",
            "  Downloading virtualenv-20.27.1-py3-none-any.whl.metadata (4.5 kB)\n",
            "  Downloading virtualenv-20.27.0-py3-none-any.whl.metadata (4.5 kB)\n",
            "  Downloading virtualenv-20.26.6-py3-none-any.whl.metadata (4.5 kB)\n",
            "  Downloading virtualenv-20.26.5-py3-none-any.whl.metadata (4.5 kB)\n",
            "INFO: pip is still looking at multiple versions of virtualenv to determine which version is compatible with other requirements. This could take a while.\n",
            "  Downloading virtualenv-20.26.4-py3-none-any.whl.metadata (4.5 kB)\n",
            "  Downloading virtualenv-20.26.3-py3-none-any.whl.metadata (4.5 kB)\n",
            "  Downloading virtualenv-20.26.2-py3-none-any.whl.metadata (4.4 kB)\n",
            "  Downloading virtualenv-20.26.1-py3-none-any.whl.metadata (4.4 kB)\n",
            "  Downloading virtualenv-20.26.0-py3-none-any.whl.metadata (4.4 kB)\n",
            "INFO: This is taking longer than usual. You might need to provide the dependency resolver with stricter constraints to reduce runtime. See https://pip.pypa.io/warnings/backtracking for guidance. If you want to abort this run, press Ctrl + C.\n",
            "  Downloading virtualenv-20.25.3-py3-none-any.whl.metadata (4.4 kB)\n",
            "  Downloading virtualenv-20.25.2-py3-none-any.whl.metadata (4.4 kB)\n",
            "  Downloading virtualenv-20.25.1-py3-none-any.whl.metadata (4.4 kB)\n",
            "  Downloading virtualenv-20.25.0-py3-none-any.whl.metadata (4.5 kB)\n",
            "  Downloading virtualenv-20.24.7-py3-none-any.whl.metadata (4.5 kB)\n",
            "  Downloading virtualenv-20.24.6-py3-none-any.whl.metadata (4.5 kB)\n",
            "  Downloading virtualenv-20.24.5-py3-none-any.whl.metadata (4.5 kB)\n",
            "  Downloading virtualenv-20.24.4-py3-none-any.whl.metadata (4.5 kB)\n",
            "  Downloading virtualenv-20.24.3-py3-none-any.whl.metadata (4.5 kB)\n",
            "  Downloading virtualenv-20.24.2-py3-none-any.whl.metadata (4.5 kB)\n",
            "  Downloading virtualenv-20.24.1-py3-none-any.whl.metadata (4.5 kB)\n",
            "  Downloading virtualenv-20.24.0-py3-none-any.whl.metadata (4.5 kB)\n",
            "  Downloading virtualenv-20.23.1-py3-none-any.whl.metadata (4.5 kB)\n",
            "  Downloading virtualenv-20.23.0-py3-none-any.whl.metadata (4.3 kB)\n",
            "  Downloading virtualenv-20.22.0-py3-none-any.whl.metadata (4.1 kB)\n",
            "  Downloading virtualenv-20.21.1-py3-none-any.whl.metadata (4.1 kB)\n",
            "Requirement already satisfied: zipp>=3.20 in /usr/local/lib/python3.11/dist-packages (from importlib-metadata>=4.11.4->keyring<24.0.0,>=23.9.0->poetry==1.4.2) (3.21.0)\n",
            "Requirement already satisfied: typing-extensions>=4.4.0 in /usr/local/lib/python3.11/dist-packages (from referencing>=0.28.4->jsonschema<5.0.0,>=4.10.0->poetry==1.4.2) (4.12.2)\n",
            "Requirement already satisfied: more-itertools in /usr/local/lib/python3.11/dist-packages (from jaraco.classes->keyring<24.0.0,>=23.9.0->poetry==1.4.2) (10.5.0)\n",
            "Downloading poetry-1.4.2-py3-none-any.whl (222 kB)\n",
            "\u001b[2K   \u001b[90m━━━━━━━━━━━━━━━━━━━━━━━━━━━━━━━━━━━━━━━━\u001b[0m \u001b[32m222.7/222.7 kB\u001b[0m \u001b[31m4.6 MB/s\u001b[0m eta \u001b[36m0:00:00\u001b[0m\n",
            "\u001b[?25hDownloading poetry_core-1.5.2-py3-none-any.whl (465 kB)\n",
            "\u001b[2K   \u001b[90m━━━━━━━━━━━━━━━━━━━━━━━━━━━━━━━━━━━━━━━━\u001b[0m \u001b[32m465.2/465.2 kB\u001b[0m \u001b[31m17.2 MB/s\u001b[0m eta \u001b[36m0:00:00\u001b[0m\n",
            "\u001b[?25hDownloading build-0.10.0-py3-none-any.whl (17 kB)\n",
            "Downloading CacheControl-0.12.14-py2.py3-none-any.whl (21 kB)\n",
            "Downloading cleo-2.1.0-py3-none-any.whl (78 kB)\n",
            "\u001b[2K   \u001b[90m━━━━━━━━━━━━━━━━━━━━━━━━━━━━━━━━━━━━━━━━\u001b[0m \u001b[32m78.7/78.7 kB\u001b[0m \u001b[31m4.5 MB/s\u001b[0m eta \u001b[36m0:00:00\u001b[0m\n",
            "\u001b[?25hDownloading crashtest-0.4.1-py3-none-any.whl (7.6 kB)\n",
            "Downloading dulwich-0.21.7-cp311-cp311-manylinux_2_17_x86_64.manylinux2014_x86_64.whl (516 kB)\n",
            "\u001b[2K   \u001b[90m━━━━━━━━━━━━━━━━━━━━━━━━━━━━━━━━━━━━━━━━\u001b[0m \u001b[32m516.4/516.4 kB\u001b[0m \u001b[31m25.5 MB/s\u001b[0m eta \u001b[36m0:00:00\u001b[0m\n",
            "\u001b[?25hDownloading installer-0.7.0-py3-none-any.whl (453 kB)\n",
            "\u001b[2K   \u001b[90m━━━━━━━━━━━━━━━━━━━━━━━━━━━━━━━━━━━━━━━━\u001b[0m \u001b[32m453.8/453.8 kB\u001b[0m \u001b[31m18.4 MB/s\u001b[0m eta \u001b[36m0:00:00\u001b[0m\n",
            "\u001b[?25hDownloading keyring-23.13.1-py3-none-any.whl (37 kB)\n",
            "Downloading lockfile-0.12.2-py2.py3-none-any.whl (13 kB)\n",
            "Downloading pkginfo-1.12.0-py3-none-any.whl (32 kB)\n",
            "Downloading platformdirs-2.6.2-py3-none-any.whl (14 kB)\n",
            "Downloading poetry_plugin_export-1.3.1-py3-none-any.whl (10 kB)\n",
            "Downloading pyproject_hooks-1.2.0-py3-none-any.whl (10 kB)\n",
            "Downloading requests_toolbelt-0.10.1-py2.py3-none-any.whl (54 kB)\n",
            "\u001b[2K   \u001b[90m━━━━━━━━━━━━━━━━━━━━━━━━━━━━━━━━━━━━━━━━\u001b[0m \u001b[32m54.5/54.5 kB\u001b[0m \u001b[31m3.0 MB/s\u001b[0m eta \u001b[36m0:00:00\u001b[0m\n",
            "\u001b[?25hDownloading tomlkit-0.13.2-py3-none-any.whl (37 kB)\n",
            "Downloading trove_classifiers-2025.1.15.22-py3-none-any.whl (13 kB)\n",
            "Downloading urllib3-1.26.20-py2.py3-none-any.whl (144 kB)\n",
            "\u001b[2K   \u001b[90m━━━━━━━━━━━━━━━━━━━━━━━━━━━━━━━━━━━━━━━━\u001b[0m \u001b[32m144.2/144.2 kB\u001b[0m \u001b[31m10.2 MB/s\u001b[0m eta \u001b[36m0:00:00\u001b[0m\n",
            "\u001b[?25hDownloading virtualenv-20.21.1-py3-none-any.whl (8.7 MB)\n",
            "\u001b[2K   \u001b[90m━━━━━━━━━━━━━━━━━━━━━━━━━━━━━━━━━━━━━━━━\u001b[0m \u001b[32m8.7/8.7 MB\u001b[0m \u001b[31m80.7 MB/s\u001b[0m eta \u001b[36m0:00:00\u001b[0m\n",
            "\u001b[?25hDownloading distlib-0.3.9-py2.py3-none-any.whl (468 kB)\n",
            "\u001b[2K   \u001b[90m━━━━━━━━━━━━━━━━━━━━━━━━━━━━━━━━━━━━━━━━\u001b[0m \u001b[32m469.0/469.0 kB\u001b[0m \u001b[31m29.8 MB/s\u001b[0m eta \u001b[36m0:00:00\u001b[0m\n",
            "\u001b[?25hDownloading rapidfuzz-3.11.0-cp311-cp311-manylinux_2_17_x86_64.manylinux2014_x86_64.whl (3.1 MB)\n",
            "\u001b[2K   \u001b[90m━━━━━━━━━━━━━━━━━━━━━━━━━━━━━━━━━━━━━━━━\u001b[0m \u001b[32m3.1/3.1 MB\u001b[0m \u001b[31m75.4 MB/s\u001b[0m eta \u001b[36m0:00:00\u001b[0m\n",
            "\u001b[?25hDownloading jaraco.classes-3.4.0-py3-none-any.whl (6.8 kB)\n",
            "Installing collected packages: trove-classifiers, lockfile, distlib, urllib3, tomlkit, rapidfuzz, pyproject-hooks, poetry-core, platformdirs, pkginfo, jaraco.classes, installer, crashtest, virtualenv, keyring, dulwich, cleo, build, requests-toolbelt, cachecontrol, poetry-plugin-export, poetry\n",
            "  Attempting uninstall: urllib3\n",
            "    Found existing installation: urllib3 2.3.0\n",
            "    Uninstalling urllib3-2.3.0:\n",
            "      Successfully uninstalled urllib3-2.3.0\n",
            "  Attempting uninstall: platformdirs\n",
            "    Found existing installation: platformdirs 4.3.6\n",
            "    Uninstalling platformdirs-4.3.6:\n",
            "      Successfully uninstalled platformdirs-4.3.6\n",
            "  Attempting uninstall: keyring\n",
            "    Found existing installation: keyring 23.5.0\n",
            "    Uninstalling keyring-23.5.0:\n",
            "      Successfully uninstalled keyring-23.5.0\n",
            "  Attempting uninstall: requests-toolbelt\n",
            "    Found existing installation: requests-toolbelt 1.0.0\n",
            "    Uninstalling requests-toolbelt-1.0.0:\n",
            "      Successfully uninstalled requests-toolbelt-1.0.0\n",
            "  Attempting uninstall: cachecontrol\n",
            "    Found existing installation: CacheControl 0.14.2\n",
            "    Uninstalling CacheControl-0.14.2:\n",
            "      Successfully uninstalled CacheControl-0.14.2\n",
            "\u001b[31mERROR: pip's dependency resolver does not currently take into account all the packages that are installed. This behaviour is the source of the following dependency conflicts.\n",
            "langsmith 0.3.1 requires requests-toolbelt<2.0.0,>=1.0.0, but you have requests-toolbelt 0.10.1 which is incompatible.\u001b[0m\u001b[31m\n",
            "\u001b[0mSuccessfully installed build-0.10.0 cachecontrol-0.12.14 cleo-2.1.0 crashtest-0.4.1 distlib-0.3.9 dulwich-0.21.7 installer-0.7.0 jaraco.classes-3.4.0 keyring-23.13.1 lockfile-0.12.2 pkginfo-1.12.0 platformdirs-2.6.2 poetry-1.4.2 poetry-core-1.5.2 poetry-plugin-export-1.3.1 pyproject-hooks-1.2.0 rapidfuzz-3.11.0 requests-toolbelt-0.10.1 tomlkit-0.13.2 trove-classifiers-2025.1.15.22 urllib3-1.26.20 virtualenv-20.21.1\n"
          ]
        },
        {
          "output_type": "display_data",
          "data": {
            "application/vnd.colab-display-data+json": {
              "pip_warning": {
                "packages": [
                  "jaraco"
                ]
              },
              "id": "7a5b56ee23384181b6dfbcb1a7a8fdbe"
            }
          },
          "metadata": {}
        }
      ],
      "source": [
        "!git clone -b implementing-vars https://github.com/DrYogurt/Aero-Design-Team-Gamma.git\n",
        "!pip install poetry==1.4.2"
      ]
    },
    {
      "cell_type": "code",
      "execution_count": 1,
      "id": "S0bS4LbKlJMv",
      "metadata": {
        "colab": {
          "base_uri": "https://localhost:8080/"
        },
        "id": "S0bS4LbKlJMv",
        "outputId": "304ecc0f-5e76-4efc-ccee-c228baa821db"
      },
      "outputs": [
        {
          "output_type": "stream",
          "name": "stdout",
          "text": [
            "/content/Aero-Design-Team-Gamma\n",
            "Creating virtualenv aerospace-design-team-gamma in /content/Aero-Design-Team-Gamma/.venv\n",
            "Installing dependencies from lock file\n",
            "The lock file might not be compatible with the current version of Poetry.\n",
            "Upgrade Poetry to ensure the lock file is read properly or, alternatively, regenerate the lock file with the `poetry lock` command.\n",
            "\n",
            "Package operations: 134 installs, 1 update, 0 removals\n",
            "\n",
            "  • Installing attrs (25.1.0)\n",
            "  • Installing rpds-py (0.22.3)\n",
            "  • Installing typing-extensions (4.12.2)\n",
            "  • Installing referencing (0.36.2)\n",
            "  • Installing six (1.17.0)\n",
            "  • Installing jsonschema-specifications (2024.10.1)\n",
            "  • Installing platformdirs (4.3.6)\n",
            "  • Installing traitlets (5.14.3)\n",
            "  • Installing python-dateutil (2.9.0.post0)\n",
            "  • Installing types-python-dateutil (2.9.0.20241206)\n",
            "  • Installing arrow (1.3.0)\n",
            "  • Installing fastjsonschema (2.21.1)\n",
            "  • Installing jsonschema (4.23.0)\n",
            "  • Installing jupyter-core (5.7.2)\n",
            "  • Installing pycparser (2.22)\n",
            "  • Installing pyzmq (26.2.0)\n",
            "  • Installing tornado (6.4.2)\n",
            "  • Installing webencodings (0.5.1)\n",
            "  • Installing cffi (1.17.1)\n",
            "  • Installing fqdn (1.5.1)\n",
            "  • Installing idna (3.10)\n",
            "  • Installing isoduration (20.11.0)\n",
            "  • Installing jsonpointer (3.0.0)\n",
            "  • Installing jupyter-client (8.6.3)\n",
            "  • Installing markupsafe (3.0.2)\n",
            "  • Installing nbformat (5.10.4)\n",
            "  • Installing ptyprocess (0.7.0)\n",
            "  • Installing rfc3339-validator (0.1.4)\n",
            "  • Installing rfc3986-validator (0.1.1)\n",
            "  • Installing soupsieve (2.6)\n",
            "  • Installing tinycss2 (1.4.0)\n",
            "  • Installing uri-template (1.3.0)\n",
            "  • Installing webcolors (24.11.1)\n",
            "  • Installing argon2-cffi-bindings (21.2.0)\n",
            "  • Installing asttokens (3.0.0)\n",
            "  • Installing beautifulsoup4 (4.12.3)\n",
            "  • Installing bleach (6.2.0)\n",
            "  • Installing defusedxml (0.7.1)\n",
            "  • Installing executing (2.2.0)\n",
            "  • Installing jinja2 (3.1.5)\n",
            "  • Installing jupyterlab-pygments (0.3.0)\n",
            "  • Installing mistune (3.1.0)\n",
            "  • Installing nbclient (0.10.2)\n",
            "  • Installing packaging (24.2)\n",
            "  • Installing pandocfilters (1.5.1)\n",
            "  • Installing parso (0.8.4)\n",
            "  • Installing pure-eval (0.2.3)\n",
            "  • Installing pygments (2.19.1)\n",
            "  • Installing python-json-logger (3.2.1)\n",
            "  • Installing pyyaml (6.0.2)\n",
            "  • Installing sniffio (1.3.1)\n",
            "  • Installing terminado (0.18.1)\n",
            "  • Installing wcwidth (0.2.13)\n",
            "  • Installing anyio (4.8.0)\n",
            "  • Installing argon2-cffi (23.1.0)\n",
            "  • Installing certifi (2024.12.14)\n",
            "  • Installing charset-normalizer (3.4.1)\n",
            "  • Installing decorator (5.1.1)\n",
            "  • Installing h11 (0.14.0)\n",
            "  • Installing jedi (0.19.2)\n",
            "  • Installing jupyter-events (0.11.0)\n",
            "  • Installing jupyter-server-terminals (0.5.3)\n",
            "  • Installing matplotlib-inline (0.1.7)\n",
            "  • Installing nbconvert (7.16.5)\n",
            "  • Installing overrides (7.7.0)\n",
            "  • Installing pexpect (4.9.0)\n",
            "  • Installing prometheus-client (0.21.1)\n",
            "  • Installing prompt-toolkit (3.0.50)\n",
            "  • Installing send2trash (1.8.3)\n",
            "  • Installing stack-data (0.6.3)\n",
            "  • Installing urllib3 (2.3.0)\n",
            "  • Installing websocket-client (1.8.0)\n",
            "  • Installing babel (2.16.0)\n",
            "  • Installing comm (0.2.2)\n",
            "  • Installing debugpy (1.8.12)\n",
            "  • Installing httpcore (1.0.7)\n",
            "  • Installing ipython (8.31.0)\n",
            "  • Installing json5 (0.10.0)\n",
            "  • Installing jupyter-server (2.15.0)\n",
            "  • Installing nest-asyncio (1.6.0)\n",
            "  • Installing numpy (1.26.4)\n",
            "  • Installing psutil (6.1.1)\n",
            "  • Installing pytz (2024.2)\n",
            "  • Installing requests (2.32.3)\n",
            "  • Installing tzdata (2024.2)\n",
            "  • Installing async-lru (2.0.4)\n",
            "  • Installing httpx (0.28.1)\n",
            "  • Installing ipykernel (6.29.5)\n",
            "  • Installing jupyter-lsp (2.2.5)\n",
            "  • Installing jupyterlab-server (2.27.3)\n",
            "  • Installing notebook-shim (0.2.4)\n",
            "  • Installing pandas (2.2.3)\n",
            "  • Updating setuptools (67.6.1 -> 75.8.0)\n",
            "  • Installing contourpy (1.3.1)\n",
            "  • Installing cycler (0.12.1)\n",
            "  • Installing h5py (3.12.1)\n",
            "  • Installing fonttools (4.55.3)\n",
            "  • Installing jupyterlab (4.3.4)\n",
            "  • Installing jupyterlab-widgets (3.0.13)\n",
            "  • Installing kiwisolver (1.4.8)\n",
            "  • Installing pillow (11.1.0)\n",
            "  • Installing pyparsing (3.2.1)\n",
            "  • Installing scipy (1.15.1)\n",
            "  • Installing widgetsnbextension (4.0.13)\n",
            "  • Installing xarray (2025.1.1)\n",
            "  • Installing click (8.1.8)\n",
            "  • Installing iniconfig (2.0.0)\n",
            "  • Installing ipywidgets (8.1.5)\n",
            "  • Installing jupyter-console (6.6.3)\n",
            "  • Installing matplotlib (3.10.0)\n",
            "  • Installing h5netcdf (1.5.0)\n",
            "  • Installing mccabe (0.7.0)\n",
            "  • Installing mpmath (1.3.0)\n",
            "  • Installing mypy-extensions (1.0.0)\n",
            "  • Installing notebook (7.3.2)\n",
            "  • Installing pathspec (0.12.1)\n",
            "  • Installing pluggy (1.5.0)\n",
            "  • Installing plumbum (1.9.0)\n",
            "  • Installing ply (3.11)\n",
            "  • Installing pycodestyle (2.11.1)\n",
            "  • Installing pyflakes (3.1.0)\n",
            "  • Installing xarray-einstats (0.8.0)\n",
            "  • Installing ambiance (1.3.1)\n",
            "  • Installing arviz (0.20.0)\n",
            "  • Installing corner (2.2.3)\n",
            "  • Installing flake8 (6.1.0)\n",
            "  • Installing black (23.12.1)\n",
            "  • Installing isort (5.13.2)\n",
            "  • Installing jupyter (1.1.1)\n",
            "  • Installing networkx (3.4.2)\n",
            "  • Installing pandoc (2.4)\n",
            "  • Installing pypandoc (1.15)\n",
            "  • Installing pytest (7.4.4)\n",
            "  • Installing python-frontmatter (1.1.0)\n",
            "  • Installing sympy (1.13.3)\n",
            "\n",
            "Installing the current project: Aerospace-Design-Team-Gamma (0.1.0)\n"
          ]
        }
      ],
      "source": [
        "%cd Aero-Design-Team-Gamma\n",
        "!poetry config virtualenvs.in-project true\n",
        "!poetry install --no-ansi"
      ]
    },
    {
      "cell_type": "code",
      "execution_count": 2,
      "id": "7Xdugkd5kPKW",
      "metadata": {
        "id": "7Xdugkd5kPKW"
      },
      "outputs": [],
      "source": [
        "VENV_PATH = \"/content/Aero-Design-Team-Gamma/.venv/lib/python3.11/site-packages\"\n",
        "import os, sys\n",
        "LOCAL_VENV_PATH = '/content/venv' # local notebook\n",
        "os.symlink(VENV_PATH, LOCAL_VENV_PATH) # connect to directory in drive\n",
        "sys.path.insert(0, LOCAL_VENV_PATH)"
      ]
    },
    {
      "cell_type": "markdown",
      "id": "8529932b-cc79-4b7d-a269-6554072aae47",
      "metadata": {
        "id": "8529932b-cc79-4b7d-a269-6554072aae47"
      },
      "source": [
        "# Code Begins Here"
      ]
    },
    {
      "cell_type": "code",
      "execution_count": 3,
      "id": "FhEtf4HufA6d",
      "metadata": {
        "id": "FhEtf4HufA6d"
      },
      "outputs": [],
      "source": [
        "from ambiance import Atmosphere\n",
        "\n",
        "from global_variables.solver import EquationSystem\n",
        "from global_variables.registry import VariableRegistry, Variable\n",
        "\n",
        "registry = VariableRegistry(\"aero_vars.yaml\")"
      ]
    },
    {
      "cell_type": "code",
      "execution_count": 4,
      "id": "nvzUc09vfMSc",
      "metadata": {
        "colab": {
          "base_uri": "https://localhost:8080/"
        },
        "id": "nvzUc09vfMSc",
        "outputId": "da91ffa8-20c4-4512-f195-5daf421f4f72"
      },
      "outputs": [
        {
          "output_type": "stream",
          "name": "stdout",
          "text": [
            "Required inputs: {'mu', 'W_max', 'e', 'C_Lmax', 'C_D0', 'TSFC', 'S_', 'T_A0', 'rho', 'b', 'V', 'W_pax', 'We_Wmax', 'n_pax'}\n"
          ]
        },
        {
          "output_type": "execute_result",
          "data": {
            "text/plain": [
              "{'sigma_max': <global_variables.solver.EquationSystem at 0x7db6987abd10>,\n",
              " 'S_TO': <global_variables.solver.EquationSystem at 0x7db697dad1d0>,\n",
              " 'R': <global_variables.solver.EquationSystem at 0x7db697a91390>}"
            ]
          },
          "metadata": {},
          "execution_count": 4
        }
      ],
      "source": [
        "outputs = {\"S_TO\", \"R\", \"sigma_max\"}\n",
        "#outputs = {\"R\", \"sigma_max\"}\n",
        "\n",
        "# Create solvers for each output\n",
        "solvers = {\n",
        "    output: EquationSystem(registry, {output})\n",
        "    for output in outputs\n",
        "}\n",
        "\n",
        "# Get all unique inputs\n",
        "all_inputs = set().union(*(solver.inputs for solver in solvers.values()))\n",
        "print(f\"Required inputs: {all_inputs}\")\n",
        "solvers"
      ]
    },
    {
      "cell_type": "code",
      "source": [
        "import matplotlib.pyplot as plt\n",
        "import numpy as np\n",
        "import sympy"
      ],
      "metadata": {
        "id": "nZHx3DyVAseV"
      },
      "id": "nZHx3DyVAseV",
      "execution_count": 8,
      "outputs": []
    },
    {
      "cell_type": "code",
      "source": [
        "functions, _ = solvers[\"R\"].create_solver()\n",
        "\n",
        "R_func = functions[\"R\"]"
      ],
      "metadata": {
        "id": "NhQw9spFBAvE",
        "outputId": "5b14e421-d452-4352-fbd1-223724ed4494",
        "colab": {
          "base_uri": "https://localhost:8080/"
        }
      },
      "id": "NhQw9spFBAvE",
      "execution_count": 13,
      "outputs": [
        {
          "output_type": "execute_result",
          "data": {
            "text/plain": [
              "<function _lambdifygenerated(C_D0, S_, TSFC, V, W_max, W_pax, We_Wmax, b, e, n_pax, rho)>"
            ]
          },
          "metadata": {},
          "execution_count": 13
        }
      ]
    },
    {
      "cell_type": "code",
      "source": [
        "def R_vs_TSFC(cT,M):\n",
        "  return R_func(C_D0=0.025,\n",
        "         S_=10200,\n",
        "         TSFC=cT/3600,\n",
        "         V=velocity(M=M,h=3.5e4),\n",
        "         W_max=2e6,\n",
        "         W_pax=205,\n",
        "         We_Wmax=.46,\n",
        "         b=315,\n",
        "         e=0.9,\n",
        "         n_pax=1255,\n",
        "         rho=rho_func(3.5e4))\n",
        "\n",
        "cTs = np.linspace(0.38,0.42,100)\n",
        "Rs = {M : R_vs_TSFC(cTs,M) for M in [0.8,0.85,0.9]}\n",
        "\n",
        "for M,R in Rs.items():\n",
        "  plt.plot(cTs,R/6017,label=M)\n",
        "plt.xlabel(\"TSFC (1/hrs)\")\n",
        "plt.ylabel(\"Range (nm)\")\n",
        "plt.title(\"Range vs. TSFC\")\n",
        "# horizontal line at 10k\n",
        "plt.axhline(y=10e3, color='r', linestyle='--',label=\"10k nm\")\n",
        "plt.legend()\n",
        "\n",
        "\n",
        "plt.show()"
      ],
      "metadata": {
        "id": "PTXHOA6KDNJK",
        "outputId": "24f822e9-2c2f-4599-828c-92b76d6bc67e",
        "colab": {
          "base_uri": "https://localhost:8080/",
          "height": 472
        }
      },
      "id": "PTXHOA6KDNJK",
      "execution_count": 24,
      "outputs": [
        {
          "output_type": "display_data",
          "data": {
            "text/plain": [
              "<Figure size 640x480 with 1 Axes>"
            ],
            "image/png": "[encoded data removed]"
          },
          "metadata": {}
        }
      ]
    },
    {
      "cell_type": "code",
      "execution_count": 14,
      "id": "na5rbBzkmNoC",
      "metadata": {
        "id": "na5rbBzkmNoC"
      },
      "outputs": [],
      "source": [
        "def velocity(M,h):\n",
        "  atmo = Atmosphere(h * 0.3048)\n",
        "  return atmo.speed_of_sound[-1] * M / 0.3048"
      ]
    },
    {
      "cell_type": "code",
      "execution_count": 15,
      "id": "OJPtmCUkoFMP",
      "metadata": {
        "id": "OJPtmCUkoFMP"
      },
      "outputs": [],
      "source": [
        "def rho_func(h):\n",
        "  atmo = Atmosphere(h * 0.3048)\n",
        "  return atmo.density[-1] * 0.00194032"
      ]
    },
    {
      "cell_type": "code",
      "execution_count": null,
      "id": "HouWKx25gRum",
      "metadata": {
        "colab": {
          "base_uri": "https://localhost:8080/"
        },
        "id": "HouWKx25gRum",
        "outputId": "6ab45984-d189-47da-b4dd-f0b8c517f2eb"
      },
      "outputs": [
        {
          "name": "stdout",
          "output_type": "stream",
          "text": [
            "{'V': (778.514759070209, 924.4862763958732), 'S_': (8000.0, 15000.0), 'b': (300, 350), 'T_A0': (480000.0, 520000.0), 'W_pax': (200, 225), 'e': (0.8, 1.0), 'mu': (0.01, 0.05), 'W_max': (1900000.0, 2200000.0), 'C_Lmax': (1.5, 1.8), 'C_D0': (0.01, 0.035), 'rho': (0.0004622719956876411, 0.0023768920351669182), 'n_pax': (1200, 1260), 'We_Wmax': (0.4, 0.6), 'TSFC': (8.333333333333333e-05, 0.00016666666666666666)}\n"
          ]
        }
      ],
      "source": [
        "\n",
        "# Generate sample points for each input\n",
        "n_samples = int(1e3)\n",
        "samples = {}\n",
        "\n",
        "# Define ranges for each input (you'll need to adjust these)\n",
        "ranges = {\n",
        "    'V':(mach(0.8,35e3),mach(0.95,35e3)), #cruising velocity ft / s\n",
        "    'S_': (8e3,15e3), # area in ft^2\n",
        "    'b': (300, 350),  # wingspan in ft^2\n",
        "    'T_A0': (4.8e5,5.2e5),\n",
        "    'W_pax': (200,225), #weight per passenger in lbs\n",
        "    'e':(0.8,1.), # oswald efficiency\n",
        "    'mu':(.01,.05),\n",
        "    'W_max':(1.9e6, 2.2e6),  # weight in lbs\n",
        "    'C_Lmax':(1.5,1.8),  # weight in lbs\n",
        "    'C_D0':(0.01,0.035),\n",
        "    'rho':(rho_func(45e3),rho_func(0)),\n",
        "    'n_pax': (1200,1260), # number of passengers\n",
        "    'We_Wmax':(0.4,0.6),\n",
        "    #'h': (0, 40000),  # altitude in ft\n",
        "    'TSFC': (0.3/3600.,0.6/ 3600), # TSFC\n",
        "\n",
        "    # Add other inputs and their ranges\n",
        "}\n",
        "print(ranges)"
      ]
    },
    {
      "cell_type": "code",
      "execution_count": null,
      "id": "l3T0bGsIpM-2",
      "metadata": {
        "id": "l3T0bGsIpM-2"
      },
      "outputs": [],
      "source": [
        "import numpy as np\n",
        "import matplotlib.pyplot as plt\n",
        "# Generate Latin Hypercube samples\n",
        "from scipy.stats import qmc\n",
        "sampler = qmc.LatinHypercube(d=len(all_inputs))\n",
        "sample_points = sampler.random(n=n_samples)\n",
        "\n",
        "# Scale samples to actual ranges\n",
        "input_list = sorted(all_inputs)\n",
        "for i, input_var in enumerate(input_list):\n",
        "    if input_var in ranges:\n",
        "        min_val, max_val = ranges[input_var]\n",
        "        samples[input_var] = qmc.scale(sample_points[:, [i]], [min_val], [max_val]).flatten()\n",
        "    else:\n",
        "        print(f\"Warning: No range defined for {input_var}\")\n",
        "        samples[input_var] = sample_points[:, i]  # Use 0-1 range as default"
      ]
    },
    {
      "cell_type": "code",
      "execution_count": null,
      "id": "ZWP6VWDwgZDJ",
      "metadata": {
        "id": "ZWP6VWDwgZDJ",
        "outputId": "3d69dc23-7340-4523-a1f1-7f7ac2142734"
      },
      "outputs": [
        {
          "name": "stdout",
          "output_type": "stream",
          "text": [
            "[48106.78743448 23977.00034352 19946.57708449 ... 16023.01719092\n",
            " 17322.89024728 24330.93880292]\n",
            "[43511957.17625377 37797936.02681816 44923105.02709642 ...\n",
            " 31927327.05539108 42168514.62117565 89299012.64495397]\n",
            "[0.2487503  0.31594882 0.1997739  ... 0.2201643  0.24236133 0.159023  ]\n"
          ]
        }
      ],
      "source": [
        "# Calculate outputs\n",
        "results = {}\n",
        "for output, solver in solvers.items():\n",
        "    solver_f,_ = solver.create_solver()\n",
        "    solver_func = solver_f[output]\n",
        "    input_args = [samples[inp] for inp in sorted(solver.inputs)]\n",
        "    try:\n",
        "        output_values = np.array(solver_func(*input_args))\n",
        "        print(output_values)\n",
        "        # Ensure output is 1D array of correct length\n",
        "        if output_values.size == 1:\n",
        "            output_values = np.full(n_samples, output_values)\n",
        "        results[output] = output_values\n",
        "    except Exception as e:\n",
        "        print(f\"Error calculating {output}: {e}\")\n",
        "#results"
      ]
    },
    {
      "cell_type": "code",
      "execution_count": null,
      "id": "976ldHv2p-ff",
      "metadata": {
        "id": "976ldHv2p-ff"
      },
      "outputs": [],
      "source": [
        "from matplotlib.colors import LinearSegmentedColormap\n",
        "from scipy.interpolate import griddata\n",
        "\n",
        "\n",
        "def create_output_corner_plot(samples, output_values, setpoint, output_name,\n",
        "                            figsize=(10, 10), n_contours=20, n_grid=50):\n",
        "    \"\"\"\n",
        "    Create a corner plot with contours showing how output varies with input pairs.\n",
        "    \"\"\"\n",
        "    # Print value ranges for debugging\n",
        "    print(f\"Output range: {np.min(output_values):.2f} to {np.max(output_values):.2f}\")\n",
        "    print(f\"Setpoint: {setpoint}\")\n",
        "\n",
        "    # Create diverging colormap centered at setpoint\n",
        "    colors = ['darkred', 'red', 'lightcoral', 'white', 'lightgreen', 'green', 'darkgreen']\n",
        "    custom_cmap = LinearSegmentedColormap.from_list('custom', colors, N=256)\n",
        "\n",
        "    input_vars = list(samples.keys())\n",
        "    n_vars = len(input_vars)\n",
        "\n",
        "    # Create figure with small margins\n",
        "    fig, axes = plt.subplots(n_vars, n_vars, figsize=figsize)\n",
        "    plt.subplots_adjust(wspace=0.1, hspace=0.1)\n",
        "\n",
        "    # If only one variable, axes won't be a 2D array\n",
        "    if n_vars == 1:\n",
        "        axes = np.array([[axes]])\n",
        "\n",
        "    # Calculate differences and normalize\n",
        "    differences = output_values - setpoint\n",
        "    abs_max = max(abs(np.min(differences)), abs(np.max(differences)))\n",
        "\n",
        "    # Create levels based on percentage differences from setpoint\n",
        "    rel_diffs = differences / abs(setpoint) * 100  # Convert to percentage\n",
        "    max_rel_diff = max(abs(np.min(rel_diffs)), abs(np.max(rel_diffs)))\n",
        "\n",
        "    # Create symmetric levels around zero in percentage terms\n",
        "    level_step = max_rel_diff / (n_contours // 2)\n",
        "    levels = np.concatenate([\n",
        "        np.arange(-max_rel_diff, 0, level_step),\n",
        "        np.array([0]),\n",
        "        np.arange(level_step, max_rel_diff + level_step, level_step)\n",
        "    ])\n",
        "\n",
        "    # Create the corner plot\n",
        "    for i in range(n_vars):\n",
        "        for j in range(n_vars):\n",
        "            ax = axes[i, j]\n",
        "\n",
        "            # Remove top and right spines for all plots\n",
        "            ax.spines['top'].set_visible(False)\n",
        "            ax.spines['right'].set_visible(False)\n",
        "\n",
        "            if i < j:  # Upper triangle - leave empty\n",
        "                ax.axis('off')\n",
        "                continue\n",
        "\n",
        "            elif i == j:  # Diagonal - histogram\n",
        "                ax.hist(samples[input_vars[i]], bins=30, density=True)\n",
        "                if i == n_vars-1:  # Only bottom row gets x labels\n",
        "                    ax.set_xlabel(input_vars[i])\n",
        "                else:\n",
        "                    ax.set_xticklabels([])\n",
        "\n",
        "                if j == 0:  # Only first column gets y labels\n",
        "                    ax.set_ylabel('Density')\n",
        "                else:\n",
        "                    ax.set_yticklabels([])\n",
        "\n",
        "            else:  # Lower triangle - contour plots\n",
        "                x = samples[input_vars[j]]\n",
        "                y = samples[input_vars[i]]\n",
        "\n",
        "                # Create grid for contour plot\n",
        "                xi = np.linspace(x.min(), x.max(), n_grid)\n",
        "                yi = np.linspace(y.min(), y.max(), n_grid)\n",
        "                xi, yi = np.meshgrid(xi, yi)\n",
        "\n",
        "                # Interpolate relative differences on the grid\n",
        "                zi = griddata((x, y), rel_diffs, (xi, yi), method='cubic')\n",
        "\n",
        "                # Create contour plot\n",
        "                contour = ax.contourf(xi, yi, zi, levels=levels, cmap=custom_cmap, extend='both')\n",
        "\n",
        "                # Add colorbar only for rightmost plots\n",
        "                if j == n_vars-1:\n",
        "                    cbar = plt.colorbar(contour, ax=ax, ticks=levels[::2])\n",
        "                    cbar.set_label('% Difference from setpoint')\n",
        "\n",
        "                # Add setpoint contour in black\n",
        "                ax.contour(xi, yi, zi, levels=[0], colors='black', linestyles='dashed')\n",
        "\n",
        "                # Only add x labels to bottom row\n",
        "                if i == n_vars-1:\n",
        "                    ax.set_xlabel(input_vars[j])\n",
        "                else:\n",
        "                    ax.set_xticklabels([])\n",
        "\n",
        "                # Only add y labels to leftmost column\n",
        "                if j == 0:\n",
        "                    ax.set_ylabel(input_vars[i])\n",
        "                else:\n",
        "                    ax.set_yticklabels([])\n",
        "\n",
        "    plt.suptitle(f'Parameter Effects on {output_name} (Setpoint: {setpoint})', y=1.02)\n",
        "    return fig, axes"
      ]
    },
    {
      "cell_type": "code",
      "execution_count": null,
      "id": "080b9edc-df9b-4df2-a543-f9d44db8ac98",
      "metadata": {
        "id": "080b9edc-df9b-4df2-a543-f9d44db8ac98",
        "outputId": "b40d2c00-6faf-4689-a060-c55e970c0c97"
      },
      "outputs": [
        {
          "name": "stdout",
          "output_type": "stream",
          "text": [
            "Output range: 5871.97 to 83435.64\n",
            "Setpoint: 10000.0\n",
            "Output range: 6703085.48 to 185389375.60\n",
            "Setpoint: 60760000.0\n",
            "Output range: 0.11 to 0.41\n",
            "Setpoint: 0.247\n"
          ]
        }
      ],
      "source": [
        "setpoints={'R':1e4*6076,'sigma_max':0.247,'S_TO':1e4}\n",
        "for output in solvers.keys():\n",
        "    fig, axes = create_output_corner_plot(samples,results[output],output_name = output, setpoint=setpoints[output],\n",
        "                                         figsize=(30,30))\n",
        "    # Add title\n",
        "    #fig.suptitle(f\"Corner Plots for {output}\", fontsize=14, y=1.02)\n",
        "\n",
        "    # Save figure\n",
        "    plt.savefig(f\"corner_plot_{output}.png\", dpi=300)\n",
        "    plt.close()"
      ]
    }
  ],
  "metadata": {
    "colab": {
      "provenance": []
    },
    "kernelspec": {
      "display_name": "Python 3 (ipykernel)",
      "language": "python",
      "name": "python3"
    },
    "language_info": {
      "codemirror_mode": {
        "name": "ipython",
        "version": 3
      },
      "file_extension": ".py",
      "mimetype": "text/x-python",
      "name": "python",
      "nbconvert_exporter": "python",
      "pygments_lexer": "ipython3",
      "version": "3.13.1"
    }
  },
  "nbformat": 4,
  "nbformat_minor": 5
}