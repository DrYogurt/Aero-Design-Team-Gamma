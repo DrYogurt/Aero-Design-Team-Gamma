{
  "cells": [
    {
      "cell_type": "code",
      "execution_count": 1,
      "id": "61c68827-ba0b-4e69-8ed9-930123a28ff4",
      "metadata": {
        "collapsed": true,
        "id": "61c68827-ba0b-4e69-8ed9-930123a28ff4",
        "outputId": "2c5724c9-05bc-4c0c-f254-f19ece8e9335",
        "colab": {
          "base_uri": "https://localhost:8080/",
          "height": 1000
        }
      },
      "outputs": [
        {
          "output_type": "stream",
          "name": "stdout",
          "text": [
            "Cloning into 'Aero-Design-Team-Gamma'...\n",
            "remote: Enumerating objects: 206, done.\u001b[K\n",
            "remote: Counting objects: 100% (206/206), done.\u001b[K\n",
            "remote: Compressing objects: 100% (135/135), done.\u001b[K\n",
            "remote: Total 206 (delta 87), reused 155 (delta 47), pack-reused 0 (from 0)\u001b[K\n",
            "Receiving objects: 100% (206/206), 489.49 KiB | 1.97 MiB/s, done.\n",
            "Resolving deltas: 100% (87/87), done.\n",
            "Collecting poetry==1.4.2\n",
            "  Downloading poetry-1.4.2-py3-none-any.whl.metadata (7.1 kB)\n",
            "Collecting build<0.11.0,>=0.10.0 (from poetry==1.4.2)\n",
            "  Downloading build-0.10.0-py3-none-any.whl.metadata (4.1 kB)\n",
            "Collecting cachecontrol<0.13.0,>=0.12.9 (from cachecontrol[filecache]<0.13.0,>=0.12.9->poetry==1.4.2)\n",
            "  Downloading CacheControl-0.12.14-py2.py3-none-any.whl.metadata (2.2 kB)\n",
            "Collecting cleo<3.0.0,>=2.0.0 (from poetry==1.4.2)\n",
            "  Downloading cleo-2.1.0-py3-none-any.whl.metadata (12 kB)\n",
            "Collecting crashtest<0.5.0,>=0.4.1 (from poetry==1.4.2)\n",
            "  Downloading crashtest-0.4.1-py3-none-any.whl.metadata (1.1 kB)\n",
            "Collecting dulwich<0.22.0,>=0.21.2 (from poetry==1.4.2)\n",
            "  Downloading dulwich-0.21.7-cp311-cp311-manylinux_2_17_x86_64.manylinux2014_x86_64.whl.metadata (4.3 kB)\n",
            "Requirement already satisfied: filelock<4.0.0,>=3.8.0 in /usr/local/lib/python3.11/dist-packages (from poetry==1.4.2) (3.17.0)\n",
            "Requirement already satisfied: html5lib<2.0,>=1.0 in /usr/local/lib/python3.11/dist-packages (from poetry==1.4.2) (1.1)\n",
            "Collecting installer<0.8.0,>=0.7.0 (from poetry==1.4.2)\n",
            "  Downloading installer-0.7.0-py3-none-any.whl.metadata (936 bytes)\n",
            "Requirement already satisfied: jsonschema<5.0.0,>=4.10.0 in /usr/local/lib/python3.11/dist-packages (from poetry==1.4.2) (4.23.0)\n",
            "Collecting keyring<24.0.0,>=23.9.0 (from poetry==1.4.2)\n",
            "  Downloading keyring-23.13.1-py3-none-any.whl.metadata (20 kB)\n",
            "Collecting lockfile<0.13.0,>=0.12.2 (from poetry==1.4.2)\n",
            "  Downloading lockfile-0.12.2-py2.py3-none-any.whl.metadata (2.4 kB)\n",
            "Requirement already satisfied: packaging>=20.4 in /usr/local/lib/python3.11/dist-packages (from poetry==1.4.2) (24.2)\n",
            "Requirement already satisfied: pexpect<5.0.0,>=4.7.0 in /usr/local/lib/python3.11/dist-packages (from poetry==1.4.2) (4.9.0)\n",
            "Collecting pkginfo<2.0.0,>=1.9.4 (from poetry==1.4.2)\n",
            "  Downloading pkginfo-1.12.0-py3-none-any.whl.metadata (12 kB)\n",
            "Collecting platformdirs<3.0.0,>=2.5.2 (from poetry==1.4.2)\n",
            "  Downloading platformdirs-2.6.2-py3-none-any.whl.metadata (9.5 kB)\n",
            "Collecting poetry-core==1.5.2 (from poetry==1.4.2)\n",
            "  Downloading poetry_core-1.5.2-py3-none-any.whl.metadata (3.4 kB)\n",
            "Collecting poetry-plugin-export<2.0.0,>=1.3.0 (from poetry==1.4.2)\n",
            "  Downloading poetry_plugin_export-1.9.0-py3-none-any.whl.metadata (3.1 kB)\n",
            "Collecting pyproject-hooks<2.0.0,>=1.0.0 (from poetry==1.4.2)\n",
            "  Downloading pyproject_hooks-1.2.0-py3-none-any.whl.metadata (1.3 kB)\n",
            "Requirement already satisfied: requests<3.0,>=2.18 in /usr/local/lib/python3.11/dist-packages (from poetry==1.4.2) (2.32.3)\n",
            "Collecting requests-toolbelt<0.11.0,>=0.9.1 (from poetry==1.4.2)\n",
            "  Downloading requests_toolbelt-0.10.1-py2.py3-none-any.whl.metadata (14 kB)\n",
            "Requirement already satisfied: shellingham<2.0,>=1.5 in /usr/local/lib/python3.11/dist-packages (from poetry==1.4.2) (1.5.4)\n",
            "Collecting tomlkit!=0.11.2,!=0.11.3,<1.0.0,>=0.11.1 (from poetry==1.4.2)\n",
            "  Downloading tomlkit-0.13.2-py3-none-any.whl.metadata (2.7 kB)\n",
            "Collecting trove-classifiers>=2022.5.19 (from poetry==1.4.2)\n",
            "  Downloading trove_classifiers-2025.1.15.22-py3-none-any.whl.metadata (2.3 kB)\n",
            "Collecting urllib3<2.0.0,>=1.26.0 (from poetry==1.4.2)\n",
            "  Downloading urllib3-1.26.20-py2.py3-none-any.whl.metadata (50 kB)\n",
            "\u001b[2K     \u001b[90m━━━━━━━━━━━━━━━━━━━━━━━━━━━━━━━━━━━━━━━━\u001b[0m \u001b[32m50.1/50.1 kB\u001b[0m \u001b[31m2.0 MB/s\u001b[0m eta \u001b[36m0:00:00\u001b[0m\n",
            "\u001b[?25hCollecting virtualenv!=20.4.5,!=20.4.6,<21.0.0,>=20.4.3 (from poetry==1.4.2)\n",
            "  Downloading virtualenv-20.29.1-py3-none-any.whl.metadata (4.5 kB)\n",
            "Requirement already satisfied: msgpack>=0.5.2 in /usr/local/lib/python3.11/dist-packages (from cachecontrol<0.13.0,>=0.12.9->cachecontrol[filecache]<0.13.0,>=0.12.9->poetry==1.4.2) (1.1.0)\n",
            "Collecting rapidfuzz<4.0.0,>=3.0.0 (from cleo<3.0.0,>=2.0.0->poetry==1.4.2)\n",
            "  Downloading rapidfuzz-3.11.0-cp311-cp311-manylinux_2_17_x86_64.manylinux2014_x86_64.whl.metadata (11 kB)\n",
            "Requirement already satisfied: six>=1.9 in /usr/local/lib/python3.11/dist-packages (from html5lib<2.0,>=1.0->poetry==1.4.2) (1.17.0)\n",
            "Requirement already satisfied: webencodings in /usr/local/lib/python3.11/dist-packages (from html5lib<2.0,>=1.0->poetry==1.4.2) (0.5.1)\n",
            "Requirement already satisfied: attrs>=22.2.0 in /usr/local/lib/python3.11/dist-packages (from jsonschema<5.0.0,>=4.10.0->poetry==1.4.2) (24.3.0)\n",
            "Requirement already satisfied: jsonschema-specifications>=2023.03.6 in /usr/local/lib/python3.11/dist-packages (from jsonschema<5.0.0,>=4.10.0->poetry==1.4.2) (2024.10.1)\n",
            "Requirement already satisfied: referencing>=0.28.4 in /usr/local/lib/python3.11/dist-packages (from jsonschema<5.0.0,>=4.10.0->poetry==1.4.2) (0.36.1)\n",
            "Requirement already satisfied: rpds-py>=0.7.1 in /usr/local/lib/python3.11/dist-packages (from jsonschema<5.0.0,>=4.10.0->poetry==1.4.2) (0.22.3)\n",
            "Collecting jaraco.classes (from keyring<24.0.0,>=23.9.0->poetry==1.4.2)\n",
            "  Downloading jaraco.classes-3.4.0-py3-none-any.whl.metadata (2.6 kB)\n",
            "Requirement already satisfied: importlib-metadata>=4.11.4 in /usr/local/lib/python3.11/dist-packages (from keyring<24.0.0,>=23.9.0->poetry==1.4.2) (8.6.1)\n",
            "Requirement already satisfied: SecretStorage>=3.2 in /usr/lib/python3/dist-packages (from keyring<24.0.0,>=23.9.0->poetry==1.4.2) (3.3.1)\n",
            "Requirement already satisfied: jeepney>=0.4.2 in /usr/lib/python3/dist-packages (from keyring<24.0.0,>=23.9.0->poetry==1.4.2) (0.7.1)\n",
            "Requirement already satisfied: ptyprocess>=0.5 in /usr/local/lib/python3.11/dist-packages (from pexpect<5.0.0,>=4.7.0->poetry==1.4.2) (0.7.0)\n",
            "INFO: pip is looking at multiple versions of poetry-plugin-export to determine which version is compatible with other requirements. This could take a while.\n",
            "Collecting poetry-plugin-export<2.0.0,>=1.3.0 (from poetry==1.4.2)\n",
            "  Downloading poetry_plugin_export-1.8.0-py3-none-any.whl.metadata (2.8 kB)\n",
            "  Downloading poetry_plugin_export-1.7.1-py3-none-any.whl.metadata (2.8 kB)\n",
            "  Downloading poetry_plugin_export-1.7.0-py3-none-any.whl.metadata (2.8 kB)\n",
            "  Downloading poetry_plugin_export-1.6.0-py3-none-any.whl.metadata (2.8 kB)\n",
            "  Downloading poetry_plugin_export-1.5.0-py3-none-any.whl.metadata (2.7 kB)\n",
            "  Downloading poetry_plugin_export-1.4.0-py3-none-any.whl.metadata (2.6 kB)\n",
            "  Downloading poetry_plugin_export-1.3.1-py3-none-any.whl.metadata (2.6 kB)\n",
            "Requirement already satisfied: charset-normalizer<4,>=2 in /usr/local/lib/python3.11/dist-packages (from requests<3.0,>=2.18->poetry==1.4.2) (3.4.1)\n",
            "Requirement already satisfied: idna<4,>=2.5 in /usr/local/lib/python3.11/dist-packages (from requests<3.0,>=2.18->poetry==1.4.2) (3.10)\n",
            "Requirement already satisfied: certifi>=2017.4.17 in /usr/local/lib/python3.11/dist-packages (from requests<3.0,>=2.18->poetry==1.4.2) (2024.12.14)\n",
            "Collecting distlib<1,>=0.3.7 (from virtualenv!=20.4.5,!=20.4.6,<21.0.0,>=20.4.3->poetry==1.4.2)\n",
            "  Downloading distlib-0.3.9-py2.py3-none-any.whl.metadata (5.2 kB)\n",
            "INFO: pip is looking at multiple versions of virtualenv to determine which version is compatible with other requirements. This could take a while.\n",
            "Collecting virtualenv!=20.4.5,!=20.4.6,<21.0.0,>=20.4.3 (from poetry==1.4.2)\n",
            "  Downloading virtualenv-20.29.0-py3-none-any.whl.metadata (4.5 kB)\n",
            "  Downloading virtualenv-20.28.1-py3-none-any.whl.metadata (4.5 kB)\n",
            "  Downloading virtualenv-20.28.0-py3-none-any.whl.metadata (4.4 kB)\n",
            "  Downloading virtualenv-20.27.1-py3-none-any.whl.metadata (4.5 kB)\n",
            "  Downloading virtualenv-20.27.0-py3-none-any.whl.metadata (4.5 kB)\n",
            "  Downloading virtualenv-20.26.6-py3-none-any.whl.metadata (4.5 kB)\n",
            "  Downloading virtualenv-20.26.5-py3-none-any.whl.metadata (4.5 kB)\n",
            "INFO: pip is still looking at multiple versions of virtualenv to determine which version is compatible with other requirements. This could take a while.\n",
            "  Downloading virtualenv-20.26.4-py3-none-any.whl.metadata (4.5 kB)\n",
            "  Downloading virtualenv-20.26.3-py3-none-any.whl.metadata (4.5 kB)\n",
            "  Downloading virtualenv-20.26.2-py3-none-any.whl.metadata (4.4 kB)\n",
            "  Downloading virtualenv-20.26.1-py3-none-any.whl.metadata (4.4 kB)\n",
            "  Downloading virtualenv-20.26.0-py3-none-any.whl.metadata (4.4 kB)\n",
            "INFO: This is taking longer than usual. You might need to provide the dependency resolver with stricter constraints to reduce runtime. See https://pip.pypa.io/warnings/backtracking for guidance. If you want to abort this run, press Ctrl + C.\n",
            "  Downloading virtualenv-20.25.3-py3-none-any.whl.metadata (4.4 kB)\n",
            "  Downloading virtualenv-20.25.2-py3-none-any.whl.metadata (4.4 kB)\n",
            "  Downloading virtualenv-20.25.1-py3-none-any.whl.metadata (4.4 kB)\n",
            "  Downloading virtualenv-20.25.0-py3-none-any.whl.metadata (4.5 kB)\n",
            "  Downloading virtualenv-20.24.7-py3-none-any.whl.metadata (4.5 kB)\n",
            "  Downloading virtualenv-20.24.6-py3-none-any.whl.metadata (4.5 kB)\n",
            "  Downloading virtualenv-20.24.5-py3-none-any.whl.metadata (4.5 kB)\n",
            "  Downloading virtualenv-20.24.4-py3-none-any.whl.metadata (4.5 kB)\n",
            "  Downloading virtualenv-20.24.3-py3-none-any.whl.metadata (4.5 kB)\n",
            "  Downloading virtualenv-20.24.2-py3-none-any.whl.metadata (4.5 kB)\n",
            "  Downloading virtualenv-20.24.1-py3-none-any.whl.metadata (4.5 kB)\n",
            "  Downloading virtualenv-20.24.0-py3-none-any.whl.metadata (4.5 kB)\n",
            "  Downloading virtualenv-20.23.1-py3-none-any.whl.metadata (4.5 kB)\n",
            "  Downloading virtualenv-20.23.0-py3-none-any.whl.metadata (4.3 kB)\n",
            "  Downloading virtualenv-20.22.0-py3-none-any.whl.metadata (4.1 kB)\n",
            "  Downloading virtualenv-20.21.1-py3-none-any.whl.metadata (4.1 kB)\n",
            "Requirement already satisfied: zipp>=3.20 in /usr/local/lib/python3.11/dist-packages (from importlib-metadata>=4.11.4->keyring<24.0.0,>=23.9.0->poetry==1.4.2) (3.21.0)\n",
            "Requirement already satisfied: typing-extensions>=4.4.0 in /usr/local/lib/python3.11/dist-packages (from referencing>=0.28.4->jsonschema<5.0.0,>=4.10.0->poetry==1.4.2) (4.12.2)\n",
            "Requirement already satisfied: more-itertools in /usr/local/lib/python3.11/dist-packages (from jaraco.classes->keyring<24.0.0,>=23.9.0->poetry==1.4.2) (10.5.0)\n",
            "Downloading poetry-1.4.2-py3-none-any.whl (222 kB)\n",
            "\u001b[2K   \u001b[90m━━━━━━━━━━━━━━━━━━━━━━━━━━━━━━━━━━━━━━━━\u001b[0m \u001b[32m222.7/222.7 kB\u001b[0m \u001b[31m6.9 MB/s\u001b[0m eta \u001b[36m0:00:00\u001b[0m\n",
            "\u001b[?25hDownloading poetry_core-1.5.2-py3-none-any.whl (465 kB)\n",
            "\u001b[2K   \u001b[90m━━━━━━━━━━━━━━━━━━━━━━━━━━━━━━━━━━━━━━━━\u001b[0m \u001b[32m465.2/465.2 kB\u001b[0m \u001b[31m16.7 MB/s\u001b[0m eta \u001b[36m0:00:00\u001b[0m\n",
            "\u001b[?25hDownloading build-0.10.0-py3-none-any.whl (17 kB)\n",
            "Downloading CacheControl-0.12.14-py2.py3-none-any.whl (21 kB)\n",
            "Downloading cleo-2.1.0-py3-none-any.whl (78 kB)\n",
            "\u001b[2K   \u001b[90m━━━━━━━━━━━━━━━━━━━━━━━━━━━━━━━━━━━━━━━━\u001b[0m \u001b[32m78.7/78.7 kB\u001b[0m \u001b[31m3.6 MB/s\u001b[0m eta \u001b[36m0:00:00\u001b[0m\n",
            "\u001b[?25hDownloading crashtest-0.4.1-py3-none-any.whl (7.6 kB)\n",
            "Downloading dulwich-0.21.7-cp311-cp311-manylinux_2_17_x86_64.manylinux2014_x86_64.whl (516 kB)\n",
            "\u001b[2K   \u001b[90m━━━━━━━━━━━━━━━━━━━━━━━━━━━━━━━━━━━━━━━━\u001b[0m \u001b[32m516.4/516.4 kB\u001b[0m \u001b[31m17.3 MB/s\u001b[0m eta \u001b[36m0:00:00\u001b[0m\n",
            "\u001b[?25hDownloading installer-0.7.0-py3-none-any.whl (453 kB)\n",
            "\u001b[2K   \u001b[90m━━━━━━━━━━━━━━━━━━━━━━━━━━━━━━━━━━━━━━━━\u001b[0m \u001b[32m453.8/453.8 kB\u001b[0m \u001b[31m22.2 MB/s\u001b[0m eta \u001b[36m0:00:00\u001b[0m\n",
            "\u001b[?25hDownloading keyring-23.13.1-py3-none-any.whl (37 kB)\n",
            "Downloading lockfile-0.12.2-py2.py3-none-any.whl (13 kB)\n",
            "Downloading pkginfo-1.12.0-py3-none-any.whl (32 kB)\n",
            "Downloading platformdirs-2.6.2-py3-none-any.whl (14 kB)\n",
            "Downloading poetry_plugin_export-1.3.1-py3-none-any.whl (10 kB)\n",
            "Downloading pyproject_hooks-1.2.0-py3-none-any.whl (10 kB)\n",
            "Downloading requests_toolbelt-0.10.1-py2.py3-none-any.whl (54 kB)\n",
            "\u001b[2K   \u001b[90m━━━━━━━━━━━━━━━━━━━━━━━━━━━━━━━━━━━━━━━━\u001b[0m \u001b[32m54.5/54.5 kB\u001b[0m \u001b[31m3.1 MB/s\u001b[0m eta \u001b[36m0:00:00\u001b[0m\n",
            "\u001b[?25hDownloading tomlkit-0.13.2-py3-none-any.whl (37 kB)\n",
            "Downloading trove_classifiers-2025.1.15.22-py3-none-any.whl (13 kB)\n",
            "Downloading urllib3-1.26.20-py2.py3-none-any.whl (144 kB)\n",
            "\u001b[2K   \u001b[90m━━━━━━━━━━━━━━━━━━━━━━━━━━━━━━━━━━━━━━━━\u001b[0m \u001b[32m144.2/144.2 kB\u001b[0m \u001b[31m10.1 MB/s\u001b[0m eta \u001b[36m0:00:00\u001b[0m\n",
            "\u001b[?25hDownloading virtualenv-20.21.1-py3-none-any.whl (8.7 MB)\n",
            "\u001b[2K   \u001b[90m━━━━━━━━━━━━━━━━━━━━━━━━━━━━━━━━━━━━━━━━\u001b[0m \u001b[32m8.7/8.7 MB\u001b[0m \u001b[31m62.9 MB/s\u001b[0m eta \u001b[36m0:00:00\u001b[0m\n",
            "\u001b[?25hDownloading distlib-0.3.9-py2.py3-none-any.whl (468 kB)\n",
            "\u001b[2K   \u001b[90m━━━━━━━━━━━━━━━━━━━━━━━━━━━━━━━━━━━━━━━━\u001b[0m \u001b[32m469.0/469.0 kB\u001b[0m \u001b[31m27.3 MB/s\u001b[0m eta \u001b[36m0:00:00\u001b[0m\n",
            "\u001b[?25hDownloading rapidfuzz-3.11.0-cp311-cp311-manylinux_2_17_x86_64.manylinux2014_x86_64.whl (3.1 MB)\n",
            "\u001b[2K   \u001b[90m━━━━━━━━━━━━━━━━━━━━━━━━━━━━━━━━━━━━━━━━\u001b[0m \u001b[32m3.1/3.1 MB\u001b[0m \u001b[31m67.0 MB/s\u001b[0m eta \u001b[36m0:00:00\u001b[0m\n",
            "\u001b[?25hDownloading jaraco.classes-3.4.0-py3-none-any.whl (6.8 kB)\n",
            "Installing collected packages: trove-classifiers, lockfile, distlib, urllib3, tomlkit, rapidfuzz, pyproject-hooks, poetry-core, platformdirs, pkginfo, jaraco.classes, installer, crashtest, virtualenv, keyring, dulwich, cleo, build, requests-toolbelt, cachecontrol, poetry-plugin-export, poetry\n",
            "  Attempting uninstall: urllib3\n",
            "    Found existing installation: urllib3 2.3.0\n",
            "    Uninstalling urllib3-2.3.0:\n",
            "      Successfully uninstalled urllib3-2.3.0\n",
            "  Attempting uninstall: platformdirs\n",
            "    Found existing installation: platformdirs 4.3.6\n",
            "    Uninstalling platformdirs-4.3.6:\n",
            "      Successfully uninstalled platformdirs-4.3.6\n",
            "  Attempting uninstall: keyring\n",
            "    Found existing installation: keyring 23.5.0\n",
            "    Uninstalling keyring-23.5.0:\n",
            "      Successfully uninstalled keyring-23.5.0\n",
            "  Attempting uninstall: requests-toolbelt\n",
            "    Found existing installation: requests-toolbelt 1.0.0\n",
            "    Uninstalling requests-toolbelt-1.0.0:\n",
            "      Successfully uninstalled requests-toolbelt-1.0.0\n",
            "  Attempting uninstall: cachecontrol\n",
            "    Found existing installation: CacheControl 0.14.2\n",
            "    Uninstalling CacheControl-0.14.2:\n",
            "      Successfully uninstalled CacheControl-0.14.2\n",
            "\u001b[31mERROR: pip's dependency resolver does not currently take into account all the packages that are installed. This behaviour is the source of the following dependency conflicts.\n",
            "langsmith 0.3.0 requires requests-toolbelt<2.0.0,>=1.0.0, but you have requests-toolbelt 0.10.1 which is incompatible.\u001b[0m\u001b[31m\n",
            "\u001b[0mSuccessfully installed build-0.10.0 cachecontrol-0.12.14 cleo-2.1.0 crashtest-0.4.1 distlib-0.3.9 dulwich-0.21.7 installer-0.7.0 jaraco.classes-3.4.0 keyring-23.13.1 lockfile-0.12.2 pkginfo-1.12.0 platformdirs-2.6.2 poetry-1.4.2 poetry-core-1.5.2 poetry-plugin-export-1.3.1 pyproject-hooks-1.2.0 rapidfuzz-3.11.0 requests-toolbelt-0.10.1 tomlkit-0.13.2 trove-classifiers-2025.1.15.22 urllib3-1.26.20 virtualenv-20.21.1\n"
          ]
        },
        {
          "output_type": "display_data",
          "data": {
            "application/vnd.colab-display-data+json": {
              "pip_warning": {
                "packages": [
                  "jaraco"
                ]
              },
              "id": "fe08c0d596f0469ca3088449cd1baf00"
            }
          },
          "metadata": {}
        }
      ],
      "source": [
        "!git clone -b implementing-vars https://github.com/DrYogurt/Aero-Design-Team-Gamma.git\n",
        "!pip install poetry==1.4.2"
      ]
    },
    {
      "cell_type": "code",
      "source": [
        "%cd Aero-Design-Team-Gamma\n",
        "!poetry config virtualenvs.in-project true\n",
        "!poetry install --no-ansi"
      ],
      "metadata": {
        "id": "S0bS4LbKlJMv",
        "outputId": "16554d47-6efd-4f58-cb61-7ef97b65bf72",
        "colab": {
          "base_uri": "https://localhost:8080/"
        }
      },
      "id": "S0bS4LbKlJMv",
      "execution_count": 1,
      "outputs": [
        {
          "output_type": "stream",
          "name": "stdout",
          "text": [
            "/content/Aero-Design-Team-Gamma\n",
            "Creating virtualenv aerospace-design-team-gamma in /content/Aero-Design-Team-Gamma/.venv\n",
            "Installing dependencies from lock file\n",
            "The lock file might not be compatible with the current version of Poetry.\n",
            "Upgrade Poetry to ensure the lock file is read properly or, alternatively, regenerate the lock file with the `poetry lock` command.\n",
            "\n",
            "Package operations: 41 installs, 0 updates, 0 removals\n",
            "\n",
            "  • Installing numpy (1.26.4)\n",
            "  • Installing six (1.17.0)\n",
            "  • Installing contourpy (1.3.1)\n",
            "  • Installing cycler (0.12.1)\n",
            "  • Installing fonttools (4.55.3)\n",
            "  • Installing kiwisolver (1.4.8)\n",
            "  • Installing packaging (24.2)\n",
            "  • Installing pillow (11.1.0)\n",
            "  • Installing pyparsing (3.2.1)\n",
            "  • Installing python-dateutil (2.9.0.post0)\n",
            "  • Installing click (8.1.8)\n",
            "  • Installing iniconfig (2.0.0)\n",
            "  • Installing mccabe (0.7.0)\n",
            "  • Installing matplotlib (3.10.0)\n",
            "  • Installing markupsafe (3.0.2)\n",
            "  • Installing mpmath (1.3.0)\n",
            "  • Installing mypy-extensions (1.0.0)\n",
            "  • Installing pathspec (0.12.1)\n",
            "  • Installing platformdirs (4.3.6)\n",
            "  • Installing pluggy (1.5.0)\n",
            "  • Installing plumbum (1.9.0)\n",
            "  • Installing ply (3.11)\n",
            "  • Installing pycodestyle (2.11.1)\n",
            "  • Installing pyflakes (3.1.0)\n",
            "  • Installing pytz (2024.2)\n",
            "  • Installing pyyaml (6.0.2)\n",
            "  • Installing scipy (1.15.1)\n",
            "  • Installing tzdata (2024.2)\n",
            "  • Installing ambiance (1.3.1)\n",
            "  • Installing black (23.12.1)\n",
            "  • Installing corner (2.2.3)\n",
            "  • Installing flake8 (6.1.0)\n",
            "  • Installing isort (5.13.2)\n",
            "  • Installing jinja2 (3.1.5)\n",
            "  • Installing networkx (3.4.2)\n",
            "  • Installing pandas (2.2.3)\n",
            "  • Installing pandoc (2.4)\n",
            "  • Installing pypandoc (1.15)\n",
            "  • Installing pytest (7.4.4)\n",
            "  • Installing python-frontmatter (1.1.0)\n",
            "  • Installing sympy (1.13.3)\n",
            "\n",
            "Installing the current project: Aerospace-Design-Team-Gamma (0.1.0)\n"
          ]
        }
      ]
    },
    {
      "cell_type": "code",
      "source": [
        "VENV_PATH = \"/content/Aero-Design-Team-Gamma/.venv/lib/python3.11/site-packages\"\n",
        "import os, sys\n",
        "LOCAL_VENV_PATH = '/content/venv' # local notebook\n",
        "os.symlink(VENV_PATH, LOCAL_VENV_PATH) # connect to directory in drive\n",
        "sys.path.insert(0, LOCAL_VENV_PATH)"
      ],
      "metadata": {
        "id": "7Xdugkd5kPKW"
      },
      "id": "7Xdugkd5kPKW",
      "execution_count": 2,
      "outputs": []
    },
    {
      "cell_type": "code",
      "source": [
        "from ambiance import Atmosphere\n",
        "\n",
        "from global_variables.solver import EquationSystem\n",
        "from global_variables.registry import VariableRegistry, Variable\n",
        "\n",
        "registry = VariableRegistry(\"aero_vars.yaml\")"
      ],
      "metadata": {
        "id": "FhEtf4HufA6d"
      },
      "id": "FhEtf4HufA6d",
      "execution_count": 3,
      "outputs": []
    },
    {
      "cell_type": "code",
      "source": [
        "outputs = {\"S_TO\", \"R\", \"sigma_max\"}\n",
        "\n",
        "# Create solvers for each output\n",
        "solvers = {\n",
        "    output: EquationSystem(registry, {output})\n",
        "    for output in outputs\n",
        "}\n",
        "\n",
        "# Get all unique inputs\n",
        "all_inputs = set().union(*(solver.inputs for solver in solvers.values()))\n",
        "print(f\"Required inputs: {all_inputs}\")\n",
        "solvers"
      ],
      "metadata": {
        "id": "nvzUc09vfMSc",
        "outputId": "cd6991ff-dd3d-4293-c55b-d2b6aefa6296",
        "colab": {
          "base_uri": "https://localhost:8080/"
        }
      },
      "id": "nvzUc09vfMSc",
      "execution_count": 4,
      "outputs": [
        {
          "output_type": "stream",
          "name": "stdout",
          "text": [
            "Required inputs: {'V', 'C_Lmax', 'W_pax', 'S_', 'We_Wmax', 'T_A0', 'e', 'mu', 'rho', 'T_s', 'W_max', 'TSFC', 'n_pax', 'b', 'C_D0'}\n"
          ]
        },
        {
          "output_type": "execute_result",
          "data": {
            "text/plain": [
              "{'R': <global_variables.solver.EquationSystem at 0x7af92bbf7990>,\n",
              " 'sigma_max': <global_variables.solver.EquationSystem at 0x7af8f92bc590>,\n",
              " 'S_TO': <global_variables.solver.EquationSystem at 0x7af92bbe5550>}"
            ]
          },
          "metadata": {},
          "execution_count": 4
        }
      ]
    },
    {
      "cell_type": "code",
      "source": [
        "def mach(M,h):\n",
        "  atmo = Atmosphere(h * 0.3048)\n",
        "  return atmo.speed_of_sound[-1] * M / 0.3048"
      ],
      "metadata": {
        "id": "na5rbBzkmNoC"
      },
      "id": "na5rbBzkmNoC",
      "execution_count": 5,
      "outputs": []
    },
    {
      "cell_type": "code",
      "source": [
        "def rho_func(h):\n",
        "  atmo = Atmosphere(h * 0.3048)\n",
        "  return atmo.density[-1]"
      ],
      "metadata": {
        "id": "OJPtmCUkoFMP"
      },
      "id": "OJPtmCUkoFMP",
      "execution_count": 6,
      "outputs": []
    },
    {
      "cell_type": "code",
      "source": [
        "\n",
        "# Generate sample points for each input\n",
        "n_samples = 1000\n",
        "samples = {}\n",
        "\n",
        "# Define ranges for each input (you'll need to adjust these)\n",
        "ranges = {\n",
        "    'V':(mach(0.8,35e3),mach(0.95,35e3)), #cruising velocity ft / s\n",
        "    'S_': (8e4,12e4), # area in ft^2\n",
        "    'b': (200, 400),  # wing area in ft^2\n",
        "    'T_A0': (4e5,6e5),\n",
        "    'W_pax': (185,300), #weight per passenger in lbs\n",
        "    'e':(0.8,1.), # oswald efficiency\n",
        "    'mu':(.01,.05),\n",
        "    'W_max':(1.75e6, 2.25e6),  # weight in lbs\n",
        "    'C_Lmax':(1.5,2.),  # weight in lbs\n",
        "    'C_D0':(0.01,0.35),\n",
        "    'rho':(rho_func(45e3),rho_func(0)),\n",
        "    'n_pax': (1200,1260), # number of passengers\n",
        "    'We_Wmax':(0.4,0.6),\n",
        "    #'h': (0, 40000),  # altitude in ft\n",
        "    'TSFC': (0.3,0.6), # TSFC\n",
        "\n",
        "    # Add other inputs and their ranges\n",
        "}\n",
        "print(ranges)"
      ],
      "metadata": {
        "id": "HouWKx25gRum",
        "outputId": "6ab45984-d189-47da-b4dd-f0b8c517f2eb",
        "colab": {
          "base_uri": "https://localhost:8080/"
        }
      },
      "id": "HouWKx25gRum",
      "execution_count": 7,
      "outputs": [
        {
          "output_type": "stream",
          "name": "stdout",
          "text": [
            "{'V': (778.514759070209, 924.4862763958732), 'S_': (80000.0, 120000.0), 'b': (200, 400), 'T_A0': (400000.0, 600000.0), 'W_pax': (185, 300), 'e': (0.8, 1.0), 'mu': (0.01, 0.05), 'W_max': (1750000.0, 2250000.0), 'C_Lmax': (1.5, 2.0), 'C_D0': (0.01, 0.35), 'rho': (0.23824523567640446, 1.225000018124288), 'n_pax': (1200, 1260), 'We_Wmax': (0.4, 0.6), 'TSFC': (0.3, 0.6)}\n"
          ]
        }
      ]
    },
    {
      "cell_type": "code",
      "source": [
        "import numpy as np\n",
        "import corner\n",
        "import matplotlib.pyplot as plt\n",
        "# Generate Latin Hypercube samples\n",
        "from scipy.stats import qmc\n",
        "sampler = qmc.LatinHypercube(d=len(all_inputs))\n",
        "sample_points = sampler.random(n=n_samples)\n",
        "\n",
        "# Scale samples to actual ranges\n",
        "input_list = sorted(all_inputs)\n",
        "for i, input_var in enumerate(input_list):\n",
        "    if input_var in ranges:\n",
        "        min_val, max_val = ranges[input_var]\n",
        "        samples[input_var] = qmc.scale(sample_points[:, [i]], [min_val], [max_val]).flatten()\n",
        "    else:\n",
        "        print(f\"Warning: No range defined for {input_var}\")\n",
        "        samples[input_var] = sample_points[:, i]  # Use 0-1 range as default"
      ],
      "metadata": {
        "collapsed": true,
        "id": "l3T0bGsIpM-2",
        "outputId": "9b99490a-4dc8-4881-89fc-7efb0095dad7",
        "colab": {
          "base_uri": "https://localhost:8080/"
        }
      },
      "id": "l3T0bGsIpM-2",
      "execution_count": 8,
      "outputs": [
        {
          "output_type": "stream",
          "name": "stdout",
          "text": [
            "Warning: No range defined for T_s\n"
          ]
        }
      ]
    },
    {
      "cell_type": "code",
      "source": [
        "# Calculate outputs\n",
        "results = {}\n",
        "for output, solver in solvers.items():\n",
        "    solver_func = solver.create_solver()[output]\n",
        "    input_args = [samples[inp] for inp in sorted(solver.inputs)]\n",
        "    try:\n",
        "        output_values = np.array(solver_func(*input_args))\n",
        "        print(output_values)\n",
        "        # Ensure output is 1D array of correct length\n",
        "        if output_values.size == 1:\n",
        "            output_values = np.full(n_samples, output_values)\n",
        "        results[output] = output_values\n",
        "    except Exception as e:\n",
        "        print(f\"Error calculating {output}: {e}\")\n",
        "#results"
      ],
      "metadata": {
        "id": "ZWP6VWDwgZDJ"
      },
      "id": "ZWP6VWDwgZDJ",
      "execution_count": null,
      "outputs": []
    },
    {
      "cell_type": "code",
      "source": [
        "# Create corner plot for each output\n",
        "for output, output_values in results.items():\n",
        "    solver = solvers[output]\n",
        "    # Combine input and output data\n",
        "    input_arrays = [samples[inp] for inp in sorted(solver.inputs)]\n",
        "    data = np.column_stack(input_arrays + [output_values])\n",
        "    labels = list(sorted(solver.inputs)) + [output]\n",
        "\n",
        "    # Create corner plot\n",
        "    fig = corner.corner(\n",
        "        data,\n",
        "        labels=labels,\n",
        "        #show_titles=True,\n",
        "        #title_kwargs={\"fontsize\": 12},\n",
        "        #plot_datapoints=True,\n",
        "        #plot_density=True,\n",
        "        #plot_contours=True,\n",
        "        #fill_contours=True,\n",
        "        #smooth=1.0\n",
        "    )\n",
        "\n",
        "    fig.suptitle(f\"Corner Plot for {output}\", fontsize=14, y=1.02)\n",
        "    plt.savefig(f\"corner_plot_{output}.png\", bbox_inches='tight', dpi=300)\n",
        "    plt.close()"
      ],
      "metadata": {
        "id": "976ldHv2p-ff"
      },
      "id": "976ldHv2p-ff",
      "execution_count": null,
      "outputs": []
    },
    {
      "cell_type": "code",
      "source": [
        "R_func, soln = solvers['R'].create_solver()\n",
        "R_func['R'](0,0,0,0,0,0,0,0,0,0,0)"
      ],
      "metadata": {
        "id": "sVZAMNkIskha",
        "outputId": "29a538ce-a38b-41c8-b30e-d9e0636e05b6",
        "colab": {
          "base_uri": "https://localhost:8080/",
          "height": 39
        }
      },
      "id": "sVZAMNkIskha",
      "execution_count": 19,
      "outputs": [
        {
          "output_type": "execute_result",
          "data": {
            "text/plain": [
              "R"
            ],
            "text/latex": "$\\displaystyle R$"
          },
          "metadata": {},
          "execution_count": 19
        }
      ]
    },
    {
      "cell_type": "code",
      "source": [
        "solvers['R']._collect_equations()"
      ],
      "metadata": {
        "id": "lgrs86C-tB8H",
        "outputId": "3f509b2c-4caf-4a44-8534-21c146129b43",
        "colab": {
          "base_uri": "https://localhost:8080/"
        }
      },
      "id": "lgrs86C-tB8H",
      "execution_count": 12,
      "outputs": [
        {
          "output_type": "execute_result",
          "data": {
            "text/plain": [
              "{'C_L_full': ['2 * W_max / (rho * V**2 * S_)'],\n",
              " 'CL_CD_ratio': ['0.5 * ((C_L_full)**(1/2)/C_D_full + (C_L_empty)**(1/2)/C_D_empty)'],\n",
              " 'W_e': ['We_Wmax * W_max'],\n",
              " 'C_L_empty': ['2 * (W_max - W_f) / (rho * V**2 * S_)'],\n",
              " 'AR': ['b**2 / S_'],\n",
              " 'C_D_empty': ['C_D0 + C_Di_empty'],\n",
              " 'W_p': ['n_pax * W_pax'],\n",
              " 'C_D_full': ['C_D0 + C_Di_full'],\n",
              " 'C_Di_empty': ['C_L_empty**2 / (pi * e * AR)'],\n",
              " 'R': ['(2/TSFC) * (2/(rho*S_)**(1/2)) * CL_CD_ratio * ((W_max)**(1/2)-(W_max-W_f)**(1/2))'],\n",
              " 'C_Di_full': ['C_L_full**2 / (pi * e * AR)'],\n",
              " 'W_f': ['W_max - W_p - W_e']}"
            ]
          },
          "metadata": {},
          "execution_count": 12
        }
      ]
    },
    {
      "cell_type": "code",
      "source": [],
      "metadata": {
        "id": "-yRqULBJtfeL"
      },
      "id": "-yRqULBJtfeL",
      "execution_count": null,
      "outputs": []
    }
  ],
  "metadata": {
    "kernelspec": {
      "display_name": "vault-kernel",
      "language": "python",
      "name": "vault-kernel"
    },
    "language_info": {
      "codemirror_mode": {
        "name": "ipython",
        "version": 3
      },
      "file_extension": ".py",
      "mimetype": "text/x-python",
      "name": "python",
      "nbconvert_exporter": "python",
      "pygments_lexer": "ipython3",
      "version": "3.13.1"
    },
    "colab": {
      "provenance": []
    }
  },
  "nbformat": 4,
  "nbformat_minor": 5
}