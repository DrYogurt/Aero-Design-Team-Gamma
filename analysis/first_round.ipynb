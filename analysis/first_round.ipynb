{
 "cells": [
  {
   "cell_type": "code",
   "execution_count": 1,
   "id": "61c68827-ba0b-4e69-8ed9-930123a28ff4",
   "metadata": {
    "colab": {
     "base_uri": "https://localhost:8080/",
     "height": 1000
    },
    "collapsed": true,
    "id": "61c68827-ba0b-4e69-8ed9-930123a28ff4",
    "jupyter": {
     "outputs_hidden": true
    },
    "outputId": "2c5724c9-05bc-4c0c-f254-f19ece8e9335"
   },
   "outputs": [
    {
     "name": "stdout",
     "output_type": "stream",
     "text": [
      "Cloning into 'Aero-Design-Team-Gamma'...\n",
      "remote: Enumerating objects: 206, done.\u001b[K\n",
      "remote: Counting objects: 100% (206/206), done.\u001b[K\n",
      "remote: Compressing objects: 100% (135/135), done.\u001b[K\n",
      "remote: Total 206 (delta 87), reused 155 (delta 47), pack-reused 0 (from 0)\u001b[K\n",
      "Receiving objects: 100% (206/206), 489.49 KiB | 1.97 MiB/s, done.\n",
      "Resolving deltas: 100% (87/87), done.\n",
      "Collecting poetry==1.4.2\n",
      "  Downloading poetry-1.4.2-py3-none-any.whl.metadata (7.1 kB)\n",
      "Collecting build<0.11.0,>=0.10.0 (from poetry==1.4.2)\n",
      "  Downloading build-0.10.0-py3-none-any.whl.metadata (4.1 kB)\n",
      "Collecting cachecontrol<0.13.0,>=0.12.9 (from cachecontrol[filecache]<0.13.0,>=0.12.9->poetry==1.4.2)\n",
      "  Downloading CacheControl-0.12.14-py2.py3-none-any.whl.metadata (2.2 kB)\n",
      "Collecting cleo<3.0.0,>=2.0.0 (from poetry==1.4.2)\n",
      "  Downloading cleo-2.1.0-py3-none-any.whl.metadata (12 kB)\n",
      "Collecting crashtest<0.5.0,>=0.4.1 (from poetry==1.4.2)\n",
      "  Downloading crashtest-0.4.1-py3-none-any.whl.metadata (1.1 kB)\n",
      "Collecting dulwich<0.22.0,>=0.21.2 (from poetry==1.4.2)\n",
      "  Downloading dulwich-0.21.7-cp311-cp311-manylinux_2_17_x86_64.manylinux2014_x86_64.whl.metadata (4.3 kB)\n",
      "Requirement already satisfied: filelock<4.0.0,>=3.8.0 in /usr/local/lib/python3.11/dist-packages (from poetry==1.4.2) (3.17.0)\n",
      "Requirement already satisfied: html5lib<2.0,>=1.0 in /usr/local/lib/python3.11/dist-packages (from poetry==1.4.2) (1.1)\n",
      "Collecting installer<0.8.0,>=0.7.0 (from poetry==1.4.2)\n",
      "  Downloading installer-0.7.0-py3-none-any.whl.metadata (936 bytes)\n",
      "Requirement already satisfied: jsonschema<5.0.0,>=4.10.0 in /usr/local/lib/python3.11/dist-packages (from poetry==1.4.2) (4.23.0)\n",
      "Collecting keyring<24.0.0,>=23.9.0 (from poetry==1.4.2)\n",
      "  Downloading keyring-23.13.1-py3-none-any.whl.metadata (20 kB)\n",
      "Collecting lockfile<0.13.0,>=0.12.2 (from poetry==1.4.2)\n",
      "  Downloading lockfile-0.12.2-py2.py3-none-any.whl.metadata (2.4 kB)\n",
      "Requirement already satisfied: packaging>=20.4 in /usr/local/lib/python3.11/dist-packages (from poetry==1.4.2) (24.2)\n",
      "Requirement already satisfied: pexpect<5.0.0,>=4.7.0 in /usr/local/lib/python3.11/dist-packages (from poetry==1.4.2) (4.9.0)\n",
      "Collecting pkginfo<2.0.0,>=1.9.4 (from poetry==1.4.2)\n",
      "  Downloading pkginfo-1.12.0-py3-none-any.whl.metadata (12 kB)\n",
      "Collecting platformdirs<3.0.0,>=2.5.2 (from poetry==1.4.2)\n",
      "  Downloading platformdirs-2.6.2-py3-none-any.whl.metadata (9.5 kB)\n",
      "Collecting poetry-core==1.5.2 (from poetry==1.4.2)\n",
      "  Downloading poetry_core-1.5.2-py3-none-any.whl.metadata (3.4 kB)\n",
      "Collecting poetry-plugin-export<2.0.0,>=1.3.0 (from poetry==1.4.2)\n",
      "  Downloading poetry_plugin_export-1.9.0-py3-none-any.whl.metadata (3.1 kB)\n",
      "Collecting pyproject-hooks<2.0.0,>=1.0.0 (from poetry==1.4.2)\n",
      "  Downloading pyproject_hooks-1.2.0-py3-none-any.whl.metadata (1.3 kB)\n",
      "Requirement already satisfied: requests<3.0,>=2.18 in /usr/local/lib/python3.11/dist-packages (from poetry==1.4.2) (2.32.3)\n",
      "Collecting requests-toolbelt<0.11.0,>=0.9.1 (from poetry==1.4.2)\n",
      "  Downloading requests_toolbelt-0.10.1-py2.py3-none-any.whl.metadata (14 kB)\n",
      "Requirement already satisfied: shellingham<2.0,>=1.5 in /usr/local/lib/python3.11/dist-packages (from poetry==1.4.2) (1.5.4)\n",
      "Collecting tomlkit!=0.11.2,!=0.11.3,<1.0.0,>=0.11.1 (from poetry==1.4.2)\n",
      "  Downloading tomlkit-0.13.2-py3-none-any.whl.metadata (2.7 kB)\n",
      "Collecting trove-classifiers>=2022.5.19 (from poetry==1.4.2)\n",
      "  Downloading trove_classifiers-2025.1.15.22-py3-none-any.whl.metadata (2.3 kB)\n",
      "Collecting urllib3<2.0.0,>=1.26.0 (from poetry==1.4.2)\n",
      "  Downloading urllib3-1.26.20-py2.py3-none-any.whl.metadata (50 kB)\n",
      "\u001b[2K     \u001b[90m━━━━━━━━━━━━━━━━━━━━━━━━━━━━━━━━━━━━━━━━\u001b[0m \u001b[32m50.1/50.1 kB\u001b[0m \u001b[31m2.0 MB/s\u001b[0m eta \u001b[36m0:00:00\u001b[0m\n",
      "\u001b[?25hCollecting virtualenv!=20.4.5,!=20.4.6,<21.0.0,>=20.4.3 (from poetry==1.4.2)\n",
      "  Downloading virtualenv-20.29.1-py3-none-any.whl.metadata (4.5 kB)\n",
      "Requirement already satisfied: msgpack>=0.5.2 in /usr/local/lib/python3.11/dist-packages (from cachecontrol<0.13.0,>=0.12.9->cachecontrol[filecache]<0.13.0,>=0.12.9->poetry==1.4.2) (1.1.0)\n",
      "Collecting rapidfuzz<4.0.0,>=3.0.0 (from cleo<3.0.0,>=2.0.0->poetry==1.4.2)\n",
      "  Downloading rapidfuzz-3.11.0-cp311-cp311-manylinux_2_17_x86_64.manylinux2014_x86_64.whl.metadata (11 kB)\n",
      "Requirement already satisfied: six>=1.9 in /usr/local/lib/python3.11/dist-packages (from html5lib<2.0,>=1.0->poetry==1.4.2) (1.17.0)\n",
      "Requirement already satisfied: webencodings in /usr/local/lib/python3.11/dist-packages (from html5lib<2.0,>=1.0->poetry==1.4.2) (0.5.1)\n",
      "Requirement already satisfied: attrs>=22.2.0 in /usr/local/lib/python3.11/dist-packages (from jsonschema<5.0.0,>=4.10.0->poetry==1.4.2) (24.3.0)\n",
      "Requirement already satisfied: jsonschema-specifications>=2023.03.6 in /usr/local/lib/python3.11/dist-packages (from jsonschema<5.0.0,>=4.10.0->poetry==1.4.2) (2024.10.1)\n",
      "Requirement already satisfied: referencing>=0.28.4 in /usr/local/lib/python3.11/dist-packages (from jsonschema<5.0.0,>=4.10.0->poetry==1.4.2) (0.36.1)\n",
      "Requirement already satisfied: rpds-py>=0.7.1 in /usr/local/lib/python3.11/dist-packages (from jsonschema<5.0.0,>=4.10.0->poetry==1.4.2) (0.22.3)\n",
      "Collecting jaraco.classes (from keyring<24.0.0,>=23.9.0->poetry==1.4.2)\n",
      "  Downloading jaraco.classes-3.4.0-py3-none-any.whl.metadata (2.6 kB)\n",
      "Requirement already satisfied: importlib-metadata>=4.11.4 in /usr/local/lib/python3.11/dist-packages (from keyring<24.0.0,>=23.9.0->poetry==1.4.2) (8.6.1)\n",
      "Requirement already satisfied: SecretStorage>=3.2 in /usr/lib/python3/dist-packages (from keyring<24.0.0,>=23.9.0->poetry==1.4.2) (3.3.1)\n",
      "Requirement already satisfied: jeepney>=0.4.2 in /usr/lib/python3/dist-packages (from keyring<24.0.0,>=23.9.0->poetry==1.4.2) (0.7.1)\n",
      "Requirement already satisfied: ptyprocess>=0.5 in /usr/local/lib/python3.11/dist-packages (from pexpect<5.0.0,>=4.7.0->poetry==1.4.2) (0.7.0)\n",
      "INFO: pip is looking at multiple versions of poetry-plugin-export to determine which version is compatible with other requirements. This could take a while.\n",
      "Collecting poetry-plugin-export<2.0.0,>=1.3.0 (from poetry==1.4.2)\n",
      "  Downloading poetry_plugin_export-1.8.0-py3-none-any.whl.metadata (2.8 kB)\n",
      "  Downloading poetry_plugin_export-1.7.1-py3-none-any.whl.metadata (2.8 kB)\n",
      "  Downloading poetry_plugin_export-1.7.0-py3-none-any.whl.metadata (2.8 kB)\n",
      "  Downloading poetry_plugin_export-1.6.0-py3-none-any.whl.metadata (2.8 kB)\n",
      "  Downloading poetry_plugin_export-1.5.0-py3-none-any.whl.metadata (2.7 kB)\n",
      "  Downloading poetry_plugin_export-1.4.0-py3-none-any.whl.metadata (2.6 kB)\n",
      "  Downloading poetry_plugin_export-1.3.1-py3-none-any.whl.metadata (2.6 kB)\n",
      "Requirement already satisfied: charset-normalizer<4,>=2 in /usr/local/lib/python3.11/dist-packages (from requests<3.0,>=2.18->poetry==1.4.2) (3.4.1)\n",
      "Requirement already satisfied: idna<4,>=2.5 in /usr/local/lib/python3.11/dist-packages (from requests<3.0,>=2.18->poetry==1.4.2) (3.10)\n",
      "Requirement already satisfied: certifi>=2017.4.17 in /usr/local/lib/python3.11/dist-packages (from requests<3.0,>=2.18->poetry==1.4.2) (2024.12.14)\n",
      "Collecting distlib<1,>=0.3.7 (from virtualenv!=20.4.5,!=20.4.6,<21.0.0,>=20.4.3->poetry==1.4.2)\n",
      "  Downloading distlib-0.3.9-py2.py3-none-any.whl.metadata (5.2 kB)\n",
      "INFO: pip is looking at multiple versions of virtualenv to determine which version is compatible with other requirements. This could take a while.\n",
      "Collecting virtualenv!=20.4.5,!=20.4.6,<21.0.0,>=20.4.3 (from poetry==1.4.2)\n",
      "  Downloading virtualenv-20.29.0-py3-none-any.whl.metadata (4.5 kB)\n",
      "  Downloading virtualenv-20.28.1-py3-none-any.whl.metadata (4.5 kB)\n",
      "  Downloading virtualenv-20.28.0-py3-none-any.whl.metadata (4.4 kB)\n",
      "  Downloading virtualenv-20.27.1-py3-none-any.whl.metadata (4.5 kB)\n",
      "  Downloading virtualenv-20.27.0-py3-none-any.whl.metadata (4.5 kB)\n",
      "  Downloading virtualenv-20.26.6-py3-none-any.whl.metadata (4.5 kB)\n",
      "  Downloading virtualenv-20.26.5-py3-none-any.whl.metadata (4.5 kB)\n",
      "INFO: pip is still looking at multiple versions of virtualenv to determine which version is compatible with other requirements. This could take a while.\n",
      "  Downloading virtualenv-20.26.4-py3-none-any.whl.metadata (4.5 kB)\n",
      "  Downloading virtualenv-20.26.3-py3-none-any.whl.metadata (4.5 kB)\n",
      "  Downloading virtualenv-20.26.2-py3-none-any.whl.metadata (4.4 kB)\n",
      "  Downloading virtualenv-20.26.1-py3-none-any.whl.metadata (4.4 kB)\n",
      "  Downloading virtualenv-20.26.0-py3-none-any.whl.metadata (4.4 kB)\n",
      "INFO: This is taking longer than usual. You might need to provide the dependency resolver with stricter constraints to reduce runtime. See https://pip.pypa.io/warnings/backtracking for guidance. If you want to abort this run, press Ctrl + C.\n",
      "  Downloading virtualenv-20.25.3-py3-none-any.whl.metadata (4.4 kB)\n",
      "  Downloading virtualenv-20.25.2-py3-none-any.whl.metadata (4.4 kB)\n",
      "  Downloading virtualenv-20.25.1-py3-none-any.whl.metadata (4.4 kB)\n",
      "  Downloading virtualenv-20.25.0-py3-none-any.whl.metadata (4.5 kB)\n",
      "  Downloading virtualenv-20.24.7-py3-none-any.whl.metadata (4.5 kB)\n",
      "  Downloading virtualenv-20.24.6-py3-none-any.whl.metadata (4.5 kB)\n",
      "  Downloading virtualenv-20.24.5-py3-none-any.whl.metadata (4.5 kB)\n",
      "  Downloading virtualenv-20.24.4-py3-none-any.whl.metadata (4.5 kB)\n",
      "  Downloading virtualenv-20.24.3-py3-none-any.whl.metadata (4.5 kB)\n",
      "  Downloading virtualenv-20.24.2-py3-none-any.whl.metadata (4.5 kB)\n",
      "  Downloading virtualenv-20.24.1-py3-none-any.whl.metadata (4.5 kB)\n",
      "  Downloading virtualenv-20.24.0-py3-none-any.whl.metadata (4.5 kB)\n",
      "  Downloading virtualenv-20.23.1-py3-none-any.whl.metadata (4.5 kB)\n",
      "  Downloading virtualenv-20.23.0-py3-none-any.whl.metadata (4.3 kB)\n",
      "  Downloading virtualenv-20.22.0-py3-none-any.whl.metadata (4.1 kB)\n",
      "  Downloading virtualenv-20.21.1-py3-none-any.whl.metadata (4.1 kB)\n",
      "Requirement already satisfied: zipp>=3.20 in /usr/local/lib/python3.11/dist-packages (from importlib-metadata>=4.11.4->keyring<24.0.0,>=23.9.0->poetry==1.4.2) (3.21.0)\n",
      "Requirement already satisfied: typing-extensions>=4.4.0 in /usr/local/lib/python3.11/dist-packages (from referencing>=0.28.4->jsonschema<5.0.0,>=4.10.0->poetry==1.4.2) (4.12.2)\n",
      "Requirement already satisfied: more-itertools in /usr/local/lib/python3.11/dist-packages (from jaraco.classes->keyring<24.0.0,>=23.9.0->poetry==1.4.2) (10.5.0)\n",
      "Downloading poetry-1.4.2-py3-none-any.whl (222 kB)\n",
      "\u001b[2K   \u001b[90m━━━━━━━━━━━━━━━━━━━━━━━━━━━━━━━━━━━━━━━━\u001b[0m \u001b[32m222.7/222.7 kB\u001b[0m \u001b[31m6.9 MB/s\u001b[0m eta \u001b[36m0:00:00\u001b[0m\n",
      "\u001b[?25hDownloading poetry_core-1.5.2-py3-none-any.whl (465 kB)\n",
      "\u001b[2K   \u001b[90m━━━━━━━━━━━━━━━━━━━━━━━━━━━━━━━━━━━━━━━━\u001b[0m \u001b[32m465.2/465.2 kB\u001b[0m \u001b[31m16.7 MB/s\u001b[0m eta \u001b[36m0:00:00\u001b[0m\n",
      "\u001b[?25hDownloading build-0.10.0-py3-none-any.whl (17 kB)\n",
      "Downloading CacheControl-0.12.14-py2.py3-none-any.whl (21 kB)\n",
      "Downloading cleo-2.1.0-py3-none-any.whl (78 kB)\n",
      "\u001b[2K   \u001b[90m━━━━━━━━━━━━━━━━━━━━━━━━━━━━━━━━━━━━━━━━\u001b[0m \u001b[32m78.7/78.7 kB\u001b[0m \u001b[31m3.6 MB/s\u001b[0m eta \u001b[36m0:00:00\u001b[0m\n",
      "\u001b[?25hDownloading crashtest-0.4.1-py3-none-any.whl (7.6 kB)\n",
      "Downloading dulwich-0.21.7-cp311-cp311-manylinux_2_17_x86_64.manylinux2014_x86_64.whl (516 kB)\n",
      "\u001b[2K   \u001b[90m━━━━━━━━━━━━━━━━━━━━━━━━━━━━━━━━━━━━━━━━\u001b[0m \u001b[32m516.4/516.4 kB\u001b[0m \u001b[31m17.3 MB/s\u001b[0m eta \u001b[36m0:00:00\u001b[0m\n",
      "\u001b[?25hDownloading installer-0.7.0-py3-none-any.whl (453 kB)\n",
      "\u001b[2K   \u001b[90m━━━━━━━━━━━━━━━━━━━━━━━━━━━━━━━━━━━━━━━━\u001b[0m \u001b[32m453.8/453.8 kB\u001b[0m \u001b[31m22.2 MB/s\u001b[0m eta \u001b[36m0:00:00\u001b[0m\n",
      "\u001b[?25hDownloading keyring-23.13.1-py3-none-any.whl (37 kB)\n",
      "Downloading lockfile-0.12.2-py2.py3-none-any.whl (13 kB)\n",
      "Downloading pkginfo-1.12.0-py3-none-any.whl (32 kB)\n",
      "Downloading platformdirs-2.6.2-py3-none-any.whl (14 kB)\n",
      "Downloading poetry_plugin_export-1.3.1-py3-none-any.whl (10 kB)\n",
      "Downloading pyproject_hooks-1.2.0-py3-none-any.whl (10 kB)\n",
      "Downloading requests_toolbelt-0.10.1-py2.py3-none-any.whl (54 kB)\n",
      "\u001b[2K   \u001b[90m━━━━━━━━━━━━━━━━━━━━━━━━━━━━━━━━━━━━━━━━\u001b[0m \u001b[32m54.5/54.5 kB\u001b[0m \u001b[31m3.1 MB/s\u001b[0m eta \u001b[36m0:00:00\u001b[0m\n",
      "\u001b[?25hDownloading tomlkit-0.13.2-py3-none-any.whl (37 kB)\n",
      "Downloading trove_classifiers-2025.1.15.22-py3-none-any.whl (13 kB)\n",
      "Downloading urllib3-1.26.20-py2.py3-none-any.whl (144 kB)\n",
      "\u001b[2K   \u001b[90m━━━━━━━━━━━━━━━━━━━━━━━━━━━━━━━━━━━━━━━━\u001b[0m \u001b[32m144.2/144.2 kB\u001b[0m \u001b[31m10.1 MB/s\u001b[0m eta \u001b[36m0:00:00\u001b[0m\n",
      "\u001b[?25hDownloading virtualenv-20.21.1-py3-none-any.whl (8.7 MB)\n",
      "\u001b[2K   \u001b[90m━━━━━━━━━━━━━━━━━━━━━━━━━━━━━━━━━━━━━━━━\u001b[0m \u001b[32m8.7/8.7 MB\u001b[0m \u001b[31m62.9 MB/s\u001b[0m eta \u001b[36m0:00:00\u001b[0m\n",
      "\u001b[?25hDownloading distlib-0.3.9-py2.py3-none-any.whl (468 kB)\n",
      "\u001b[2K   \u001b[90m━━━━━━━━━━━━━━━━━━━━━━━━━━━━━━━━━━━━━━━━\u001b[0m \u001b[32m469.0/469.0 kB\u001b[0m \u001b[31m27.3 MB/s\u001b[0m eta \u001b[36m0:00:00\u001b[0m\n",
      "\u001b[?25hDownloading rapidfuzz-3.11.0-cp311-cp311-manylinux_2_17_x86_64.manylinux2014_x86_64.whl (3.1 MB)\n",
      "\u001b[2K   \u001b[90m━━━━━━━━━━━━━━━━━━━━━━━━━━━━━━━━━━━━━━━━\u001b[0m \u001b[32m3.1/3.1 MB\u001b[0m \u001b[31m67.0 MB/s\u001b[0m eta \u001b[36m0:00:00\u001b[0m\n",
      "\u001b[?25hDownloading jaraco.classes-3.4.0-py3-none-any.whl (6.8 kB)\n",
      "Installing collected packages: trove-classifiers, lockfile, distlib, urllib3, tomlkit, rapidfuzz, pyproject-hooks, poetry-core, platformdirs, pkginfo, jaraco.classes, installer, crashtest, virtualenv, keyring, dulwich, cleo, build, requests-toolbelt, cachecontrol, poetry-plugin-export, poetry\n",
      "  Attempting uninstall: urllib3\n",
      "    Found existing installation: urllib3 2.3.0\n",
      "    Uninstalling urllib3-2.3.0:\n",
      "      Successfully uninstalled urllib3-2.3.0\n",
      "  Attempting uninstall: platformdirs\n",
      "    Found existing installation: platformdirs 4.3.6\n",
      "    Uninstalling platformdirs-4.3.6:\n",
      "      Successfully uninstalled platformdirs-4.3.6\n",
      "  Attempting uninstall: keyring\n",
      "    Found existing installation: keyring 23.5.0\n",
      "    Uninstalling keyring-23.5.0:\n",
      "      Successfully uninstalled keyring-23.5.0\n",
      "  Attempting uninstall: requests-toolbelt\n",
      "    Found existing installation: requests-toolbelt 1.0.0\n",
      "    Uninstalling requests-toolbelt-1.0.0:\n",
      "      Successfully uninstalled requests-toolbelt-1.0.0\n",
      "  Attempting uninstall: cachecontrol\n",
      "    Found existing installation: CacheControl 0.14.2\n",
      "    Uninstalling CacheControl-0.14.2:\n",
      "      Successfully uninstalled CacheControl-0.14.2\n",
      "\u001b[31mERROR: pip's dependency resolver does not currently take into account all the packages that are installed. This behaviour is the source of the following dependency conflicts.\n",
      "langsmith 0.3.0 requires requests-toolbelt<2.0.0,>=1.0.0, but you have requests-toolbelt 0.10.1 which is incompatible.\u001b[0m\u001b[31m\n",
      "\u001b[0mSuccessfully installed build-0.10.0 cachecontrol-0.12.14 cleo-2.1.0 crashtest-0.4.1 distlib-0.3.9 dulwich-0.21.7 installer-0.7.0 jaraco.classes-3.4.0 keyring-23.13.1 lockfile-0.12.2 pkginfo-1.12.0 platformdirs-2.6.2 poetry-1.4.2 poetry-core-1.5.2 poetry-plugin-export-1.3.1 pyproject-hooks-1.2.0 rapidfuzz-3.11.0 requests-toolbelt-0.10.1 tomlkit-0.13.2 trove-classifiers-2025.1.15.22 urllib3-1.26.20 virtualenv-20.21.1\n"
     ]
    },
    {
     "data": {
      "application/vnd.colab-display-data+json": {
       "id": "fe08c0d596f0469ca3088449cd1baf00",
       "pip_warning": {
        "packages": [
         "jaraco"
        ]
       }
      }
     },
     "metadata": {},
     "output_type": "display_data"
    }
   ],
   "source": [
    "!git clone -b implementing-vars https://github.com/DrYogurt/Aero-Design-Team-Gamma.git\n",
    "!pip install poetry==1.4.2"
   ]
  },
  {
   "cell_type": "code",
   "execution_count": 1,
   "id": "S0bS4LbKlJMv",
   "metadata": {
    "colab": {
     "base_uri": "https://localhost:8080/"
    },
    "id": "S0bS4LbKlJMv",
    "outputId": "16554d47-6efd-4f58-cb61-7ef97b65bf72"
   },
   "outputs": [
    {
     "name": "stdout",
     "output_type": "stream",
     "text": [
      "/content/Aero-Design-Team-Gamma\n",
      "Creating virtualenv aerospace-design-team-gamma in /content/Aero-Design-Team-Gamma/.venv\n",
      "Installing dependencies from lock file\n",
      "The lock file might not be compatible with the current version of Poetry.\n",
      "Upgrade Poetry to ensure the lock file is read properly or, alternatively, regenerate the lock file with the `poetry lock` command.\n",
      "\n",
      "Package operations: 41 installs, 0 updates, 0 removals\n",
      "\n",
      "  • Installing numpy (1.26.4)\n",
      "  • Installing six (1.17.0)\n",
      "  • Installing contourpy (1.3.1)\n",
      "  • Installing cycler (0.12.1)\n",
      "  • Installing fonttools (4.55.3)\n",
      "  • Installing kiwisolver (1.4.8)\n",
      "  • Installing packaging (24.2)\n",
      "  • Installing pillow (11.1.0)\n",
      "  • Installing pyparsing (3.2.1)\n",
      "  • Installing python-dateutil (2.9.0.post0)\n",
      "  • Installing click (8.1.8)\n",
      "  • Installing iniconfig (2.0.0)\n",
      "  • Installing mccabe (0.7.0)\n",
      "  • Installing matplotlib (3.10.0)\n",
      "  • Installing markupsafe (3.0.2)\n",
      "  • Installing mpmath (1.3.0)\n",
      "  • Installing mypy-extensions (1.0.0)\n",
      "  • Installing pathspec (0.12.1)\n",
      "  • Installing platformdirs (4.3.6)\n",
      "  • Installing pluggy (1.5.0)\n",
      "  • Installing plumbum (1.9.0)\n",
      "  • Installing ply (3.11)\n",
      "  • Installing pycodestyle (2.11.1)\n",
      "  • Installing pyflakes (3.1.0)\n",
      "  • Installing pytz (2024.2)\n",
      "  • Installing pyyaml (6.0.2)\n",
      "  • Installing scipy (1.15.1)\n",
      "  • Installing tzdata (2024.2)\n",
      "  • Installing ambiance (1.3.1)\n",
      "  • Installing black (23.12.1)\n",
      "  • Installing corner (2.2.3)\n",
      "  • Installing flake8 (6.1.0)\n",
      "  • Installing isort (5.13.2)\n",
      "  • Installing jinja2 (3.1.5)\n",
      "  • Installing networkx (3.4.2)\n",
      "  • Installing pandas (2.2.3)\n",
      "  • Installing pandoc (2.4)\n",
      "  • Installing pypandoc (1.15)\n",
      "  • Installing pytest (7.4.4)\n",
      "  • Installing python-frontmatter (1.1.0)\n",
      "  • Installing sympy (1.13.3)\n",
      "\n",
      "Installing the current project: Aerospace-Design-Team-Gamma (0.1.0)\n"
     ]
    }
   ],
   "source": [
    "%cd Aero-Design-Team-Gamma\n",
    "!poetry config virtualenvs.in-project true\n",
    "!poetry install --no-ansi"
   ]
  },
  {
   "cell_type": "code",
   "execution_count": 2,
   "id": "7Xdugkd5kPKW",
   "metadata": {
    "id": "7Xdugkd5kPKW"
   },
   "outputs": [],
   "source": [
    "VENV_PATH = \"/content/Aero-Design-Team-Gamma/.venv/lib/python3.11/site-packages\"\n",
    "import os, sys\n",
    "LOCAL_VENV_PATH = '/content/venv' # local notebook\n",
    "os.symlink(VENV_PATH, LOCAL_VENV_PATH) # connect to directory in drive\n",
    "sys.path.insert(0, LOCAL_VENV_PATH)"
   ]
  },
  {
   "cell_type": "code",
   "execution_count": 32,
   "id": "FhEtf4HufA6d",
   "metadata": {
    "id": "FhEtf4HufA6d"
   },
   "outputs": [],
   "source": [
    "from ambiance import Atmosphere\n",
    "\n",
    "from global_variables.solver import EquationSystem\n",
    "from global_variables.registry import VariableRegistry, Variable\n",
    "\n",
    "registry = VariableRegistry(\"aero_vars.yaml\")"
   ]
  },
  {
   "cell_type": "code",
   "execution_count": 33,
   "id": "nvzUc09vfMSc",
   "metadata": {
    "colab": {
     "base_uri": "https://localhost:8080/"
    },
    "id": "nvzUc09vfMSc",
    "outputId": "cd6991ff-dd3d-4293-c55b-d2b6aefa6296"
   },
   "outputs": [
    {
     "name": "stdout",
     "output_type": "stream",
     "text": [
      "Required inputs: {'n_pax', 'W_max', 'V', 'b', 'W_pax', 'S_', 'rho', 'T_A0', 'TSFC', 'C_D0', 'e', 'We_Wmax'}\n"
     ]
    },
    {
     "data": {
      "text/plain": [
       "{'sigma_max': <global_variables.solver.EquationSystem at 0x7b3b7fdd3ed0>,\n",
       " 'R': <global_variables.solver.EquationSystem at 0x7b3ba0f16060>}"
      ]
     },
     "execution_count": 33,
     "metadata": {},
     "output_type": "execute_result"
    }
   ],
   "source": [
    "#outputs = {\"S_TO\", \"R\", \"sigma_max\"}\n",
    "outputs = {\"R\", \"sigma_max\"}\n",
    "\n",
    "# Create solvers for each output\n",
    "solvers = {\n",
    "    output: EquationSystem(registry, {output})\n",
    "    for output in outputs\n",
    "}\n",
    "\n",
    "# Get all unique inputs\n",
    "all_inputs = set().union(*(solver.inputs for solver in solvers.values()))\n",
    "print(f\"Required inputs: {all_inputs}\")\n",
    "solvers"
   ]
  },
  {
   "cell_type": "code",
   "execution_count": 34,
   "id": "na5rbBzkmNoC",
   "metadata": {
    "id": "na5rbBzkmNoC"
   },
   "outputs": [],
   "source": [
    "def mach(M,h):\n",
    "  atmo = Atmosphere(h * 0.3048)\n",
    "  return atmo.speed_of_sound[-1] * M / 0.3048"
   ]
  },
  {
   "cell_type": "code",
   "execution_count": 35,
   "id": "OJPtmCUkoFMP",
   "metadata": {
    "id": "OJPtmCUkoFMP"
   },
   "outputs": [],
   "source": [
    "def rho_func(h):\n",
    "  atmo = Atmosphere(h * 0.3048)\n",
    "  return atmo.density[-1]"
   ]
  },
  {
   "cell_type": "code",
   "execution_count": 36,
   "id": "HouWKx25gRum",
   "metadata": {
    "colab": {
     "base_uri": "https://localhost:8080/"
    },
    "id": "HouWKx25gRum",
    "outputId": "6ab45984-d189-47da-b4dd-f0b8c517f2eb"
   },
   "outputs": [
    {
     "name": "stdout",
     "output_type": "stream",
     "text": [
      "{'V': (778.514759070209, 924.4862763958732), 'S_': (80000.0, 110000.0), 'b': (300, 315), 'T_A0': (480000.0, 520000.0), 'W_pax': (200, 300), 'e': (0.8, 1.0), 'mu': (0.01, 0.05), 'W_max': (1900000.0, 2200000.0), 'C_Lmax': (1.5, 1.8), 'C_D0': (0.01, 0.035), 'rho': (0.23824523567640446, 1.225000018124288), 'n_pax': (1200, 1260), 'We_Wmax': (0.4, 0.6), 'TSFC': (1080.0, 2160.0)}\n"
     ]
    }
   ],
   "source": [
    "\n",
    "# Generate sample points for each input\n",
    "n_samples = int(1e2)\n",
    "samples = {}\n",
    "\n",
    "# Define ranges for each input (you'll need to adjust these)\n",
    "ranges = {\n",
    "    'V':(mach(0.8,35e3),mach(0.95,35e3)), #cruising velocity ft / s\n",
    "    'S_': (8e4,11e4), # area in ft^2\n",
    "    'b': (300, 315),  # wingspan in ft^2\n",
    "    'T_A0': (4.8e5,5.2e5),\n",
    "    'W_pax': (200,300), #weight per passenger in lbs\n",
    "    'e':(0.8,1.), # oswald efficiency\n",
    "    'mu':(.01,.05),\n",
    "    'W_max':(1.9e6, 2.2e6),  # weight in lbs\n",
    "    'C_Lmax':(1.5,1.8),  # weight in lbs\n",
    "    'C_D0':(0.01,0.035),\n",
    "    'rho':(rho_func(45e3),rho_func(0)),\n",
    "    'n_pax': (1200,1260), # number of passengers\n",
    "    'We_Wmax':(0.4,0.6),\n",
    "    #'h': (0, 40000),  # altitude in ft\n",
    "    'TSFC': (0.3*3600.,0.6*3600), # TSFC\n",
    "\n",
    "    # Add other inputs and their ranges\n",
    "}\n",
    "print(ranges)"
   ]
  },
  {
   "cell_type": "code",
   "execution_count": 37,
   "id": "l3T0bGsIpM-2",
   "metadata": {
    "colab": {
     "base_uri": "https://localhost:8080/"
    },
    "id": "l3T0bGsIpM-2",
    "outputId": "9b99490a-4dc8-4881-89fc-7efb0095dad7"
   },
   "outputs": [],
   "source": [
    "import numpy as np\n",
    "import matplotlib.pyplot as plt\n",
    "# Generate Latin Hypercube samples\n",
    "from scipy.stats import qmc\n",
    "sampler = qmc.LatinHypercube(d=len(all_inputs))\n",
    "sample_points = sampler.random(n=n_samples)\n",
    "\n",
    "# Scale samples to actual ranges\n",
    "input_list = sorted(all_inputs)\n",
    "for i, input_var in enumerate(input_list):\n",
    "    if input_var in ranges:\n",
    "        min_val, max_val = ranges[input_var]\n",
    "        samples[input_var] = qmc.scale(sample_points[:, [i]], [min_val], [max_val]).flatten()\n",
    "    else:\n",
    "        print(f\"Warning: No range defined for {input_var}\")\n",
    "        samples[input_var] = sample_points[:, i]  # Use 0-1 range as default"
   ]
  },
  {
   "cell_type": "code",
   "execution_count": 38,
   "id": "ZWP6VWDwgZDJ",
   "metadata": {
    "id": "ZWP6VWDwgZDJ"
   },
   "outputs": [
    {
     "name": "stdout",
     "output_type": "stream",
     "text": [
      "[0.87328054 0.7352643  0.78240292 0.81881931 0.61706671 0.89149786\n",
      " 0.61716097 0.65284904 0.68134908 0.98651618 0.63589292 0.78318423\n",
      " 0.92470549 0.72025485 0.80724701 0.44766982 0.44098039 0.89720381\n",
      " 0.8963806  0.75450868 0.8842429  0.53357313 0.78101291 1.00951195\n",
      " 0.68661565 0.57486476 0.89408277 0.61131255 0.68619724 0.83189647\n",
      " 0.69525497 0.52970882 0.85120545 0.52817174 0.72488166 0.821674\n",
      " 0.92077028 0.96071649 0.74619566 0.69718423 0.7095313  0.71656011\n",
      " 0.7339755  0.67614134 0.78899269 0.45976996 0.78970062 0.59449238\n",
      " 0.82324261 0.70300492 0.91670586 0.67657972 0.75650903 0.60810262\n",
      " 0.85715008 0.60178618 0.89469275 0.82313954 0.76899691 0.57900315\n",
      " 0.86440114 0.7956806  0.71491657 0.66442421 0.64606972 0.70803596\n",
      " 0.5526146  0.57517321 0.72928824 0.49472482 0.79832731 0.60266887\n",
      " 0.74933905 0.70310537 0.71899775 0.68556631 0.56898477 0.67424007\n",
      " 0.79641968 0.75757033 0.63877746 0.65759071 0.50024959 0.58215267\n",
      " 0.78484861 0.95307788 0.79954228 0.69144014 0.86611885 0.72141275\n",
      " 0.50428432 0.50005923 0.81932844 0.6921413  0.62171175 0.9546628\n",
      " 0.910939   0.50996284 0.87605126 0.59189831]\n",
      "[0.00128596 0.00062161 0.0003585  0.00097796 0.00184064 0.00197461\n",
      " 0.00057999 0.00089917 0.00265257 0.00044224 0.00137228 0.00088609\n",
      " 0.00070953 0.00048488 0.00053421 0.00500498 0.00529391 0.00367106\n",
      " 0.00138624 0.00097425 0.00101647 0.00110025 0.00162269 0.00059947\n",
      " 0.00349486 0.00129695 0.00072669 0.00224109 0.0004215  0.00073602\n",
      " 0.00074934 0.00161706 0.00064232 0.00106936 0.00068791 0.00084503\n",
      " 0.00044854 0.00050734 0.00099918 0.0007932  0.00188813 0.00065195\n",
      " 0.00206545 0.00074661 0.00072635 0.00241411 0.00103312 0.00059316\n",
      " 0.00070606 0.00067292 0.00070298 0.00191009 0.00036458 0.00176424\n",
      " 0.00087861 0.0020259  0.00078135 0.00182315 0.00068679 0.00673225\n",
      " 0.00258078 0.00060833 0.00041695 0.0008301  0.00064024 0.00058203\n",
      " 0.00158764 0.00102528 0.0009826  0.00115039 0.00073295 0.00127343\n",
      " 0.00167867 0.0013023  0.00155571 0.00088502 0.00465163 0.00089416\n",
      " 0.0009544  0.00106962 0.00160499 0.00238203 0.00127377 0.00222345\n",
      " 0.00038577 0.00060959 0.00097863 0.00038588 0.00204232 0.00129826\n",
      " 0.00192273 0.00105895 0.00082314 0.00328269 0.00304528 0.00073111\n",
      " 0.00149261 0.00190502 0.00052347 0.0013731 ]\n"
     ]
    }
   ],
   "source": [
    "# Calculate outputs\n",
    "results = {}\n",
    "for output, solver in solvers.items():\n",
    "    solver_f,_ = solver.create_solver()\n",
    "    solver_func = solver_f[output]\n",
    "    input_args = [samples[inp] for inp in sorted(solver.inputs)]\n",
    "    try:\n",
    "        output_values = np.array(solver_func(*input_args))\n",
    "        print(output_values)\n",
    "        # Ensure output is 1D array of correct length\n",
    "        if output_values.size == 1:\n",
    "            output_values = np.full(n_samples, output_values)\n",
    "        results[output] = output_values\n",
    "    except Exception as e:\n",
    "        print(f\"Error calculating {output}: {e}\")\n",
    "#results"
   ]
  },
  {
   "cell_type": "code",
   "execution_count": 44,
   "id": "976ldHv2p-ff",
   "metadata": {
    "id": "976ldHv2p-ff"
   },
   "outputs": [],
   "source": [
    "def create_output_corner_plot(samples, output_values, setpoint, output_name, \n",
    "                            figsize=(10, 10), n_contours=20, n_grid=50):\n",
    "    \"\"\"\n",
    "    Create a corner plot with contours showing how output varies with input pairs.\n",
    "    \"\"\"\n",
    "    # Print value ranges for debugging\n",
    "    print(f\"Output range: {np.min(output_values):.2f} to {np.max(output_values):.2f}\")\n",
    "    print(f\"Setpoint: {setpoint}\")\n",
    "    \n",
    "    # Create diverging colormap centered at setpoint\n",
    "    colors = ['darkred', 'red', 'lightcoral', 'white', 'lightgreen', 'green', 'darkgreen']\n",
    "    custom_cmap = LinearSegmentedColormap.from_list('custom', colors, N=256)\n",
    "    \n",
    "    input_vars = list(samples.keys())\n",
    "    n_vars = len(input_vars)\n",
    "    \n",
    "    # Create figure with small margins\n",
    "    fig, axes = plt.subplots(n_vars, n_vars, figsize=figsize)\n",
    "    plt.subplots_adjust(wspace=0.1, hspace=0.1)\n",
    "    \n",
    "    # If only one variable, axes won't be a 2D array\n",
    "    if n_vars == 1:\n",
    "        axes = np.array([[axes]])\n",
    "    \n",
    "    # Calculate differences and normalize\n",
    "    differences = output_values - setpoint\n",
    "    abs_max = max(abs(np.min(differences)), abs(np.max(differences)))\n",
    "    \n",
    "    # Create levels based on percentage differences from setpoint\n",
    "    rel_diffs = differences / abs(setpoint) * 100  # Convert to percentage\n",
    "    max_rel_diff = max(abs(np.min(rel_diffs)), abs(np.max(rel_diffs)))\n",
    "    \n",
    "    # Create symmetric levels around zero in percentage terms\n",
    "    level_step = max_rel_diff / (n_contours // 2)\n",
    "    levels = np.concatenate([\n",
    "        np.arange(-max_rel_diff, 0, level_step),\n",
    "        np.array([0]),\n",
    "        np.arange(level_step, max_rel_diff + level_step, level_step)\n",
    "    ])\n",
    "    \n",
    "    # Create the corner plot\n",
    "    for i in range(n_vars):\n",
    "        for j in range(n_vars):\n",
    "            ax = axes[i, j]\n",
    "            \n",
    "            # Remove top and right spines for all plots\n",
    "            ax.spines['top'].set_visible(False)\n",
    "            ax.spines['right'].set_visible(False)\n",
    "            \n",
    "            if i < j:  # Upper triangle - leave empty\n",
    "                ax.axis('off')\n",
    "                continue\n",
    "                \n",
    "            elif i == j:  # Diagonal - histogram\n",
    "                ax.hist(samples[input_vars[i]], bins=30, density=True)\n",
    "                if i == n_vars-1:  # Only bottom row gets x labels\n",
    "                    ax.set_xlabel(input_vars[i])\n",
    "                else:\n",
    "                    ax.set_xticklabels([])\n",
    "                \n",
    "                if j == 0:  # Only first column gets y labels\n",
    "                    ax.set_ylabel('Density')\n",
    "                else:\n",
    "                    ax.set_yticklabels([])\n",
    "                \n",
    "            else:  # Lower triangle - contour plots\n",
    "                x = samples[input_vars[j]]\n",
    "                y = samples[input_vars[i]]\n",
    "                \n",
    "                # Create grid for contour plot\n",
    "                xi = np.linspace(x.min(), x.max(), n_grid)\n",
    "                yi = np.linspace(y.min(), y.max(), n_grid)\n",
    "                xi, yi = np.meshgrid(xi, yi)\n",
    "                \n",
    "                # Interpolate relative differences on the grid\n",
    "                zi = griddata((x, y), rel_diffs, (xi, yi), method='cubic')\n",
    "                \n",
    "                # Create contour plot\n",
    "                contour = ax.contourf(xi, yi, zi, levels=levels, cmap=custom_cmap, extend='both')\n",
    "                \n",
    "                # Add colorbar only for rightmost plots\n",
    "                if j == n_vars-1:\n",
    "                    cbar = plt.colorbar(contour, ax=ax, ticks=levels[::2])\n",
    "                    cbar.set_label('% Difference from setpoint')\n",
    "                \n",
    "                # Add setpoint contour in black\n",
    "                ax.contour(xi, yi, zi, levels=[0], colors='black', linestyles='dashed')\n",
    "                \n",
    "                # Only add x labels to bottom row\n",
    "                if i == n_vars-1:\n",
    "                    ax.set_xlabel(input_vars[j])\n",
    "                else:\n",
    "                    ax.set_xticklabels([])\n",
    "                \n",
    "                # Only add y labels to leftmost column\n",
    "                if j == 0:\n",
    "                    ax.set_ylabel(input_vars[i])\n",
    "                else:\n",
    "                    ax.set_yticklabels([])\n",
    "    \n",
    "    plt.suptitle(f'Parameter Effects on {output_name} (Setpoint: {setpoint})', y=1.02)\n",
    "    return fig, axes"
   ]
  },
  {
   "cell_type": "code",
   "execution_count": 45,
   "id": "080b9edc-df9b-4df2-a543-f9d44db8ac98",
   "metadata": {},
   "outputs": [
    {
     "name": "stdout",
     "output_type": "stream",
     "text": [
      "Output range: 0.44 to 1.01\n",
      "Setpoint: 0.1852\n",
      "Output range: 0.00 to 0.01\n",
      "Setpoint: 60760000.0\n"
     ]
    }
   ],
   "source": [
    "setpoints={'R':1e4*6076,'sigma_max':0.1852}\n",
    "for output in solvers.keys():\n",
    "    fig, axes = create_output_corner_plot(samples,results[output],output_name = output, setpoint=setpoints[output],\n",
    "                                         figsize=(30,30))\n",
    "    # Add title\n",
    "    #fig.suptitle(f\"Corner Plots for {output}\", fontsize=14, y=1.02)\n",
    "    \n",
    "    # Save figure\n",
    "    plt.savefig(f\"corner_plot_{output}.png\", dpi=300)\n",
    "    plt.close()"
   ]
  },
  {
   "cell_type": "code",
   "execution_count": null,
   "id": "sVZAMNkIskha",
   "metadata": {
    "colab": {
     "base_uri": "https://localhost:8080/",
     "height": 39
    },
    "id": "sVZAMNkIskha",
    "outputId": "29a538ce-a38b-41c8-b30e-d9e0636e05b6"
   },
   "outputs": [],
   "source": [
    "R_func, soln = solvers['S_TO'].create_solver()\n",
    "\n",
    "soln\n",
    "#from sympy import lambdify\n",
    "#func = lambdify(soln\n"
   ]
  },
  {
   "cell_type": "code",
   "execution_count": 12,
   "id": "lgrs86C-tB8H",
   "metadata": {
    "colab": {
     "base_uri": "https://localhost:8080/"
    },
    "id": "lgrs86C-tB8H",
    "outputId": "3f509b2c-4caf-4a44-8534-21c146129b43"
   },
   "outputs": [
    {
     "data": {
      "text/plain": [
       "{'C_L_full': ['2 * W_max / (rho * V**2 * S_)'],\n",
       " 'CL_CD_ratio': ['0.5 * ((C_L_full)**(1/2)/C_D_full + (C_L_empty)**(1/2)/C_D_empty)'],\n",
       " 'W_e': ['We_Wmax * W_max'],\n",
       " 'C_L_empty': ['2 * (W_max - W_f) / (rho * V**2 * S_)'],\n",
       " 'AR': ['b**2 / S_'],\n",
       " 'C_D_empty': ['C_D0 + C_Di_empty'],\n",
       " 'W_p': ['n_pax * W_pax'],\n",
       " 'C_D_full': ['C_D0 + C_Di_full'],\n",
       " 'C_Di_empty': ['C_L_empty**2 / (pi * e * AR)'],\n",
       " 'R': ['(2/TSFC) * (2/(rho*S_)**(1/2)) * CL_CD_ratio * ((W_max)**(1/2)-(W_max-W_f)**(1/2))'],\n",
       " 'C_Di_full': ['C_L_full**2 / (pi * e * AR)'],\n",
       " 'W_f': ['W_max - W_p - W_e']}"
      ]
     },
     "execution_count": 12,
     "metadata": {},
     "output_type": "execute_result"
    }
   ],
   "source": [
    "solvers['R']._collect_equations()"
   ]
  },
  {
   "cell_type": "code",
   "execution_count": null,
   "id": "-yRqULBJtfeL",
   "metadata": {
    "id": "-yRqULBJtfeL"
   },
   "outputs": [],
   "source": [
    "3.0e-14\n",
    "*W_max\n",
    "*(-5.04e+31*C_D0*C_Lmax*S_*W_max*b**2*e*rho\n",
    "  + 1.28899111083484e+29*C_D0*W_max**3*b**2*e\n",
    "  *log(25.0*C_Lmax*(-T_A0 + W_max*mu)/(72.0*C_D0*W_max**2 - 25.0*C_Lmax*T_A0))\n",
    "  + 4.94669432124992e+27*C_Lmax**2*S_*W_max*log(25.0*C_Lmax*(-T_A0 + W_max*mu)/(72.0*C_D0*W_max**2 - 25.0*C_Lmax*T_A0)) + 1.75e+31*C_Lmax**2*S_*b**2*e*mu*rho - 4.47566357928762e+28*C_Lmax*T_A0*W_max*b**2*e*log(25.0*C_Lmax*(-T_A0 + W_max*mu)/(72.0*C_D0*W_max**2 - 25.0*C_Lmax*T_A0)))/(S_*rho*(1.24416000000001e+17*C_D0**2*W_max**3*b**2*e + 4.77464829275686e+15*C_D0*C_Lmax**2*S_*W_max - 4.32e+16*C_D0*C_Lmax*T_A0*W_max*b**2*e - 4.32000000000002e+16*C_D0*C_Lmax*W_max**2*b**2*e*mu - 1.65786399054058e+15*C_Lmax**3*S_*mu + 1.5e+16*C_Lmax**2*T_A0*b**2*e*mu))"
   ]
  }
 ],
 "metadata": {
  "colab": {
   "provenance": []
  },
  "kernelspec": {
   "display_name": "Python 3 (ipykernel)",
   "language": "python",
   "name": "python3"
  },
  "language_info": {
   "codemirror_mode": {
    "name": "ipython",
    "version": 3
   },
   "file_extension": ".py",
   "mimetype": "text/x-python",
   "name": "python",
   "nbconvert_exporter": "python",
   "pygments_lexer": "ipython3",
   "version": "3.13.1"
  }
 },
 "nbformat": 4,
 "nbformat_minor": 5
}
