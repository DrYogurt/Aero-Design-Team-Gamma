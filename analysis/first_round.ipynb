{
 "cells": [
  {
   "cell_type": "code",
   "execution_count": 6,
   "id": "61c68827-ba0b-4e69-8ed9-930123a28ff4",
   "metadata": {},
   "outputs": [],
   "source": [
    "from equations import EquationSolver as EQ\n",
    "import sympy as symp\n",
    "import numpy as np\n",
    "from ambiance import Atmosphere"
   ]
  },
  {
   "cell_type": "code",
   "execution_count": 2,
   "id": "2094720e-6da4-46ca-a430-88f658a19dec",
   "metadata": {},
   "outputs": [],
   "source": [
    "def weight_calcs(W_max, We_Wmax,\n",
    "                 num_passengers = 1200,\n",
    "                 passenger_weight = 205,\n",
    "                 \n",
    "                ):\n",
    "    W_empty = We_Wmax * W_max\n",
    "    W_payload = passenger_weight * num_passengers\n",
    "    W_fuel = W_max - W_payload - W_empty\n",
    "    return W_empty, W_payload, W_fuel    "
   ]
  },
  {
   "cell_type": "code",
   "execution_count": 8,
   "id": "3f7b8c91-a7d1-4797-b8b4-1dcf8ec02cd3",
   "metadata": {},
   "outputs": [],
   "source": [
    "wing_params = EQ(\"AR - b**2 / S\")\n",
    "wing_params.solve_for('S', b=311,AR=9.5)"
   ]
  },
  {
   "cell_type": "code",
   "execution_count": 31,
   "id": "3503f8a7-deb5-47ce-a1cb-898b623492e9",
   "metadata": {},
   "outputs": [
    {
     "data": {
      "text/plain": [
       "np.float64(1428.7203941862645)"
      ]
     },
     "execution_count": 31,
     "metadata": {},
     "output_type": "execute_result"
    }
   ],
   "source": [
    "def find_poly_coeffs(weight,rho,C_D0,S,T_A0,e,AR):\n",
    "    A = rho*C_D0*S / 2.\n",
    "    B = -T_A0\n",
    "    C = 2 * weight **2. / rho / S / e / AR / np.pi\n",
    "    return A,B,C\n",
    "\n",
    "\n",
    "def V0max_at_sea(weight,rho,C_D0,S,T_A0,e,AR):\n",
    "    A,B,C = find_poly_coeffs(weight,rho,C_D0,S,T_A0,e,AR)\n",
    "    roots = max(np.roots([A,B,C]))\n",
    "    V0 = roots**.5    \n",
    "    return V0\n",
    "\n",
    "def RCmax(weight,rho,C_D0,S,T_A0,e,AR):\n",
    "    A,B,C = find_poly_coeffs(weight,rho,C_D0,S,T_A0,e,AR)\n",
    "    roots = max(np.roots([3*A,B,-C]))\n",
    "    V0 = roots**.5\n",
    "    RC_max = (A*V0**3 + B * V0 + C/V0) / (-weight)\n",
    "    return RC_max\n",
    "\n",
    "def max_ceil_sigma(weight,rho,C_D0,S,T_A0,e,AR):\n",
    "    A,B,C = find_poly_coeffs(weight,rho,C_D0,S,T_A0,e,AR)\n",
    "    sigma_max = np.sqrt(4*A*C/B**2)\n",
    "    return sigma_max"
   ]
  },
  {
   "cell_type": "code",
   "execution_count": 35,
   "id": "da1503a7-a599-4e6a-a61c-c6c3e496dd76",
   "metadata": {},
   "outputs": [],
   "source": [
    "def Cl(W,rho,V,S):\n",
    "    return 2*W / rho / V**2 / S\n",
    "    \n",
    "def Cd(C_D0,W,rho,V,S,e,AR):\n",
    "    return C_D0 + Cl(W,rho,V,S)**2 / np.pi / e /AR\n",
    "    \n",
    "def cruise_range(TSFC,rho,V,S,C_D0,e,AR,W_init,W_final):\n",
    "    Cl_init = Cl(W_init,rho,V,S)\n",
    "    Cl_final = Cl(W_final,rho,V,S)\n",
    "    Cd_init = Cd(C_D0,W_init,rho,V,S,e,AR)\n",
    "    Cd_final = Cd(C_D0,W_final,rho,V,S,e,AR)\n",
    "\n",
    "    Cl_Cd_ratio = 0.5 * (np.sqrt(Cl_init)/Cd_init + np.sqrt(Cl_final)/Cd_final)\n",
    "    \n",
    "    cruise_range = (2/TSFC) *\\\n",
    "    sp.sqrt(2 / (rho*S)) *\\\n",
    "    Cl_Cd_ratio *\\\n",
    "    (sp.sqrt(Wi)-sp.sqrt(Wf))\n",
    "    return cruise_range"
   ]
  },
  {
   "cell_type": "code",
   "execution_count": null,
   "id": "44a48067-b111-44c9-b0d9-9211102c9213",
   "metadata": {},
   "outputs": [],
   "source": [
    "def V_stall(weight, rho, S, Clmax):\n",
    "    return np.sqrt(\n",
    "        2*weight / rho / S / Clmax\n",
    "    )\n",
    "\n",
    "def takeoff_distance(weight, S, C_D0, rho, Clmax, Ts,\n",
    "                    h_obstacle = 35):\n",
    "    V_1 = 1.2 * V_stall(weight, rho, S, Clmax)\n",
    "    D_1 = C_D0*rho**(V_1**2)*S/2\n",
    "    F_1 = (Ts - D_1)\n",
    "    F_s = (Ts - mu*W)\n",
    "    S_1 = W/2/g*(V_1**2)/(F_s - F_1)*np.log(F_s/F_1)\n",
    "    A,_,C = find_poly_coeffs(weight,rho,C_D0,S,T_A0,e,AR):\n",
    "    P_R = A * V_1**3 + C / V_1\n",
    "    P_A = V_1 * Ts\n",
    "    RC = (P_A - P_R) / weight\n",
    "    S_2 = h_obstacle / RC * V_1\n",
    "    takeoff_distance = S_1 + S_2"
   ]
  }
 ],
 "metadata": {
  "kernelspec": {
   "display_name": "vault-kernel",
   "language": "python",
   "name": "vault-kernel"
  },
  "language_info": {
   "codemirror_mode": {
    "name": "ipython",
    "version": 3
   },
   "file_extension": ".py",
   "mimetype": "text/x-python",
   "name": "python",
   "nbconvert_exporter": "python",
   "pygments_lexer": "ipython3",
   "version": "3.13.1"
  }
 },
 "nbformat": 4,
 "nbformat_minor": 5
}
