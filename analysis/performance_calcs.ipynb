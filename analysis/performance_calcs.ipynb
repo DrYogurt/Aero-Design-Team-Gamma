{
 "cells": [
  {
   "cell_type": "code",
   "execution_count": 1,
   "id": "8fc618b7-3527-42a0-b1b1-2f3fa4ceb47a",
   "metadata": {},
   "outputs": [],
   "source": [
    "import sympy as sp\n",
    "\n",
    "cT, Cl, Cd, Wi, Wf = sp.symbols(\"c_T C_L C_D W_i W_f\")\n",
    "cl_rat = sp.symbols(\"\\\\frac{C_L^{1/2}}{C_D}\")\n",
    "E, R, S, rho = sp.symbols(\"E R S \\\\rho_\\\\infty\")"
   ]
  },
  {
   "cell_type": "code",
   "execution_count": 2,
   "id": "120169f5-383b-4b0e-8357-aca8ed8b3c6e",
   "metadata": {},
   "outputs": [
    {
     "data": {
      "text/latex": [
       "$\\displaystyle R = \\frac{2 \\sqrt{2} \\frac{C_L^{1/2}}{C_D} \\sqrt{\\frac{1}{S \\rho_{\\infty}}} \\left(- \\sqrt{W_{f}} + \\sqrt{W_{i}}\\right)}{c_{T}}$"
      ],
      "text/plain": [
       "Eq(R, 2*sqrt(2)*\\frac{C_L^{1/2}}{C_D}*sqrt(1/(S*\\rho_\\infty))*(-sqrt(W_f) + sqrt(W_i))/c_T)"
      ]
     },
     "metadata": {},
     "output_type": "display_data"
    },
    {
     "data": {
      "text/latex": [
       "$\\displaystyle E = \\frac{C_{L} \\log{\\left(\\frac{W_{i}}{W_{f}} \\right)}}{C_{D} c_{T}}$"
      ],
      "text/plain": [
       "Eq(E, C_L*log(W_i/W_f)/(C_D*c_T))"
      ]
     },
     "metadata": {},
     "output_type": "display_data"
    }
   ],
   "source": [
    "rang = sp.Eq(\n",
    "    R,\n",
    "    (2/cT) * sp.sqrt(2 / (rho*S)) * cl_rat * (sp.sqrt(Wi)-sp.sqrt(Wf))\n",
    ")\n",
    "endur = sp.Eq(\n",
    "    E,\n",
    "    (1/cT) * Cl / Cd * sp.log(Wi/Wf)\n",
    ")\n",
    "display(rang)\n",
    "display(endur)"
   ]
  },
  {
   "cell_type": "code",
   "execution_count": 3,
   "id": "a4cd83bc-ded6-4e5f-8213-cab73909c93c",
   "metadata": {},
   "outputs": [
    {
     "data": {
      "text/latex": [
       "$\\displaystyle \\frac{2 \\sqrt{2} \\frac{C_L^{1/2}}{C_D} \\sqrt{\\frac{1}{S \\rho_{\\infty}}} \\left(- \\sqrt{W_{f}} + \\sqrt{W_{i}}\\right)}{R}$"
      ],
      "text/plain": [
       "2*sqrt(2)*\\frac{C_L^{1/2}}{C_D}*sqrt(1/(S*\\rho_\\infty))*(-sqrt(W_f) + sqrt(W_i))/R"
      ]
     },
     "metadata": {},
     "output_type": "display_data"
    }
   ],
   "source": [
    "cT_eq = sp.solve(rang,cT)[0]\n",
    "display(cT_eq)"
   ]
  },
  {
   "cell_type": "code",
   "execution_count": 4,
   "id": "f6f48713-a8f8-40cc-bcbd-ec027650513e",
   "metadata": {},
   "outputs": [],
   "source": [
    "cT_num = sp.lambdify([cl_rat,S,rho,Wf,Wi,R],cT_eq,'numpy')\n",
    "E_num = sp.lambdify([Cl,Cd,cT,Wf,Wi],endur,'numpy')"
   ]
  },
  {
   "cell_type": "code",
   "execution_count": 5,
   "id": "db8fce4b-6013-4fe8-b76b-cc351094e5de",
   "metadata": {},
   "outputs": [
    {
     "name": "stdout",
     "output_type": "stream",
     "text": [
      "9000.0\n",
      "1.002669293660216 0.06368544732709355 15.72311728035463\n",
      "0.501334646830108 0.03842136183177339 18.428547461996857\n",
      "17.075832371175743\n"
     ]
    }
   ],
   "source": [
    "AR = 10 #wing is too small, Cl is too big.\n",
    "b = 300\n",
    "S  = b**2 / AR\n",
    "print(S)\n",
    "rho_inf = 7.38e-4\n",
    "V = 775 # ft / s\n",
    "W = 2e6\n",
    "\n",
    "Cd_0 = 0.03 #get it under .025 to .02\n",
    "e = 0.95 #might be a little high, start with .9\n",
    "\n",
    "# start with high aspect ratio\n",
    "Cd_func  = lambda Cl : Cd_0 + Cl**2 / (3.14159 * e * AR)\n",
    "\n",
    "Cl_init = 2*W / (rho_inf * V**2 * S)\n",
    "Cd_init = Cd_func(Cl_init)\n",
    "print(Cl_init,Cd_init, Cl_init**0.5/Cd_init)\n",
    "\n",
    "Cl_final = 2*(W-1e6) / (rho_inf * V**2 * S)\n",
    "Cd_final = Cd_func(Cl_final)\n",
    "print(Cl_final,Cd_final,Cl_final**0.5/Cd_final)\n",
    "\n",
    "ratio_averages = 0.5 * (Cl_init**0.5/Cd_init + Cl_final**0.5/Cd_final)\n",
    "print(ratio_averages)"
   ]
  },
  {
   "cell_type": "code",
   "execution_count": 6,
   "id": "2661bff0-7e35-4b9c-b02b-db0e0d1ea4bd",
   "metadata": {},
   "outputs": [
    {
     "name": "stdout",
     "output_type": "stream",
     "text": [
      "0.45994745534250586\n"
     ]
    }
   ],
   "source": [
    "range_ft = 11507 * 5280 #converting miles to ft\n",
    "range_estimate = cT_num(ratio_averages,S,rho_inf,1e6,2e6,range_ft) *3600\n",
    "print(range_estimate)"
   ]
  },
  {
   "cell_type": "code",
   "execution_count": 7,
   "id": "11a13ca7-4549-4cb7-8bb8-2fb64e9d9601",
   "metadata": {},
   "outputs": [
    {
     "name": "stdout",
     "output_type": "stream",
     "text": [
      "False\n"
     ]
    }
   ],
   "source": [
    "bleh = E_num(0.5*(Cl_init + Cl_final),0.5*(Cd_init + Cd_final),range_estimate,1e6,2e6)\n",
    "print(bleh)"
   ]
  },
  {
   "cell_type": "code",
   "execution_count": 8,
   "id": "4288e4c2-9af2-4f72-87f1-d6c8f57f15be",
   "metadata": {},
   "outputs": [
    {
     "name": "stdout",
     "output_type": "stream",
     "text": [
      "V_stall: 322.3660295475886\n",
      "[506877.5727383]\n"
     ]
    }
   ],
   "source": [
    "import numpy as np\n",
    "from scipy.optimize import fsolve\n",
    "\n",
    "mu = 0.02\n",
    "gross_takeoff_weight = W = 2e6\n",
    "rho_0 = 2.376e-3\n",
    "Clmax = 1.8 # 2.5 is too high\n",
    "V_stall = np.sqrt(2*W / (Clmax * rho_0 * S))\n",
    "print(f\"V_stall: {V_stall}\")\n",
    "def ground_roll(T):\n",
    "    V1 = (1.2 * V_stall)\n",
    "    D = Cd_0 * 0.5 * rho_0 * V1**2 * S\n",
    "    F_S = T - mu * W\n",
    "    F_1 = T - D\n",
    "    S_GR = W / 2 / 32.33 * V1**2 /  (F_S-F_1) * np.log(F_S / F_1)\n",
    "    return S_GR\n",
    "\n",
    "out = fsolve(lambda T: ground_roll(T) - 1e4, x0 = 1e5)\n",
    "print(out)"
   ]
  }
 ],
 "metadata": {
  "kernelspec": {
   "display_name": "vault-kernel",
   "language": "python",
   "name": "vault-kernel"
  },
  "language_info": {
   "codemirror_mode": {
    "name": "ipython",
    "version": 3
   },
   "file_extension": ".py",
   "mimetype": "text/x-python",
   "name": "python",
   "nbconvert_exporter": "python",
   "pygments_lexer": "ipython3",
   "version": "3.13.1"
  }
 },
 "nbformat": 4,
 "nbformat_minor": 5
}
