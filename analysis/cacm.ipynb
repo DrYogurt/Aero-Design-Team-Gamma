{
 "cells": [
  {
   "cell_type": "code",
   "execution_count": 1,
   "metadata": {},
   "outputs": [],
   "source": [
    "from ambiance import Atmosphere\n",
    "import numpy as np\n",
    "\n",
    "from global_variables.solver import EquationSystem\n",
    "from global_variables.registry import VariableRegistry, Variable\n",
    "\n",
    "registry = VariableRegistry(\"aero_vars.yaml\")"
   ]
  },
  {
   "cell_type": "code",
   "execution_count": 3,
   "metadata": {},
   "outputs": [],
   "source": [
    "def velocity(M,h):\n",
    "  atmo = Atmosphere(h * 0.3048)\n",
    "  return atmo.speed_of_sound[-1] * M / 0.3048\n",
    "def rho_func(h):\n",
    "  atmo = Atmosphere(h * 0.3048)\n",
    "  return atmo.density[-1] * 0.00194032"
   ]
  },
  {
   "cell_type": "code",
   "execution_count": null,
   "metadata": {},
   "outputs": [],
   "source": [
    "C_D0 = 0.017\n",
    "C_L_full = .65\n",
    "C_D_full = \n",
    "C_L_empty = \n",
    "C_D_empty = \n",
    "TSFC = .455\n",
    "rho_h = 0.0023769\n",
    "S_ = 9540.865\n",
    "W_max = 2e6\n",
    "W_f = 1e6\n",
    "CL_CDratio = 0.5 * ((C_L_full)**(1/2)/C_D_full + (C_L_empty)**(1/2)/C_D_empty)\n",
    "(2/TSFC) * (2/(rho_h*S_))**(1/2) * CL_CDratio * ((W_max)**(1/2)-(W_max-W_f)**(1/2))\n"
   ]
  }
 ],
 "metadata": {
  "kernelspec": {
   "display_name": "aerospace-design-team-gamma-QogS2DLM-py3.13",
   "language": "python",
   "name": "python3"
  },
  "language_info": {
   "codemirror_mode": {
    "name": "ipython",
    "version": 3
   },
   "file_extension": ".py",
   "mimetype": "text/x-python",
   "name": "python",
   "nbconvert_exporter": "python",
   "pygments_lexer": "ipython3",
   "version": "3.13.2"
  }
 },
 "nbformat": 4,
 "nbformat_minor": 2
}
